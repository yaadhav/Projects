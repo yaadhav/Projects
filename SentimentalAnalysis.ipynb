{
 "cells": [
  {
   "cell_type": "markdown",
   "id": "77c6cdab-4a12-4649-b8c1-bcb8e33264e4",
   "metadata": {},
   "source": [
    "# Importing Libraries"
   ]
  },
  {
   "cell_type": "code",
   "execution_count": 1,
   "id": "03cabb37",
   "metadata": {},
   "outputs": [],
   "source": [
    "import pandas as pd\n",
    "import numpy as np\n",
    "import matplotlib.pyplot as plt\n",
    "import seaborn as sns\n",
    "\n",
    "import nltk\n",
    "from nltk.sentiment import SentimentIntensityAnalyzer  \n",
    "\n",
    "from sklearn.model_selection import train_test_split\n",
    "\n",
    "from tqdm.notebook import tqdm\n",
    "\n",
    "from transformers import AutoTokenizer\n",
    "from transformers import AutoModelForSequenceClassification\n",
    "\n",
    "plt.style.use('ggplot')"
   ]
  },
  {
   "cell_type": "markdown",
   "id": "0b2313a3-49d4-488c-a83b-4cbdab70913f",
   "metadata": {},
   "source": [
    "# Data Preprcoessing"
   ]
  },
  {
   "cell_type": "code",
   "execution_count": 2,
   "id": "1f468fdf",
   "metadata": {},
   "outputs": [
    {
     "data": {
      "text/html": [
       "<div>\n",
       "<style scoped>\n",
       "    .dataframe tbody tr th:only-of-type {\n",
       "        vertical-align: middle;\n",
       "    }\n",
       "\n",
       "    .dataframe tbody tr th {\n",
       "        vertical-align: top;\n",
       "    }\n",
       "\n",
       "    .dataframe thead th {\n",
       "        text-align: right;\n",
       "    }\n",
       "</style>\n",
       "<table border=\"1\" class=\"dataframe\">\n",
       "  <thead>\n",
       "    <tr style=\"text-align: right;\">\n",
       "      <th></th>\n",
       "      <th>Id</th>\n",
       "      <th>ProductId</th>\n",
       "      <th>UserId</th>\n",
       "      <th>ProfileName</th>\n",
       "      <th>HelpfulnessNumerator</th>\n",
       "      <th>HelpfulnessDenominator</th>\n",
       "      <th>Score</th>\n",
       "      <th>Time</th>\n",
       "      <th>Summary</th>\n",
       "      <th>Text</th>\n",
       "    </tr>\n",
       "  </thead>\n",
       "  <tbody>\n",
       "    <tr>\n",
       "      <th>0</th>\n",
       "      <td>1</td>\n",
       "      <td>B001E4KFG0</td>\n",
       "      <td>A3SGXH7AUHU8GW</td>\n",
       "      <td>delmartian</td>\n",
       "      <td>1</td>\n",
       "      <td>1</td>\n",
       "      <td>5</td>\n",
       "      <td>1303862400</td>\n",
       "      <td>Good Quality Dog Food</td>\n",
       "      <td>I have bought several of the Vitality canned d...</td>\n",
       "    </tr>\n",
       "    <tr>\n",
       "      <th>1</th>\n",
       "      <td>2</td>\n",
       "      <td>B00813GRG4</td>\n",
       "      <td>A1D87F6ZCVE5NK</td>\n",
       "      <td>dll pa</td>\n",
       "      <td>0</td>\n",
       "      <td>0</td>\n",
       "      <td>1</td>\n",
       "      <td>1346976000</td>\n",
       "      <td>Not as Advertised</td>\n",
       "      <td>Product arrived labeled as Jumbo Salted Peanut...</td>\n",
       "    </tr>\n",
       "    <tr>\n",
       "      <th>2</th>\n",
       "      <td>3</td>\n",
       "      <td>B000LQOCH0</td>\n",
       "      <td>ABXLMWJIXXAIN</td>\n",
       "      <td>Natalia Corres \"Natalia Corres\"</td>\n",
       "      <td>1</td>\n",
       "      <td>1</td>\n",
       "      <td>4</td>\n",
       "      <td>1219017600</td>\n",
       "      <td>\"Delight\" says it all</td>\n",
       "      <td>This is a confection that has been around a fe...</td>\n",
       "    </tr>\n",
       "    <tr>\n",
       "      <th>3</th>\n",
       "      <td>4</td>\n",
       "      <td>B000UA0QIQ</td>\n",
       "      <td>A395BORC6FGVXV</td>\n",
       "      <td>Karl</td>\n",
       "      <td>3</td>\n",
       "      <td>3</td>\n",
       "      <td>2</td>\n",
       "      <td>1307923200</td>\n",
       "      <td>Cough Medicine</td>\n",
       "      <td>If you are looking for the secret ingredient i...</td>\n",
       "    </tr>\n",
       "    <tr>\n",
       "      <th>4</th>\n",
       "      <td>5</td>\n",
       "      <td>B006K2ZZ7K</td>\n",
       "      <td>A1UQRSCLF8GW1T</td>\n",
       "      <td>Michael D. Bigham \"M. Wassir\"</td>\n",
       "      <td>0</td>\n",
       "      <td>0</td>\n",
       "      <td>5</td>\n",
       "      <td>1350777600</td>\n",
       "      <td>Great taffy</td>\n",
       "      <td>Great taffy at a great price.  There was a wid...</td>\n",
       "    </tr>\n",
       "  </tbody>\n",
       "</table>\n",
       "</div>"
      ],
      "text/plain": [
       "   Id   ProductId          UserId                      ProfileName  \\\n",
       "0   1  B001E4KFG0  A3SGXH7AUHU8GW                       delmartian   \n",
       "1   2  B00813GRG4  A1D87F6ZCVE5NK                           dll pa   \n",
       "2   3  B000LQOCH0   ABXLMWJIXXAIN  Natalia Corres \"Natalia Corres\"   \n",
       "3   4  B000UA0QIQ  A395BORC6FGVXV                             Karl   \n",
       "4   5  B006K2ZZ7K  A1UQRSCLF8GW1T    Michael D. Bigham \"M. Wassir\"   \n",
       "\n",
       "   HelpfulnessNumerator  HelpfulnessDenominator  Score        Time  \\\n",
       "0                     1                       1      5  1303862400   \n",
       "1                     0                       0      1  1346976000   \n",
       "2                     1                       1      4  1219017600   \n",
       "3                     3                       3      2  1307923200   \n",
       "4                     0                       0      5  1350777600   \n",
       "\n",
       "                 Summary                                               Text  \n",
       "0  Good Quality Dog Food  I have bought several of the Vitality canned d...  \n",
       "1      Not as Advertised  Product arrived labeled as Jumbo Salted Peanut...  \n",
       "2  \"Delight\" says it all  This is a confection that has been around a fe...  \n",
       "3         Cough Medicine  If you are looking for the secret ingredient i...  \n",
       "4            Great taffy  Great taffy at a great price.  There was a wid...  "
      ]
     },
     "execution_count": 2,
     "metadata": {},
     "output_type": "execute_result"
    }
   ],
   "source": [
    "data = pd.read_csv(\"Reviews.csv\")\n",
    "data.head()"
   ]
  },
  {
   "cell_type": "code",
   "execution_count": 3,
   "id": "dffd6933-e101-4fa4-87d9-40271c32ccc6",
   "metadata": {},
   "outputs": [
    {
     "data": {
      "text/html": [
       "<div>\n",
       "<style scoped>\n",
       "    .dataframe tbody tr th:only-of-type {\n",
       "        vertical-align: middle;\n",
       "    }\n",
       "\n",
       "    .dataframe tbody tr th {\n",
       "        vertical-align: top;\n",
       "    }\n",
       "\n",
       "    .dataframe thead th {\n",
       "        text-align: right;\n",
       "    }\n",
       "</style>\n",
       "<table border=\"1\" class=\"dataframe\">\n",
       "  <thead>\n",
       "    <tr style=\"text-align: right;\">\n",
       "      <th></th>\n",
       "      <th>Id</th>\n",
       "      <th>Score</th>\n",
       "      <th>Summary</th>\n",
       "      <th>Text</th>\n",
       "    </tr>\n",
       "  </thead>\n",
       "  <tbody>\n",
       "    <tr>\n",
       "      <th>0</th>\n",
       "      <td>1</td>\n",
       "      <td>5</td>\n",
       "      <td>Good Quality Dog Food</td>\n",
       "      <td>I have bought several of the Vitality canned d...</td>\n",
       "    </tr>\n",
       "    <tr>\n",
       "      <th>1</th>\n",
       "      <td>2</td>\n",
       "      <td>1</td>\n",
       "      <td>Not as Advertised</td>\n",
       "      <td>Product arrived labeled as Jumbo Salted Peanut...</td>\n",
       "    </tr>\n",
       "    <tr>\n",
       "      <th>2</th>\n",
       "      <td>3</td>\n",
       "      <td>4</td>\n",
       "      <td>\"Delight\" says it all</td>\n",
       "      <td>This is a confection that has been around a fe...</td>\n",
       "    </tr>\n",
       "    <tr>\n",
       "      <th>3</th>\n",
       "      <td>4</td>\n",
       "      <td>2</td>\n",
       "      <td>Cough Medicine</td>\n",
       "      <td>If you are looking for the secret ingredient i...</td>\n",
       "    </tr>\n",
       "    <tr>\n",
       "      <th>4</th>\n",
       "      <td>5</td>\n",
       "      <td>5</td>\n",
       "      <td>Great taffy</td>\n",
       "      <td>Great taffy at a great price.  There was a wid...</td>\n",
       "    </tr>\n",
       "  </tbody>\n",
       "</table>\n",
       "</div>"
      ],
      "text/plain": [
       "   Id  Score                Summary  \\\n",
       "0   1      5  Good Quality Dog Food   \n",
       "1   2      1      Not as Advertised   \n",
       "2   3      4  \"Delight\" says it all   \n",
       "3   4      2         Cough Medicine   \n",
       "4   5      5            Great taffy   \n",
       "\n",
       "                                                Text  \n",
       "0  I have bought several of the Vitality canned d...  \n",
       "1  Product arrived labeled as Jumbo Salted Peanut...  \n",
       "2  This is a confection that has been around a fe...  \n",
       "3  If you are looking for the secret ingredient i...  \n",
       "4  Great taffy at a great price.  There was a wid...  "
      ]
     },
     "execution_count": 3,
     "metadata": {},
     "output_type": "execute_result"
    }
   ],
   "source": [
    "data.drop(['ProductId', 'UserId', 'ProfileName', 'HelpfulnessNumerator', 'HelpfulnessDenominator', 'Time'], axis=1, inplace=True)\n",
    "data.head()"
   ]
  },
  {
   "cell_type": "code",
   "execution_count": 4,
   "id": "d392b11b-cc03-4a64-aac4-20b17ef65e54",
   "metadata": {},
   "outputs": [
    {
     "data": {
      "text/plain": [
       "(568454, 4)"
      ]
     },
     "execution_count": 4,
     "metadata": {},
     "output_type": "execute_result"
    }
   ],
   "source": [
    "data.shape"
   ]
  },
  {
   "cell_type": "code",
   "execution_count": 5,
   "id": "c43fca27-e23b-45ff-aa4e-f70286a4fe96",
   "metadata": {},
   "outputs": [
    {
     "data": {
      "text/plain": [
       "((56845, 4), (511609, 4))"
      ]
     },
     "execution_count": 5,
     "metadata": {},
     "output_type": "execute_result"
    }
   ],
   "source": [
    "# STRATIFIED SAMPLING\n",
    "train, test = train_test_split(data, test_size=0.9, stratify=data['Score'], random_state=42)\n",
    "train.shape, test.shape"
   ]
  },
  {
   "cell_type": "code",
   "execution_count": 6,
   "id": "b2fd71cf-9542-42e7-819f-7315b7dc000c",
   "metadata": {},
   "outputs": [
    {
     "data": {
      "text/html": [
       "<div>\n",
       "<style scoped>\n",
       "    .dataframe tbody tr th:only-of-type {\n",
       "        vertical-align: middle;\n",
       "    }\n",
       "\n",
       "    .dataframe tbody tr th {\n",
       "        vertical-align: top;\n",
       "    }\n",
       "\n",
       "    .dataframe thead th {\n",
       "        text-align: right;\n",
       "    }\n",
       "</style>\n",
       "<table border=\"1\" class=\"dataframe\">\n",
       "  <thead>\n",
       "    <tr style=\"text-align: right;\">\n",
       "      <th></th>\n",
       "      <th>Id</th>\n",
       "      <th>Score</th>\n",
       "      <th>Summary</th>\n",
       "      <th>Text</th>\n",
       "    </tr>\n",
       "  </thead>\n",
       "  <tbody>\n",
       "    <tr>\n",
       "      <th>284989</th>\n",
       "      <td>284990</td>\n",
       "      <td>2</td>\n",
       "      <td>Amazon sent the wrong dressing</td>\n",
       "      <td>Apparently I am not the first customer to have...</td>\n",
       "    </tr>\n",
       "    <tr>\n",
       "      <th>323737</th>\n",
       "      <td>323738</td>\n",
       "      <td>5</td>\n",
       "      <td>Shepherd and Cattle Dog Love It!</td>\n",
       "      <td>We bought the large cube because of our 97lb. ...</td>\n",
       "    </tr>\n",
       "    <tr>\n",
       "      <th>273537</th>\n",
       "      <td>273538</td>\n",
       "      <td>5</td>\n",
       "      <td>Not difficult to get a refund if you were tric...</td>\n",
       "      <td>First off I have no idea how good these \"pods\"...</td>\n",
       "    </tr>\n",
       "    <tr>\n",
       "      <th>481023</th>\n",
       "      <td>481024</td>\n",
       "      <td>5</td>\n",
       "      <td>Great Smoked paprika</td>\n",
       "      <td>I use the La Tienda Smoked Paprikas to make gr...</td>\n",
       "    </tr>\n",
       "    <tr>\n",
       "      <th>40183</th>\n",
       "      <td>40184</td>\n",
       "      <td>1</td>\n",
       "      <td>It will be thrown away.  Looks like a weed.</td>\n",
       "      <td>I must have gotten the scraps.  My tree was ab...</td>\n",
       "    </tr>\n",
       "  </tbody>\n",
       "</table>\n",
       "</div>"
      ],
      "text/plain": [
       "            Id  Score                                            Summary  \\\n",
       "284989  284990      2                     Amazon sent the wrong dressing   \n",
       "323737  323738      5                   Shepherd and Cattle Dog Love It!   \n",
       "273537  273538      5  Not difficult to get a refund if you were tric...   \n",
       "481023  481024      5                               Great Smoked paprika   \n",
       "40183    40184      1        It will be thrown away.  Looks like a weed.   \n",
       "\n",
       "                                                     Text  \n",
       "284989  Apparently I am not the first customer to have...  \n",
       "323737  We bought the large cube because of our 97lb. ...  \n",
       "273537  First off I have no idea how good these \"pods\"...  \n",
       "481023  I use the La Tienda Smoked Paprikas to make gr...  \n",
       "40183   I must have gotten the scraps.  My tree was ab...  "
      ]
     },
     "execution_count": 6,
     "metadata": {},
     "output_type": "execute_result"
    }
   ],
   "source": [
    "df = pd.DataFrame(train)\n",
    "df.head()"
   ]
  },
  {
   "cell_type": "code",
   "execution_count": 7,
   "id": "0d6de750",
   "metadata": {},
   "outputs": [
    {
     "data": {
      "text/plain": [
       "'My 9 year old terrier turns her nose up to most treats- human or dog- she is very picky! She lives these! The vet recommended these and they are cheaper on amazon. Win win!'"
      ]
     },
     "execution_count": 7,
     "metadata": {},
     "output_type": "execute_result"
    }
   ],
   "source": [
    "sample_txt = df['Text'].sample().values[0]\n",
    "sample_txt"
   ]
  },
  {
   "cell_type": "code",
   "execution_count": 8,
   "id": "19a028c0",
   "metadata": {},
   "outputs": [
    {
     "data": {
      "image/png": "[encoded data removed]",
      "text/plain": [
       "<Figure size 2000x800 with 2 Axes>"
      ]
     },
     "metadata": {},
     "output_type": "display_data"
    }
   ],
   "source": [
    "plt.figure(figsize=(20,8))\n",
    "\n",
    "plt.subplot( 1, 2, 1)\n",
    "sns.histplot( x='Score', data=data, binwidth=1, binrange=(0.5,5.5))\n",
    "plt.title('COUNT OF REVIEW BY STARS IN ORIGINAL DATA')\n",
    "\n",
    "plt.xlabel('Review Stars')\n",
    "plt.xticks([1, 2, 3, 4, 5])\n",
    "\n",
    "plt.subplot( 1, 2, 2)\n",
    "sns.histplot( x='Score', data=df, binwidth=1, binrange=(0.5,5.5))\n",
    "plt.title('COUNT OF REVIEW BY STARS AFTER SMAPLING')\n",
    "\n",
    "plt.xlabel('Review Stars')\n",
    "plt.xticks([1, 2, 3, 4, 5])\n",
    "\n",
    "plt.show()"
   ]
  },
  {
   "cell_type": "markdown",
   "id": "9979a819-6601-47a2-945b-174a7ec3e52b",
   "metadata": {},
   "source": [
    "# Classifying Reviews using VADER Model"
   ]
  },
  {
   "cell_type": "code",
   "execution_count": 9,
   "id": "3cd1a241",
   "metadata": {},
   "outputs": [],
   "source": [
    "sia = SentimentIntensityAnalyzer()"
   ]
  },
  {
   "cell_type": "code",
   "execution_count": 10,
   "id": "cd7c711d",
   "metadata": {},
   "outputs": [
    {
     "data": {
      "text/plain": [
       "{'neg': 0.0, 'neu': 0.334, 'pos': 0.666, 'compound': 0.6114}"
      ]
     },
     "execution_count": 10,
     "metadata": {},
     "output_type": "execute_result"
    }
   ],
   "source": [
    "sia.polarity_scores(\"This is delicious!\")"
   ]
  },
  {
   "cell_type": "code",
   "execution_count": 11,
   "id": "bfff7c1e",
   "metadata": {},
   "outputs": [
    {
     "data": {
      "text/plain": [
       "{'neg': 0.333, 'neu': 0.667, 'pos': 0.0, 'compound': -0.4585}"
      ]
     },
     "execution_count": 11,
     "metadata": {},
     "output_type": "execute_result"
    }
   ],
   "source": [
    "sia.polarity_scores(\"I am not happy with the service provided\")"
   ]
  },
  {
   "cell_type": "code",
   "execution_count": 12,
   "id": "27ed763b-0017-477f-a54c-d5959026b6d0",
   "metadata": {},
   "outputs": [
    {
     "data": {
      "text/plain": [
       "'My 9 year old terrier turns her nose up to most treats- human or dog- she is very picky! She lives these! The vet recommended these and they are cheaper on amazon. Win win!'"
      ]
     },
     "execution_count": 12,
     "metadata": {},
     "output_type": "execute_result"
    }
   ],
   "source": [
    "sample_txt"
   ]
  },
  {
   "cell_type": "code",
   "execution_count": 13,
   "id": "18dfcfb3-da06-411c-bab6-20776ac5acc4",
   "metadata": {},
   "outputs": [
    {
     "data": {
      "text/plain": [
       "{'neg': 0.0, 'neu': 0.708, 'pos': 0.292, 'compound': 0.8996}"
      ]
     },
     "execution_count": 13,
     "metadata": {},
     "output_type": "execute_result"
    }
   ],
   "source": [
    "sia.polarity_scores(sample_txt)"
   ]
  },
  {
   "cell_type": "code",
   "execution_count": 14,
   "id": "fbbefd75-de2b-4783-bc3d-b0e143095308",
   "metadata": {},
   "outputs": [
    {
     "data": {
      "application/vnd.jupyter.widget-view+json": {
       "model_id": "d09eaa1210a54bec937cff5e23fe6433",
       "version_major": 2,
       "version_minor": 0
      },
      "text/plain": [
       "  0%|          | 0/56845 [00:00<?, ?it/s]"
      ]
     },
     "metadata": {},
     "output_type": "display_data"
    }
   ],
   "source": [
    "res={}\n",
    "for i, row in tqdm(df.iterrows(),total=len(df)):\n",
    "    id, text = row['Id'], row['Text']\n",
    "    res[id] = sia.polarity_scores(text)\n",
    "    "
   ]
  },
  {
   "cell_type": "code",
   "execution_count": 15,
   "id": "cd7929de",
   "metadata": {},
   "outputs": [
    {
     "data": {
      "text/html": [
       "<div>\n",
       "<style scoped>\n",
       "    .dataframe tbody tr th:only-of-type {\n",
       "        vertical-align: middle;\n",
       "    }\n",
       "\n",
       "    .dataframe tbody tr th {\n",
       "        vertical-align: top;\n",
       "    }\n",
       "\n",
       "    .dataframe thead th {\n",
       "        text-align: right;\n",
       "    }\n",
       "</style>\n",
       "<table border=\"1\" class=\"dataframe\">\n",
       "  <thead>\n",
       "    <tr style=\"text-align: right;\">\n",
       "      <th></th>\n",
       "      <th>neg</th>\n",
       "      <th>neu</th>\n",
       "      <th>pos</th>\n",
       "      <th>compound</th>\n",
       "    </tr>\n",
       "  </thead>\n",
       "  <tbody>\n",
       "    <tr>\n",
       "      <th>284990</th>\n",
       "      <td>0.093</td>\n",
       "      <td>0.907</td>\n",
       "      <td>0.000</td>\n",
       "      <td>-0.3570</td>\n",
       "    </tr>\n",
       "    <tr>\n",
       "      <th>323738</th>\n",
       "      <td>0.074</td>\n",
       "      <td>0.843</td>\n",
       "      <td>0.083</td>\n",
       "      <td>0.6474</td>\n",
       "    </tr>\n",
       "    <tr>\n",
       "      <th>273538</th>\n",
       "      <td>0.026</td>\n",
       "      <td>0.842</td>\n",
       "      <td>0.132</td>\n",
       "      <td>0.8439</td>\n",
       "    </tr>\n",
       "    <tr>\n",
       "      <th>481024</th>\n",
       "      <td>0.000</td>\n",
       "      <td>0.886</td>\n",
       "      <td>0.114</td>\n",
       "      <td>0.6249</td>\n",
       "    </tr>\n",
       "    <tr>\n",
       "      <th>40184</th>\n",
       "      <td>0.222</td>\n",
       "      <td>0.747</td>\n",
       "      <td>0.031</td>\n",
       "      <td>-0.9454</td>\n",
       "    </tr>\n",
       "  </tbody>\n",
       "</table>\n",
       "</div>"
      ],
      "text/plain": [
       "          neg    neu    pos  compound\n",
       "284990  0.093  0.907  0.000   -0.3570\n",
       "323738  0.074  0.843  0.083    0.6474\n",
       "273538  0.026  0.842  0.132    0.8439\n",
       "481024  0.000  0.886  0.114    0.6249\n",
       "40184   0.222  0.747  0.031   -0.9454"
      ]
     },
     "execution_count": 15,
     "metadata": {},
     "output_type": "execute_result"
    }
   ],
   "source": [
    "vader = pd.DataFrame(res).T\n",
    "vader.head()"
   ]
  },
  {
   "cell_type": "code",
   "execution_count": 16,
   "id": "32d8a5e7",
   "metadata": {},
   "outputs": [
    {
     "data": {
      "text/html": [
       "<div>\n",
       "<style scoped>\n",
       "    .dataframe tbody tr th:only-of-type {\n",
       "        vertical-align: middle;\n",
       "    }\n",
       "\n",
       "    .dataframe tbody tr th {\n",
       "        vertical-align: top;\n",
       "    }\n",
       "\n",
       "    .dataframe thead th {\n",
       "        text-align: right;\n",
       "    }\n",
       "</style>\n",
       "<table border=\"1\" class=\"dataframe\">\n",
       "  <thead>\n",
       "    <tr style=\"text-align: right;\">\n",
       "      <th></th>\n",
       "      <th>Id</th>\n",
       "      <th>vader_neg</th>\n",
       "      <th>vader_neu</th>\n",
       "      <th>vader_pos</th>\n",
       "      <th>vader_comp</th>\n",
       "    </tr>\n",
       "  </thead>\n",
       "  <tbody>\n",
       "    <tr>\n",
       "      <th>0</th>\n",
       "      <td>284990</td>\n",
       "      <td>0.093</td>\n",
       "      <td>0.907</td>\n",
       "      <td>0.000</td>\n",
       "      <td>-0.3570</td>\n",
       "    </tr>\n",
       "    <tr>\n",
       "      <th>1</th>\n",
       "      <td>323738</td>\n",
       "      <td>0.074</td>\n",
       "      <td>0.843</td>\n",
       "      <td>0.083</td>\n",
       "      <td>0.6474</td>\n",
       "    </tr>\n",
       "    <tr>\n",
       "      <th>2</th>\n",
       "      <td>273538</td>\n",
       "      <td>0.026</td>\n",
       "      <td>0.842</td>\n",
       "      <td>0.132</td>\n",
       "      <td>0.8439</td>\n",
       "    </tr>\n",
       "    <tr>\n",
       "      <th>3</th>\n",
       "      <td>481024</td>\n",
       "      <td>0.000</td>\n",
       "      <td>0.886</td>\n",
       "      <td>0.114</td>\n",
       "      <td>0.6249</td>\n",
       "    </tr>\n",
       "    <tr>\n",
       "      <th>4</th>\n",
       "      <td>40184</td>\n",
       "      <td>0.222</td>\n",
       "      <td>0.747</td>\n",
       "      <td>0.031</td>\n",
       "      <td>-0.9454</td>\n",
       "    </tr>\n",
       "  </tbody>\n",
       "</table>\n",
       "</div>"
      ],
      "text/plain": [
       "       Id  vader_neg  vader_neu  vader_pos  vader_comp\n",
       "0  284990      0.093      0.907      0.000     -0.3570\n",
       "1  323738      0.074      0.843      0.083      0.6474\n",
       "2  273538      0.026      0.842      0.132      0.8439\n",
       "3  481024      0.000      0.886      0.114      0.6249\n",
       "4   40184      0.222      0.747      0.031     -0.9454"
      ]
     },
     "execution_count": 16,
     "metadata": {},
     "output_type": "execute_result"
    }
   ],
   "source": [
    "vader = vader.reset_index()\n",
    "vader = vader.rename(columns={'index':'Id', 'neg':\"vader_neg\", 'neu':\"vader_neu\", 'pos':\"vader_pos\", 'compound':'vader_comp'})\n",
    "vader.head()"
   ]
  },
  {
   "cell_type": "code",
   "execution_count": 17,
   "id": "e08ffbde",
   "metadata": {},
   "outputs": [
    {
     "data": {
      "text/html": [
       "<div>\n",
       "<style scoped>\n",
       "    .dataframe tbody tr th:only-of-type {\n",
       "        vertical-align: middle;\n",
       "    }\n",
       "\n",
       "    .dataframe tbody tr th {\n",
       "        vertical-align: top;\n",
       "    }\n",
       "\n",
       "    .dataframe thead th {\n",
       "        text-align: right;\n",
       "    }\n",
       "</style>\n",
       "<table border=\"1\" class=\"dataframe\">\n",
       "  <thead>\n",
       "    <tr style=\"text-align: right;\">\n",
       "      <th></th>\n",
       "      <th>Id</th>\n",
       "      <th>vader_neg</th>\n",
       "      <th>vader_neu</th>\n",
       "      <th>vader_pos</th>\n",
       "      <th>vader_comp</th>\n",
       "      <th>Score</th>\n",
       "      <th>Summary</th>\n",
       "      <th>Text</th>\n",
       "    </tr>\n",
       "  </thead>\n",
       "  <tbody>\n",
       "    <tr>\n",
       "      <th>0</th>\n",
       "      <td>284990</td>\n",
       "      <td>0.093</td>\n",
       "      <td>0.907</td>\n",
       "      <td>0.000</td>\n",
       "      <td>-0.3570</td>\n",
       "      <td>2</td>\n",
       "      <td>Amazon sent the wrong dressing</td>\n",
       "      <td>Apparently I am not the first customer to have...</td>\n",
       "    </tr>\n",
       "    <tr>\n",
       "      <th>1</th>\n",
       "      <td>323738</td>\n",
       "      <td>0.074</td>\n",
       "      <td>0.843</td>\n",
       "      <td>0.083</td>\n",
       "      <td>0.6474</td>\n",
       "      <td>5</td>\n",
       "      <td>Shepherd and Cattle Dog Love It!</td>\n",
       "      <td>We bought the large cube because of our 97lb. ...</td>\n",
       "    </tr>\n",
       "    <tr>\n",
       "      <th>2</th>\n",
       "      <td>273538</td>\n",
       "      <td>0.026</td>\n",
       "      <td>0.842</td>\n",
       "      <td>0.132</td>\n",
       "      <td>0.8439</td>\n",
       "      <td>5</td>\n",
       "      <td>Not difficult to get a refund if you were tric...</td>\n",
       "      <td>First off I have no idea how good these \"pods\"...</td>\n",
       "    </tr>\n",
       "    <tr>\n",
       "      <th>3</th>\n",
       "      <td>481024</td>\n",
       "      <td>0.000</td>\n",
       "      <td>0.886</td>\n",
       "      <td>0.114</td>\n",
       "      <td>0.6249</td>\n",
       "      <td>5</td>\n",
       "      <td>Great Smoked paprika</td>\n",
       "      <td>I use the La Tienda Smoked Paprikas to make gr...</td>\n",
       "    </tr>\n",
       "    <tr>\n",
       "      <th>4</th>\n",
       "      <td>40184</td>\n",
       "      <td>0.222</td>\n",
       "      <td>0.747</td>\n",
       "      <td>0.031</td>\n",
       "      <td>-0.9454</td>\n",
       "      <td>1</td>\n",
       "      <td>It will be thrown away.  Looks like a weed.</td>\n",
       "      <td>I must have gotten the scraps.  My tree was ab...</td>\n",
       "    </tr>\n",
       "  </tbody>\n",
       "</table>\n",
       "</div>"
      ],
      "text/plain": [
       "       Id  vader_neg  vader_neu  vader_pos  vader_comp  Score  \\\n",
       "0  284990      0.093      0.907      0.000     -0.3570      2   \n",
       "1  323738      0.074      0.843      0.083      0.6474      5   \n",
       "2  273538      0.026      0.842      0.132      0.8439      5   \n",
       "3  481024      0.000      0.886      0.114      0.6249      5   \n",
       "4   40184      0.222      0.747      0.031     -0.9454      1   \n",
       "\n",
       "                                             Summary  \\\n",
       "0                     Amazon sent the wrong dressing   \n",
       "1                   Shepherd and Cattle Dog Love It!   \n",
       "2  Not difficult to get a refund if you were tric...   \n",
       "3                               Great Smoked paprika   \n",
       "4        It will be thrown away.  Looks like a weed.   \n",
       "\n",
       "                                                Text  \n",
       "0  Apparently I am not the first customer to have...  \n",
       "1  We bought the large cube because of our 97lb. ...  \n",
       "2  First off I have no idea how good these \"pods\"...  \n",
       "3  I use the La Tienda Smoked Paprikas to make gr...  \n",
       "4  I must have gotten the scraps.  My tree was ab...  "
      ]
     },
     "execution_count": 17,
     "metadata": {},
     "output_type": "execute_result"
    }
   ],
   "source": [
    "vader = vader.merge(df, how='left', on='Id')\n",
    "vader.head()"
   ]
  },
  {
   "cell_type": "code",
   "execution_count": 18,
   "id": "6dbd8a06",
   "metadata": {},
   "outputs": [
    {
     "data": {
      "image/png": "[encoded data removed]",
      "text/plain": [
       "<Figure size 1200x400 with 3 Axes>"
      ]
     },
     "metadata": {},
     "output_type": "display_data"
    }
   ],
   "source": [
    "#Visualizing The Change In Scores With Respect To Star Ratings\n",
    "\n",
    "plt.figure(figsize=(12,4))\n",
    "\n",
    "plt.subplot( 1, 3, 1)\n",
    "sns.barplot( data=vader, x='Score', y='vader_pos', color='green')\n",
    "plt.title(\"Positive Scores\")\n",
    "\n",
    "plt.subplot( 1, 3, 2)\n",
    "sns.barplot( data=vader, x='Score', y='vader_neu', color='grey')\n",
    "plt.title(\"Neutral Scores\")\n",
    "\n",
    "plt.subplot( 1, 3, 3)\n",
    "sns.barplot( data=vader, x='Score', y='vader_neg', color='red')\n",
    "plt.title(\"Negative Scores\")\n",
    "\n",
    "plt.tight_layout()\n",
    "plt.show()"
   ]
  },
  {
   "cell_type": "code",
   "execution_count": 19,
   "id": "285b8275-4e4b-41a0-875a-5e078a51aef3",
   "metadata": {},
   "outputs": [
    {
     "data": {
      "text/html": [
       "<div>\n",
       "<style scoped>\n",
       "    .dataframe tbody tr th:only-of-type {\n",
       "        vertical-align: middle;\n",
       "    }\n",
       "\n",
       "    .dataframe tbody tr th {\n",
       "        vertical-align: top;\n",
       "    }\n",
       "\n",
       "    .dataframe thead th {\n",
       "        text-align: right;\n",
       "    }\n",
       "</style>\n",
       "<table border=\"1\" class=\"dataframe\">\n",
       "  <thead>\n",
       "    <tr style=\"text-align: right;\">\n",
       "      <th></th>\n",
       "      <th>Id</th>\n",
       "      <th>vader_neg</th>\n",
       "      <th>vader_neu</th>\n",
       "      <th>vader_pos</th>\n",
       "      <th>vader_comp</th>\n",
       "      <th>Score</th>\n",
       "      <th>Summary</th>\n",
       "      <th>Text</th>\n",
       "    </tr>\n",
       "  </thead>\n",
       "  <tbody>\n",
       "    <tr>\n",
       "      <th>0</th>\n",
       "      <td>284990</td>\n",
       "      <td>0.093</td>\n",
       "      <td>0.907</td>\n",
       "      <td>0.000</td>\n",
       "      <td>-0.3570</td>\n",
       "      <td>2</td>\n",
       "      <td>Amazon sent the wrong dressing</td>\n",
       "      <td>Apparently I am not the first customer to have...</td>\n",
       "    </tr>\n",
       "    <tr>\n",
       "      <th>1</th>\n",
       "      <td>323738</td>\n",
       "      <td>0.074</td>\n",
       "      <td>0.843</td>\n",
       "      <td>0.083</td>\n",
       "      <td>0.6474</td>\n",
       "      <td>5</td>\n",
       "      <td>Shepherd and Cattle Dog Love It!</td>\n",
       "      <td>We bought the large cube because of our 97lb. ...</td>\n",
       "    </tr>\n",
       "    <tr>\n",
       "      <th>2</th>\n",
       "      <td>273538</td>\n",
       "      <td>0.026</td>\n",
       "      <td>0.842</td>\n",
       "      <td>0.132</td>\n",
       "      <td>0.8439</td>\n",
       "      <td>5</td>\n",
       "      <td>Not difficult to get a refund if you were tric...</td>\n",
       "      <td>First off I have no idea how good these \"pods\"...</td>\n",
       "    </tr>\n",
       "    <tr>\n",
       "      <th>3</th>\n",
       "      <td>481024</td>\n",
       "      <td>0.000</td>\n",
       "      <td>0.886</td>\n",
       "      <td>0.114</td>\n",
       "      <td>0.6249</td>\n",
       "      <td>5</td>\n",
       "      <td>Great Smoked paprika</td>\n",
       "      <td>I use the La Tienda Smoked Paprikas to make gr...</td>\n",
       "    </tr>\n",
       "    <tr>\n",
       "      <th>4</th>\n",
       "      <td>40184</td>\n",
       "      <td>0.222</td>\n",
       "      <td>0.747</td>\n",
       "      <td>0.031</td>\n",
       "      <td>-0.9454</td>\n",
       "      <td>1</td>\n",
       "      <td>It will be thrown away.  Looks like a weed.</td>\n",
       "      <td>I must have gotten the scraps.  My tree was ab...</td>\n",
       "    </tr>\n",
       "  </tbody>\n",
       "</table>\n",
       "</div>"
      ],
      "text/plain": [
       "       Id  vader_neg  vader_neu  vader_pos  vader_comp  Score  \\\n",
       "0  284990      0.093      0.907      0.000     -0.3570      2   \n",
       "1  323738      0.074      0.843      0.083      0.6474      5   \n",
       "2  273538      0.026      0.842      0.132      0.8439      5   \n",
       "3  481024      0.000      0.886      0.114      0.6249      5   \n",
       "4   40184      0.222      0.747      0.031     -0.9454      1   \n",
       "\n",
       "                                             Summary  \\\n",
       "0                     Amazon sent the wrong dressing   \n",
       "1                   Shepherd and Cattle Dog Love It!   \n",
       "2  Not difficult to get a refund if you were tric...   \n",
       "3                               Great Smoked paprika   \n",
       "4        It will be thrown away.  Looks like a weed.   \n",
       "\n",
       "                                                Text  \n",
       "0  Apparently I am not the first customer to have...  \n",
       "1  We bought the large cube because of our 97lb. ...  \n",
       "2  First off I have no idea how good these \"pods\"...  \n",
       "3  I use the La Tienda Smoked Paprikas to make gr...  \n",
       "4  I must have gotten the scraps.  My tree was ab...  "
      ]
     },
     "execution_count": 19,
     "metadata": {},
     "output_type": "execute_result"
    }
   ],
   "source": [
    "vader.head()"
   ]
  },
  {
   "cell_type": "code",
   "execution_count": 20,
   "id": "db22891f",
   "metadata": {},
   "outputs": [
    {
     "data": {
      "application/vnd.jupyter.widget-view+json": {
       "model_id": "66c5d6e22c844f5c87004031196f48de",
       "version_major": 2,
       "version_minor": 0
      },
      "text/plain": [
       "  0%|          | 0/56845 [00:00<?, ?it/s]"
      ]
     },
     "metadata": {},
     "output_type": "display_data"
    }
   ],
   "source": [
    "preds=[]\n",
    "\n",
    "for i, row in tqdm(vader.iterrows(), total=len(vader)):\n",
    "    comp_score = row['vader_comp']\n",
    "    if comp_score<0:\n",
    "        preds.append([row['Id'], \"Negative\"])\n",
    "    elif comp_score<=0.4:\n",
    "        preds.append([row['Id'], \"Neutral\"])\n",
    "    else:\n",
    "        preds.append([row['Id'], \"Positive\"])"
   ]
  },
  {
   "cell_type": "code",
   "execution_count": 21,
   "id": "2502132a",
   "metadata": {},
   "outputs": [
    {
     "data": {
      "text/html": [
       "<div>\n",
       "<style scoped>\n",
       "    .dataframe tbody tr th:only-of-type {\n",
       "        vertical-align: middle;\n",
       "    }\n",
       "\n",
       "    .dataframe tbody tr th {\n",
       "        vertical-align: top;\n",
       "    }\n",
       "\n",
       "    .dataframe thead th {\n",
       "        text-align: right;\n",
       "    }\n",
       "</style>\n",
       "<table border=\"1\" class=\"dataframe\">\n",
       "  <thead>\n",
       "    <tr style=\"text-align: right;\">\n",
       "      <th></th>\n",
       "      <th>Id</th>\n",
       "      <th>Vader Prediction</th>\n",
       "    </tr>\n",
       "  </thead>\n",
       "  <tbody>\n",
       "    <tr>\n",
       "      <th>0</th>\n",
       "      <td>284990</td>\n",
       "      <td>Negative</td>\n",
       "    </tr>\n",
       "    <tr>\n",
       "      <th>1</th>\n",
       "      <td>323738</td>\n",
       "      <td>Positive</td>\n",
       "    </tr>\n",
       "    <tr>\n",
       "      <th>2</th>\n",
       "      <td>273538</td>\n",
       "      <td>Positive</td>\n",
       "    </tr>\n",
       "    <tr>\n",
       "      <th>3</th>\n",
       "      <td>481024</td>\n",
       "      <td>Positive</td>\n",
       "    </tr>\n",
       "    <tr>\n",
       "      <th>4</th>\n",
       "      <td>40184</td>\n",
       "      <td>Negative</td>\n",
       "    </tr>\n",
       "  </tbody>\n",
       "</table>\n",
       "</div>"
      ],
      "text/plain": [
       "       Id Vader Prediction\n",
       "0  284990         Negative\n",
       "1  323738         Positive\n",
       "2  273538         Positive\n",
       "3  481024         Positive\n",
       "4   40184         Negative"
      ]
     },
     "execution_count": 21,
     "metadata": {},
     "output_type": "execute_result"
    }
   ],
   "source": [
    "vader_preds = pd.DataFrame(preds)\n",
    "vader_preds.columns=['Id','Vader Prediction']\n",
    "vader_preds.head()"
   ]
  },
  {
   "cell_type": "code",
   "execution_count": 22,
   "id": "94e0610d",
   "metadata": {},
   "outputs": [
    {
     "data": {
      "text/html": [
       "<div>\n",
       "<style scoped>\n",
       "    .dataframe tbody tr th:only-of-type {\n",
       "        vertical-align: middle;\n",
       "    }\n",
       "\n",
       "    .dataframe tbody tr th {\n",
       "        vertical-align: top;\n",
       "    }\n",
       "\n",
       "    .dataframe thead th {\n",
       "        text-align: right;\n",
       "    }\n",
       "</style>\n",
       "<table border=\"1\" class=\"dataframe\">\n",
       "  <thead>\n",
       "    <tr style=\"text-align: right;\">\n",
       "      <th></th>\n",
       "      <th>Id</th>\n",
       "      <th>vader_neg</th>\n",
       "      <th>vader_neu</th>\n",
       "      <th>vader_pos</th>\n",
       "      <th>vader_comp</th>\n",
       "      <th>Score</th>\n",
       "      <th>Summary</th>\n",
       "      <th>Text</th>\n",
       "      <th>Vader Prediction</th>\n",
       "    </tr>\n",
       "  </thead>\n",
       "  <tbody>\n",
       "    <tr>\n",
       "      <th>0</th>\n",
       "      <td>284990</td>\n",
       "      <td>0.093</td>\n",
       "      <td>0.907</td>\n",
       "      <td>0.000</td>\n",
       "      <td>-0.3570</td>\n",
       "      <td>2</td>\n",
       "      <td>Amazon sent the wrong dressing</td>\n",
       "      <td>Apparently I am not the first customer to have...</td>\n",
       "      <td>Negative</td>\n",
       "    </tr>\n",
       "    <tr>\n",
       "      <th>1</th>\n",
       "      <td>323738</td>\n",
       "      <td>0.074</td>\n",
       "      <td>0.843</td>\n",
       "      <td>0.083</td>\n",
       "      <td>0.6474</td>\n",
       "      <td>5</td>\n",
       "      <td>Shepherd and Cattle Dog Love It!</td>\n",
       "      <td>We bought the large cube because of our 97lb. ...</td>\n",
       "      <td>Positive</td>\n",
       "    </tr>\n",
       "    <tr>\n",
       "      <th>2</th>\n",
       "      <td>273538</td>\n",
       "      <td>0.026</td>\n",
       "      <td>0.842</td>\n",
       "      <td>0.132</td>\n",
       "      <td>0.8439</td>\n",
       "      <td>5</td>\n",
       "      <td>Not difficult to get a refund if you were tric...</td>\n",
       "      <td>First off I have no idea how good these \"pods\"...</td>\n",
       "      <td>Positive</td>\n",
       "    </tr>\n",
       "    <tr>\n",
       "      <th>3</th>\n",
       "      <td>481024</td>\n",
       "      <td>0.000</td>\n",
       "      <td>0.886</td>\n",
       "      <td>0.114</td>\n",
       "      <td>0.6249</td>\n",
       "      <td>5</td>\n",
       "      <td>Great Smoked paprika</td>\n",
       "      <td>I use the La Tienda Smoked Paprikas to make gr...</td>\n",
       "      <td>Positive</td>\n",
       "    </tr>\n",
       "    <tr>\n",
       "      <th>4</th>\n",
       "      <td>40184</td>\n",
       "      <td>0.222</td>\n",
       "      <td>0.747</td>\n",
       "      <td>0.031</td>\n",
       "      <td>-0.9454</td>\n",
       "      <td>1</td>\n",
       "      <td>It will be thrown away.  Looks like a weed.</td>\n",
       "      <td>I must have gotten the scraps.  My tree was ab...</td>\n",
       "      <td>Negative</td>\n",
       "    </tr>\n",
       "  </tbody>\n",
       "</table>\n",
       "</div>"
      ],
      "text/plain": [
       "       Id  vader_neg  vader_neu  vader_pos  vader_comp  Score  \\\n",
       "0  284990      0.093      0.907      0.000     -0.3570      2   \n",
       "1  323738      0.074      0.843      0.083      0.6474      5   \n",
       "2  273538      0.026      0.842      0.132      0.8439      5   \n",
       "3  481024      0.000      0.886      0.114      0.6249      5   \n",
       "4   40184      0.222      0.747      0.031     -0.9454      1   \n",
       "\n",
       "                                             Summary  \\\n",
       "0                     Amazon sent the wrong dressing   \n",
       "1                   Shepherd and Cattle Dog Love It!   \n",
       "2  Not difficult to get a refund if you were tric...   \n",
       "3                               Great Smoked paprika   \n",
       "4        It will be thrown away.  Looks like a weed.   \n",
       "\n",
       "                                                Text Vader Prediction  \n",
       "0  Apparently I am not the first customer to have...         Negative  \n",
       "1  We bought the large cube because of our 97lb. ...         Positive  \n",
       "2  First off I have no idea how good these \"pods\"...         Positive  \n",
       "3  I use the La Tienda Smoked Paprikas to make gr...         Positive  \n",
       "4  I must have gotten the scraps.  My tree was ab...         Negative  "
      ]
     },
     "execution_count": 22,
     "metadata": {},
     "output_type": "execute_result"
    }
   ],
   "source": [
    "vader = vader.merge(vader_preds, how='left', on='Id')\n",
    "vader.head()"
   ]
  },
  {
   "cell_type": "markdown",
   "id": "a4ae3e8e-3393-4b14-bfc4-48e18b76b6aa",
   "metadata": {},
   "source": [
    "# Classifying Reviews using ROBERTA Pretrained Model"
   ]
  },
  {
   "cell_type": "code",
   "execution_count": 23,
   "id": "5d5b9c8f",
   "metadata": {},
   "outputs": [],
   "source": [
    "MODEL = f\"cardiffnlp/twitter-roberta-base-sentiment\"\n",
    "tokenizer = AutoTokenizer.from_pretrained(MODEL)"
   ]
  },
  {
   "cell_type": "code",
   "execution_count": 24,
   "id": "a2a949eb",
   "metadata": {
    "scrolled": true
   },
   "outputs": [],
   "source": [
    "model = AutoModelForSequenceClassification.from_pretrained(MODEL)"
   ]
  },
  {
   "cell_type": "code",
   "execution_count": 25,
   "id": "ec81f881-97d0-49b8-86fe-69002509e23e",
   "metadata": {},
   "outputs": [],
   "source": [
    "from scipy.special import softmax\n",
    "\n",
    "def roberta_polarity_scores(text):\n",
    "  encoded_txt = tokenizer(text,return_tensors='pt')\n",
    "  output = model(**encoded_txt)\n",
    "    \n",
    "  scores = output[0][0].detach().numpy()\n",
    "  scores = softmax(scores)\n",
    "  scores_dict = {'roberta_neg':scores[0],'roberta_neu':scores[1],'roberta_pos':scores[2]}\n",
    "  return scores_dict"
   ]
  },
  {
   "cell_type": "code",
   "execution_count": 26,
   "id": "e5c08f7c-2475-4452-b401-210deca52af4",
   "metadata": {},
   "outputs": [
    {
     "data": {
      "text/plain": [
       "{'neg': 0.0, 'neu': 0.708, 'pos': 0.292, 'compound': 0.8996}"
      ]
     },
     "execution_count": 26,
     "metadata": {},
     "output_type": "execute_result"
    }
   ],
   "source": [
    "sia.polarity_scores(sample_txt)"
   ]
  },
  {
   "cell_type": "code",
   "execution_count": 27,
   "id": "31819e93-ada6-40d9-9acc-79bf39883a40",
   "metadata": {},
   "outputs": [
    {
     "data": {
      "text/plain": [
       "{'roberta_neg': 0.05984972, 'roberta_neu': 0.19453622, 'roberta_pos': 0.745614}"
      ]
     },
     "execution_count": 27,
     "metadata": {},
     "output_type": "execute_result"
    }
   ],
   "source": [
    "roberta_polarity_scores(sample_txt)"
   ]
  },
  {
   "cell_type": "code",
   "execution_count": 28,
   "id": "5a91bef3-e595-4059-badb-73b9ed3e642d",
   "metadata": {},
   "outputs": [
    {
     "data": {
      "application/vnd.jupyter.widget-view+json": {
       "model_id": "eb013b9637ea4a4eb64abfbc624d8983",
       "version_major": 2,
       "version_minor": 0
      },
      "text/plain": [
       "  0%|          | 0/56845 [00:00<?, ?it/s]"
      ]
     },
     "metadata": {},
     "output_type": "display_data"
    }
   ],
   "source": [
    "res={}\n",
    "for i ,row in tqdm(df.iterrows(),total=len(df)):\n",
    "  try:\n",
    "    id, text = row['Id'], row['Text'] \n",
    "    res[id] = roberta_polarity_scores(text)\n",
    "  except Exception:\n",
    "        pass"
   ]
  },
  {
   "cell_type": "code",
   "execution_count": 29,
   "id": "2a37cbe2-211b-4be5-ab35-b0723679648e",
   "metadata": {},
   "outputs": [
    {
     "data": {
      "text/html": [
       "<div>\n",
       "<style scoped>\n",
       "    .dataframe tbody tr th:only-of-type {\n",
       "        vertical-align: middle;\n",
       "    }\n",
       "\n",
       "    .dataframe tbody tr th {\n",
       "        vertical-align: top;\n",
       "    }\n",
       "\n",
       "    .dataframe thead th {\n",
       "        text-align: right;\n",
       "    }\n",
       "</style>\n",
       "<table border=\"1\" class=\"dataframe\">\n",
       "  <thead>\n",
       "    <tr style=\"text-align: right;\">\n",
       "      <th></th>\n",
       "      <th>Id</th>\n",
       "      <th>roberta_neg</th>\n",
       "      <th>roberta_neu</th>\n",
       "      <th>roberta_pos</th>\n",
       "    </tr>\n",
       "  </thead>\n",
       "  <tbody>\n",
       "    <tr>\n",
       "      <th>0</th>\n",
       "      <td>284990</td>\n",
       "      <td>0.827688</td>\n",
       "      <td>0.156197</td>\n",
       "      <td>0.016115</td>\n",
       "    </tr>\n",
       "    <tr>\n",
       "      <th>1</th>\n",
       "      <td>323738</td>\n",
       "      <td>0.181574</td>\n",
       "      <td>0.404189</td>\n",
       "      <td>0.414237</td>\n",
       "    </tr>\n",
       "    <tr>\n",
       "      <th>2</th>\n",
       "      <td>273538</td>\n",
       "      <td>0.097084</td>\n",
       "      <td>0.327709</td>\n",
       "      <td>0.575206</td>\n",
       "    </tr>\n",
       "    <tr>\n",
       "      <th>3</th>\n",
       "      <td>481024</td>\n",
       "      <td>0.001986</td>\n",
       "      <td>0.038633</td>\n",
       "      <td>0.959381</td>\n",
       "    </tr>\n",
       "    <tr>\n",
       "      <th>4</th>\n",
       "      <td>40184</td>\n",
       "      <td>0.922129</td>\n",
       "      <td>0.071149</td>\n",
       "      <td>0.006722</td>\n",
       "    </tr>\n",
       "  </tbody>\n",
       "</table>\n",
       "</div>"
      ],
      "text/plain": [
       "       Id  roberta_neg  roberta_neu  roberta_pos\n",
       "0  284990     0.827688     0.156197     0.016115\n",
       "1  323738     0.181574     0.404189     0.414237\n",
       "2  273538     0.097084     0.327709     0.575206\n",
       "3  481024     0.001986     0.038633     0.959381\n",
       "4   40184     0.922129     0.071149     0.006722"
      ]
     },
     "execution_count": 29,
     "metadata": {},
     "output_type": "execute_result"
    }
   ],
   "source": [
    "roberta = pd.DataFrame(res).T\n",
    "roberta = roberta.reset_index().rename(columns={'index':'Id'})\n",
    "roberta.head()"
   ]
  },
  {
   "cell_type": "code",
   "execution_count": 30,
   "id": "7a0f1773-ef23-4a02-9fa7-da66d5e49024",
   "metadata": {},
   "outputs": [
    {
     "data": {
      "text/html": [
       "<div>\n",
       "<style scoped>\n",
       "    .dataframe tbody tr th:only-of-type {\n",
       "        vertical-align: middle;\n",
       "    }\n",
       "\n",
       "    .dataframe tbody tr th {\n",
       "        vertical-align: top;\n",
       "    }\n",
       "\n",
       "    .dataframe thead th {\n",
       "        text-align: right;\n",
       "    }\n",
       "</style>\n",
       "<table border=\"1\" class=\"dataframe\">\n",
       "  <thead>\n",
       "    <tr style=\"text-align: right;\">\n",
       "      <th></th>\n",
       "      <th>Id</th>\n",
       "      <th>roberta_neg</th>\n",
       "      <th>roberta_neu</th>\n",
       "      <th>roberta_pos</th>\n",
       "      <th>vader_neg</th>\n",
       "      <th>vader_neu</th>\n",
       "      <th>vader_pos</th>\n",
       "      <th>vader_comp</th>\n",
       "      <th>Score</th>\n",
       "      <th>Summary</th>\n",
       "      <th>Text</th>\n",
       "      <th>Vader Prediction</th>\n",
       "    </tr>\n",
       "  </thead>\n",
       "  <tbody>\n",
       "    <tr>\n",
       "      <th>0</th>\n",
       "      <td>284990</td>\n",
       "      <td>0.827688</td>\n",
       "      <td>0.156197</td>\n",
       "      <td>0.016115</td>\n",
       "      <td>0.093</td>\n",
       "      <td>0.907</td>\n",
       "      <td>0.000</td>\n",
       "      <td>-0.3570</td>\n",
       "      <td>2</td>\n",
       "      <td>Amazon sent the wrong dressing</td>\n",
       "      <td>Apparently I am not the first customer to have...</td>\n",
       "      <td>Negative</td>\n",
       "    </tr>\n",
       "    <tr>\n",
       "      <th>1</th>\n",
       "      <td>323738</td>\n",
       "      <td>0.181574</td>\n",
       "      <td>0.404189</td>\n",
       "      <td>0.414237</td>\n",
       "      <td>0.074</td>\n",
       "      <td>0.843</td>\n",
       "      <td>0.083</td>\n",
       "      <td>0.6474</td>\n",
       "      <td>5</td>\n",
       "      <td>Shepherd and Cattle Dog Love It!</td>\n",
       "      <td>We bought the large cube because of our 97lb. ...</td>\n",
       "      <td>Positive</td>\n",
       "    </tr>\n",
       "    <tr>\n",
       "      <th>2</th>\n",
       "      <td>273538</td>\n",
       "      <td>0.097084</td>\n",
       "      <td>0.327709</td>\n",
       "      <td>0.575206</td>\n",
       "      <td>0.026</td>\n",
       "      <td>0.842</td>\n",
       "      <td>0.132</td>\n",
       "      <td>0.8439</td>\n",
       "      <td>5</td>\n",
       "      <td>Not difficult to get a refund if you were tric...</td>\n",
       "      <td>First off I have no idea how good these \"pods\"...</td>\n",
       "      <td>Positive</td>\n",
       "    </tr>\n",
       "    <tr>\n",
       "      <th>3</th>\n",
       "      <td>481024</td>\n",
       "      <td>0.001986</td>\n",
       "      <td>0.038633</td>\n",
       "      <td>0.959381</td>\n",
       "      <td>0.000</td>\n",
       "      <td>0.886</td>\n",
       "      <td>0.114</td>\n",
       "      <td>0.6249</td>\n",
       "      <td>5</td>\n",
       "      <td>Great Smoked paprika</td>\n",
       "      <td>I use the La Tienda Smoked Paprikas to make gr...</td>\n",
       "      <td>Positive</td>\n",
       "    </tr>\n",
       "    <tr>\n",
       "      <th>4</th>\n",
       "      <td>40184</td>\n",
       "      <td>0.922129</td>\n",
       "      <td>0.071149</td>\n",
       "      <td>0.006722</td>\n",
       "      <td>0.222</td>\n",
       "      <td>0.747</td>\n",
       "      <td>0.031</td>\n",
       "      <td>-0.9454</td>\n",
       "      <td>1</td>\n",
       "      <td>It will be thrown away.  Looks like a weed.</td>\n",
       "      <td>I must have gotten the scraps.  My tree was ab...</td>\n",
       "      <td>Negative</td>\n",
       "    </tr>\n",
       "  </tbody>\n",
       "</table>\n",
       "</div>"
      ],
      "text/plain": [
       "       Id  roberta_neg  roberta_neu  roberta_pos  vader_neg  vader_neu  \\\n",
       "0  284990     0.827688     0.156197     0.016115      0.093      0.907   \n",
       "1  323738     0.181574     0.404189     0.414237      0.074      0.843   \n",
       "2  273538     0.097084     0.327709     0.575206      0.026      0.842   \n",
       "3  481024     0.001986     0.038633     0.959381      0.000      0.886   \n",
       "4   40184     0.922129     0.071149     0.006722      0.222      0.747   \n",
       "\n",
       "   vader_pos  vader_comp  Score  \\\n",
       "0      0.000     -0.3570      2   \n",
       "1      0.083      0.6474      5   \n",
       "2      0.132      0.8439      5   \n",
       "3      0.114      0.6249      5   \n",
       "4      0.031     -0.9454      1   \n",
       "\n",
       "                                             Summary  \\\n",
       "0                     Amazon sent the wrong dressing   \n",
       "1                   Shepherd and Cattle Dog Love It!   \n",
       "2  Not difficult to get a refund if you were tric...   \n",
       "3                               Great Smoked paprika   \n",
       "4        It will be thrown away.  Looks like a weed.   \n",
       "\n",
       "                                                Text Vader Prediction  \n",
       "0  Apparently I am not the first customer to have...         Negative  \n",
       "1  We bought the large cube because of our 97lb. ...         Positive  \n",
       "2  First off I have no idea how good these \"pods\"...         Positive  \n",
       "3  I use the La Tienda Smoked Paprikas to make gr...         Positive  \n",
       "4  I must have gotten the scraps.  My tree was ab...         Negative  "
      ]
     },
     "execution_count": 30,
     "metadata": {},
     "output_type": "execute_result"
    }
   ],
   "source": [
    "result = roberta.merge(vader, how='left', on='Id')\n",
    "result.head()"
   ]
  },
  {
   "cell_type": "code",
   "execution_count": 31,
   "id": "1a2e8198-7a49-4bee-971e-596dc395ea92",
   "metadata": {},
   "outputs": [
    {
     "data": {
      "image/png": "[encoded data removed]",
      "text/plain": [
       "<Figure size 1200x400 with 3 Axes>"
      ]
     },
     "metadata": {},
     "output_type": "display_data"
    }
   ],
   "source": [
    "#Visualizing The Change In Scores With Respect To Star Ratings\n",
    "\n",
    "plt.figure(figsize=(12,4))\n",
    "\n",
    "plt.subplot( 1, 3, 1)\n",
    "sns.barplot( data=result, x='Score', y='roberta_pos', color='green')\n",
    "plt.title(\"Positive Scores\")\n",
    "\n",
    "plt.subplot( 1, 3, 2)\n",
    "sns.barplot( data=result, x='Score', y='roberta_neu', color='grey')\n",
    "plt.title(\"Neutral Scores\")\n",
    "\n",
    "plt.subplot( 1, 3, 3)\n",
    "sns.barplot( data=result, x='Score', y='roberta_neg', color='red')\n",
    "plt.title(\"Negative Scores\")\n",
    "\n",
    "plt.tight_layout()\n",
    "plt.show()"
   ]
  },
  {
   "cell_type": "code",
   "execution_count": 32,
   "id": "fb59cc4b-51c5-4946-b22e-f8f5c7741a84",
   "metadata": {
    "scrolled": true
   },
   "outputs": [
    {
     "data": {
      "application/vnd.jupyter.widget-view+json": {
       "model_id": "d846bb701d794f819bd13055fb8862c7",
       "version_major": 2,
       "version_minor": 0
      },
      "text/plain": [
       "  0%|          | 0/56239 [00:00<?, ?it/s]"
      ]
     },
     "metadata": {},
     "output_type": "display_data"
    }
   ],
   "source": [
    "preds=[]\n",
    "for i, row in tqdm(roberta.iterrows(), total=len(roberta)):\n",
    "    compute_scores = [row['roberta_neg'],row['roberta_neu'],row['roberta_pos']]\n",
    "    if max(compute_scores)==compute_scores[0]:\n",
    "        preds.append([row['Id'], \"Negative\"])\n",
    "    elif max(compute_scores)==compute_scores[1]:\n",
    "        preds.append([row['Id'], \"Neutral\"])\n",
    "    else:\n",
    "        preds.append([row['Id'], \"Positive\"])"
   ]
  },
  {
   "cell_type": "code",
   "execution_count": 33,
   "id": "018e97e4-8d08-408a-b14a-13c145e5875c",
   "metadata": {},
   "outputs": [
    {
     "data": {
      "text/html": [
       "<div>\n",
       "<style scoped>\n",
       "    .dataframe tbody tr th:only-of-type {\n",
       "        vertical-align: middle;\n",
       "    }\n",
       "\n",
       "    .dataframe tbody tr th {\n",
       "        vertical-align: top;\n",
       "    }\n",
       "\n",
       "    .dataframe thead th {\n",
       "        text-align: right;\n",
       "    }\n",
       "</style>\n",
       "<table border=\"1\" class=\"dataframe\">\n",
       "  <thead>\n",
       "    <tr style=\"text-align: right;\">\n",
       "      <th></th>\n",
       "      <th>Id</th>\n",
       "      <th>Roberta Prediction</th>\n",
       "    </tr>\n",
       "  </thead>\n",
       "  <tbody>\n",
       "    <tr>\n",
       "      <th>0</th>\n",
       "      <td>284990.0</td>\n",
       "      <td>Negative</td>\n",
       "    </tr>\n",
       "    <tr>\n",
       "      <th>1</th>\n",
       "      <td>323738.0</td>\n",
       "      <td>Positive</td>\n",
       "    </tr>\n",
       "    <tr>\n",
       "      <th>2</th>\n",
       "      <td>273538.0</td>\n",
       "      <td>Positive</td>\n",
       "    </tr>\n",
       "    <tr>\n",
       "      <th>3</th>\n",
       "      <td>481024.0</td>\n",
       "      <td>Positive</td>\n",
       "    </tr>\n",
       "    <tr>\n",
       "      <th>4</th>\n",
       "      <td>40184.0</td>\n",
       "      <td>Negative</td>\n",
       "    </tr>\n",
       "  </tbody>\n",
       "</table>\n",
       "</div>"
      ],
      "text/plain": [
       "         Id Roberta Prediction\n",
       "0  284990.0           Negative\n",
       "1  323738.0           Positive\n",
       "2  273538.0           Positive\n",
       "3  481024.0           Positive\n",
       "4   40184.0           Negative"
      ]
     },
     "execution_count": 33,
     "metadata": {},
     "output_type": "execute_result"
    }
   ],
   "source": [
    "roberta_preds = pd.DataFrame(preds)\n",
    "roberta_preds.columns=['Id','Roberta Prediction']\n",
    "roberta_preds.head()"
   ]
  },
  {
   "cell_type": "code",
   "execution_count": 34,
   "id": "1b3e1116-add7-4237-9547-3af72040cbad",
   "metadata": {},
   "outputs": [
    {
     "data": {
      "text/html": [
       "<div>\n",
       "<style scoped>\n",
       "    .dataframe tbody tr th:only-of-type {\n",
       "        vertical-align: middle;\n",
       "    }\n",
       "\n",
       "    .dataframe tbody tr th {\n",
       "        vertical-align: top;\n",
       "    }\n",
       "\n",
       "    .dataframe thead th {\n",
       "        text-align: right;\n",
       "    }\n",
       "</style>\n",
       "<table border=\"1\" class=\"dataframe\">\n",
       "  <thead>\n",
       "    <tr style=\"text-align: right;\">\n",
       "      <th></th>\n",
       "      <th>Id</th>\n",
       "      <th>roberta_neg</th>\n",
       "      <th>roberta_neu</th>\n",
       "      <th>roberta_pos</th>\n",
       "      <th>vader_neg</th>\n",
       "      <th>vader_neu</th>\n",
       "      <th>vader_pos</th>\n",
       "      <th>vader_comp</th>\n",
       "      <th>Score</th>\n",
       "      <th>Summary</th>\n",
       "      <th>Text</th>\n",
       "      <th>Vader Prediction</th>\n",
       "      <th>Roberta Prediction</th>\n",
       "    </tr>\n",
       "  </thead>\n",
       "  <tbody>\n",
       "    <tr>\n",
       "      <th>0</th>\n",
       "      <td>284990</td>\n",
       "      <td>0.827688</td>\n",
       "      <td>0.156197</td>\n",
       "      <td>0.016115</td>\n",
       "      <td>0.093</td>\n",
       "      <td>0.907</td>\n",
       "      <td>0.000</td>\n",
       "      <td>-0.3570</td>\n",
       "      <td>2</td>\n",
       "      <td>Amazon sent the wrong dressing</td>\n",
       "      <td>Apparently I am not the first customer to have...</td>\n",
       "      <td>Negative</td>\n",
       "      <td>Negative</td>\n",
       "    </tr>\n",
       "    <tr>\n",
       "      <th>1</th>\n",
       "      <td>323738</td>\n",
       "      <td>0.181574</td>\n",
       "      <td>0.404189</td>\n",
       "      <td>0.414237</td>\n",
       "      <td>0.074</td>\n",
       "      <td>0.843</td>\n",
       "      <td>0.083</td>\n",
       "      <td>0.6474</td>\n",
       "      <td>5</td>\n",
       "      <td>Shepherd and Cattle Dog Love It!</td>\n",
       "      <td>We bought the large cube because of our 97lb. ...</td>\n",
       "      <td>Positive</td>\n",
       "      <td>Positive</td>\n",
       "    </tr>\n",
       "    <tr>\n",
       "      <th>2</th>\n",
       "      <td>273538</td>\n",
       "      <td>0.097084</td>\n",
       "      <td>0.327709</td>\n",
       "      <td>0.575206</td>\n",
       "      <td>0.026</td>\n",
       "      <td>0.842</td>\n",
       "      <td>0.132</td>\n",
       "      <td>0.8439</td>\n",
       "      <td>5</td>\n",
       "      <td>Not difficult to get a refund if you were tric...</td>\n",
       "      <td>First off I have no idea how good these \"pods\"...</td>\n",
       "      <td>Positive</td>\n",
       "      <td>Positive</td>\n",
       "    </tr>\n",
       "    <tr>\n",
       "      <th>3</th>\n",
       "      <td>481024</td>\n",
       "      <td>0.001986</td>\n",
       "      <td>0.038633</td>\n",
       "      <td>0.959381</td>\n",
       "      <td>0.000</td>\n",
       "      <td>0.886</td>\n",
       "      <td>0.114</td>\n",
       "      <td>0.6249</td>\n",
       "      <td>5</td>\n",
       "      <td>Great Smoked paprika</td>\n",
       "      <td>I use the La Tienda Smoked Paprikas to make gr...</td>\n",
       "      <td>Positive</td>\n",
       "      <td>Positive</td>\n",
       "    </tr>\n",
       "    <tr>\n",
       "      <th>4</th>\n",
       "      <td>40184</td>\n",
       "      <td>0.922129</td>\n",
       "      <td>0.071149</td>\n",
       "      <td>0.006722</td>\n",
       "      <td>0.222</td>\n",
       "      <td>0.747</td>\n",
       "      <td>0.031</td>\n",
       "      <td>-0.9454</td>\n",
       "      <td>1</td>\n",
       "      <td>It will be thrown away.  Looks like a weed.</td>\n",
       "      <td>I must have gotten the scraps.  My tree was ab...</td>\n",
       "      <td>Negative</td>\n",
       "      <td>Negative</td>\n",
       "    </tr>\n",
       "  </tbody>\n",
       "</table>\n",
       "</div>"
      ],
      "text/plain": [
       "       Id  roberta_neg  roberta_neu  roberta_pos  vader_neg  vader_neu  \\\n",
       "0  284990     0.827688     0.156197     0.016115      0.093      0.907   \n",
       "1  323738     0.181574     0.404189     0.414237      0.074      0.843   \n",
       "2  273538     0.097084     0.327709     0.575206      0.026      0.842   \n",
       "3  481024     0.001986     0.038633     0.959381      0.000      0.886   \n",
       "4   40184     0.922129     0.071149     0.006722      0.222      0.747   \n",
       "\n",
       "   vader_pos  vader_comp  Score  \\\n",
       "0      0.000     -0.3570      2   \n",
       "1      0.083      0.6474      5   \n",
       "2      0.132      0.8439      5   \n",
       "3      0.114      0.6249      5   \n",
       "4      0.031     -0.9454      1   \n",
       "\n",
       "                                             Summary  \\\n",
       "0                     Amazon sent the wrong dressing   \n",
       "1                   Shepherd and Cattle Dog Love It!   \n",
       "2  Not difficult to get a refund if you were tric...   \n",
       "3                               Great Smoked paprika   \n",
       "4        It will be thrown away.  Looks like a weed.   \n",
       "\n",
       "                                                Text Vader Prediction  \\\n",
       "0  Apparently I am not the first customer to have...         Negative   \n",
       "1  We bought the large cube because of our 97lb. ...         Positive   \n",
       "2  First off I have no idea how good these \"pods\"...         Positive   \n",
       "3  I use the La Tienda Smoked Paprikas to make gr...         Positive   \n",
       "4  I must have gotten the scraps.  My tree was ab...         Negative   \n",
       "\n",
       "  Roberta Prediction  \n",
       "0           Negative  \n",
       "1           Positive  \n",
       "2           Positive  \n",
       "3           Positive  \n",
       "4           Negative  "
      ]
     },
     "execution_count": 34,
     "metadata": {},
     "output_type": "execute_result"
    }
   ],
   "source": [
    "result = result.merge(roberta_preds, how='left', on='Id')\n",
    "result.head()"
   ]
  },
  {
   "cell_type": "markdown",
   "id": "aa843ef0-3ffd-4747-973b-7e362844d807",
   "metadata": {},
   "source": [
    "# Analayzing the Classifications of VADER and ROBERTA Pretrained Models"
   ]
  },
  {
   "cell_type": "code",
   "execution_count": 35,
   "id": "3b32c162-0829-4d99-8d0a-3699913ebe42",
   "metadata": {},
   "outputs": [
    {
     "data": {
      "text/plain": [
       "Vader Prediction\n",
       "Positive    45645\n",
       "Negative     6064\n",
       "Neutral      4530\n",
       "Name: count, dtype: int64"
      ]
     },
     "execution_count": 35,
     "metadata": {},
     "output_type": "execute_result"
    }
   ],
   "source": [
    "result['Vader Prediction'].value_counts()"
   ]
  },
  {
   "cell_type": "code",
   "execution_count": 36,
   "id": "3b799b68-2d10-4b24-b7db-fc6884e4bade",
   "metadata": {},
   "outputs": [
    {
     "data": {
      "text/plain": [
       "Roberta Prediction\n",
       "Positive    43597\n",
       "Negative     8637\n",
       "Neutral      4005\n",
       "Name: count, dtype: int64"
      ]
     },
     "execution_count": 36,
     "metadata": {},
     "output_type": "execute_result"
    }
   ],
   "source": [
    "result['Roberta Prediction'].value_counts()"
   ]
  },
  {
   "cell_type": "code",
   "execution_count": 37,
   "id": "21c3074f-1573-4ad6-8e6a-b8cc0c7b5a1c",
   "metadata": {},
   "outputs": [
    {
     "data": {
      "application/vnd.jupyter.widget-view+json": {
       "model_id": "29de029c15d04abf96cf2ca9034bfb7d",
       "version_major": 2,
       "version_minor": 0
      },
      "text/plain": [
       "  0%|          | 0/56239 [00:00<?, ?it/s]"
      ]
     },
     "metadata": {},
     "output_type": "display_data"
    }
   ],
   "source": [
    "preds=[]\n",
    "for i, rows in tqdm(result.iterrows(),total=len(result)):\n",
    "    vader_pred = rows['Vader Prediction']\n",
    "    roberta_pred = rows['Roberta Prediction']\n",
    "    \n",
    "    if vader_pred!=roberta_pred:\n",
    "        preds.append([rows['Id'], rows['Score'], vader_pred, roberta_pred])"
   ]
  },
  {
   "cell_type": "code",
   "execution_count": 38,
   "id": "3e0e7733-4803-4d69-bdc3-804f87fbc646",
   "metadata": {},
   "outputs": [
    {
     "data": {
      "text/html": [
       "<div>\n",
       "<style scoped>\n",
       "    .dataframe tbody tr th:only-of-type {\n",
       "        vertical-align: middle;\n",
       "    }\n",
       "\n",
       "    .dataframe tbody tr th {\n",
       "        vertical-align: top;\n",
       "    }\n",
       "\n",
       "    .dataframe thead th {\n",
       "        text-align: right;\n",
       "    }\n",
       "</style>\n",
       "<table border=\"1\" class=\"dataframe\">\n",
       "  <thead>\n",
       "    <tr style=\"text-align: right;\">\n",
       "      <th></th>\n",
       "      <th>Id</th>\n",
       "      <th>Score</th>\n",
       "      <th>Vader Prediction</th>\n",
       "      <th>Roberta Prediction</th>\n",
       "    </tr>\n",
       "  </thead>\n",
       "  <tbody>\n",
       "    <tr>\n",
       "      <th>0</th>\n",
       "      <td>44566</td>\n",
       "      <td>5</td>\n",
       "      <td>Negative</td>\n",
       "      <td>Positive</td>\n",
       "    </tr>\n",
       "    <tr>\n",
       "      <th>1</th>\n",
       "      <td>481104</td>\n",
       "      <td>4</td>\n",
       "      <td>Positive</td>\n",
       "      <td>Negative</td>\n",
       "    </tr>\n",
       "    <tr>\n",
       "      <th>2</th>\n",
       "      <td>492068</td>\n",
       "      <td>2</td>\n",
       "      <td>Positive</td>\n",
       "      <td>Negative</td>\n",
       "    </tr>\n",
       "    <tr>\n",
       "      <th>3</th>\n",
       "      <td>283941</td>\n",
       "      <td>1</td>\n",
       "      <td>Negative</td>\n",
       "      <td>Neutral</td>\n",
       "    </tr>\n",
       "    <tr>\n",
       "      <th>4</th>\n",
       "      <td>139799</td>\n",
       "      <td>3</td>\n",
       "      <td>Positive</td>\n",
       "      <td>Neutral</td>\n",
       "    </tr>\n",
       "  </tbody>\n",
       "</table>\n",
       "</div>"
      ],
      "text/plain": [
       "       Id  Score Vader Prediction Roberta Prediction\n",
       "0   44566      5         Negative           Positive\n",
       "1  481104      4         Positive           Negative\n",
       "2  492068      2         Positive           Negative\n",
       "3  283941      1         Negative            Neutral\n",
       "4  139799      3         Positive            Neutral"
      ]
     },
     "execution_count": 38,
     "metadata": {},
     "output_type": "execute_result"
    }
   ],
   "source": [
    "predictions = pd.DataFrame(preds)\n",
    "predictions.columns = [ 'Id', 'Score', 'Vader Prediction', 'Roberta Prediction']\n",
    "predictions.head()"
   ]
  },
  {
   "cell_type": "code",
   "execution_count": 39,
   "id": "bbd19b77-7847-49a8-af4d-4cc858ce1d99",
   "metadata": {},
   "outputs": [
    {
     "name": "stdout",
     "output_type": "stream",
     "text": [
      "Number of Mis-matched Predictions are 11139\n"
     ]
    }
   ],
   "source": [
    "print( \"Number of Mis-matched Predictions are\", len(predictions) )"
   ]
  },
  {
   "cell_type": "code",
   "execution_count": 40,
   "id": "ce9d09ad-84ee-4249-aaf4-a74a7de9468e",
   "metadata": {},
   "outputs": [
    {
     "data": {
      "text/html": [
       "<div>\n",
       "<style scoped>\n",
       "    .dataframe tbody tr th:only-of-type {\n",
       "        vertical-align: middle;\n",
       "    }\n",
       "\n",
       "    .dataframe tbody tr th {\n",
       "        vertical-align: top;\n",
       "    }\n",
       "\n",
       "    .dataframe thead th {\n",
       "        text-align: right;\n",
       "    }\n",
       "</style>\n",
       "<table border=\"1\" class=\"dataframe\">\n",
       "  <thead>\n",
       "    <tr style=\"text-align: right;\">\n",
       "      <th></th>\n",
       "      <th>Id</th>\n",
       "      <th>Score</th>\n",
       "      <th>Vader Prediction</th>\n",
       "      <th>Roberta Prediction</th>\n",
       "    </tr>\n",
       "  </thead>\n",
       "  <tbody>\n",
       "    <tr>\n",
       "      <th>4694</th>\n",
       "      <td>321682</td>\n",
       "      <td>5</td>\n",
       "      <td>Neutral</td>\n",
       "      <td>Positive</td>\n",
       "    </tr>\n",
       "    <tr>\n",
       "      <th>3755</th>\n",
       "      <td>126523</td>\n",
       "      <td>3</td>\n",
       "      <td>Neutral</td>\n",
       "      <td>Positive</td>\n",
       "    </tr>\n",
       "    <tr>\n",
       "      <th>1392</th>\n",
       "      <td>189939</td>\n",
       "      <td>5</td>\n",
       "      <td>Negative</td>\n",
       "      <td>Neutral</td>\n",
       "    </tr>\n",
       "    <tr>\n",
       "      <th>2687</th>\n",
       "      <td>468779</td>\n",
       "      <td>3</td>\n",
       "      <td>Neutral</td>\n",
       "      <td>Negative</td>\n",
       "    </tr>\n",
       "    <tr>\n",
       "      <th>6620</th>\n",
       "      <td>2726</td>\n",
       "      <td>3</td>\n",
       "      <td>Neutral</td>\n",
       "      <td>Negative</td>\n",
       "    </tr>\n",
       "  </tbody>\n",
       "</table>\n",
       "</div>"
      ],
      "text/plain": [
       "          Id  Score Vader Prediction Roberta Prediction\n",
       "4694  321682      5          Neutral           Positive\n",
       "3755  126523      3          Neutral           Positive\n",
       "1392  189939      5         Negative            Neutral\n",
       "2687  468779      3          Neutral           Negative\n",
       "6620    2726      3          Neutral           Negative"
      ]
     },
     "execution_count": 40,
     "metadata": {},
     "output_type": "execute_result"
    }
   ],
   "source": [
    "predictions.sample(5)"
   ]
  },
  {
   "cell_type": "code",
   "execution_count": 48,
   "id": "7dca7ddb-7c94-4a88-afb0-3ffe05efcf92",
   "metadata": {},
   "outputs": [
    {
     "data": {
      "image/png": "[encoded data removed]",
      "text/plain": [
       "<Figure size 1600x1600 with 2 Axes>"
      ]
     },
     "metadata": {},
     "output_type": "display_data"
    }
   ],
   "source": [
    "plt.figure(figsize=(16,16))\n",
    "custom = {\"Positive\": \"green\", \"Neutral\": \"black\", \"Negative\": \"red\"}\n",
    "bin_edges = [0.5, 1.5, 2.5, 3.5, 4.5, 5.5]\n",
    "order = ['Negative', 'Neutral', 'Positive']\n",
    "\n",
    "plt.subplot( 2, 1, 1)\n",
    "sns.histplot( x='Score', data=predictions, hue='Vader Prediction', multiple='dodge', palette=custom, hue_order=order)\n",
    "plt.title('Vader Predictions')\n",
    "plt.xticks([1, 2, 3, 4, 5])\n",
    "plt.ylim(0,2500)\n",
    "\n",
    "plt.subplot( 2, 1, 2)\n",
    "sns.histplot( x='Score', data=predictions, hue='Roberta Prediction', multiple='dodge', palette=custom, hue_order=order)\n",
    "plt.title('Roberta Predictions')\n",
    "plt.xticks([1, 2, 3, 4, 5])\n",
    "plt.ylim(0,2500)\n",
    "\n",
    "plt.show()"
   ]
  },
  {
   "cell_type": "markdown",
   "id": "e9ca01a8-8a0d-4b4b-8517-60fb19317517",
   "metadata": {},
   "source": [
    "### From the above graphs, we can observe that VADER has predicted certain low scores as positive reviews and high scores as neutral reviews, which were correctly predicted by the pre-trained RoBERTa model. Therefore, it is evident that the pre-trained RoBERTa model performs better than the VADER model in the case of complex reviews."
   ]
  },
  {
   "cell_type": "markdown",
   "id": "3845f2eb-e5d1-46f5-ac9d-692f07ead251",
   "metadata": {},
   "source": [
    "# Sentiment Analysis using ROBERTA PRETRAINED Model"
   ]
  },
  {
   "cell_type": "code",
   "execution_count": 42,
   "id": "e353dcf5-bb95-423d-b1fb-09b8681f051f",
   "metadata": {},
   "outputs": [],
   "source": [
    "def predict(text):\n",
    "    scores = roberta_polarity_scores(text)\n",
    "    neg, neu, pos = scores[\"roberta_neg\"], scores[\"roberta_neu\"], scores[\"roberta_pos\"]\n",
    "\n",
    "    if max( neg, neu, pos)==neg :\n",
    "        return \"THE STATEMENT IS NEGATIVE\"\n",
    "    elif max( neg, neu, pos)==neu :\n",
    "        return \"THE STATEMENT IS NEUTRAL\"\n",
    "    else :\n",
    "        return \"THE STATEMENT IS POSITIVE\""
   ]
  },
  {
   "cell_type": "code",
   "execution_count": 43,
   "id": "b427bf6d-2a90-445e-8c15-2e12fe455af0",
   "metadata": {},
   "outputs": [
    {
     "name": "stdin",
     "output_type": "stream",
     "text": [
      " It was delicious!\n"
     ]
    },
    {
     "data": {
      "text/plain": [
       "'THE STATEMENT IS POSITIVE'"
      ]
     },
     "execution_count": 43,
     "metadata": {},
     "output_type": "execute_result"
    }
   ],
   "source": [
    "text = input()\n",
    "predict(text)"
   ]
  }
 ],
 "metadata": {
  "kernelspec": {
   "display_name": "Python 3 (ipykernel)",
   "language": "python",
   "name": "python3"
  },
  "language_info": {
   "codemirror_mode": {
    "name": "ipython",
    "version": 3
   },
   "file_extension": ".py",
   "mimetype": "text/x-python",
   "name": "python",
   "nbconvert_exporter": "python",
   "pygments_lexer": "ipython3",
   "version": "3.12.1"
  }
 },
 "nbformat": 4,
 "nbformat_minor": 5
}
