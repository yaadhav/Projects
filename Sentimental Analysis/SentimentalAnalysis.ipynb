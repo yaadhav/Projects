{
 "cells": [
  {
   "cell_type": "markdown",
   "id": "77c6cdab-4a12-4649-b8c1-bcb8e33264e4",
   "metadata": {},
   "source": [
    "# Importing Libraries"
   ]
  },
  {
   "cell_type": "code",
   "execution_count": 1,
   "id": "03cabb37",
   "metadata": {},
   "outputs": [],
   "source": [
    "import pandas as pd\n",
    "import numpy as np\n",
    "import matplotlib.pyplot as plt\n",
    "import seaborn as sns\n",
    "\n",
    "import nltk\n",
    "from nltk.sentiment import SentimentIntensityAnalyzer  \n",
    "\n",
    "from tqdm.notebook import tqdm\n",
    "\n",
    "from sklearn.model_selection import train_test_split\n",
    "from sklearn.preprocessing import LabelEncoder\n",
    "\n",
    "from transformers import AutoTokenizer\n",
    "from transformers import AutoModelForSequenceClassification\n",
    "from scipy.special import softmax\n",
    "from transformers import pipeline\n",
    "\n",
    "plt.style.use('ggplot')"
   ]
  },
  {
   "cell_type": "markdown",
   "id": "0b2313a3-49d4-488c-a83b-4cbdab70913f",
   "metadata": {},
   "source": [
    "# Data Preprcoessing"
   ]
  },
  {
   "cell_type": "code",
   "execution_count": 2,
   "id": "1f468fdf",
   "metadata": {},
   "outputs": [
    {
     "data": {
      "text/html": [
       "<div>\n",
       "<style scoped>\n",
       "    .dataframe tbody tr th:only-of-type {\n",
       "        vertical-align: middle;\n",
       "    }\n",
       "\n",
       "    .dataframe tbody tr th {\n",
       "        vertical-align: top;\n",
       "    }\n",
       "\n",
       "    .dataframe thead th {\n",
       "        text-align: right;\n",
       "    }\n",
       "</style>\n",
       "<table border=\"1\" class=\"dataframe\">\n",
       "  <thead>\n",
       "    <tr style=\"text-align: right;\">\n",
       "      <th></th>\n",
       "      <th>Id</th>\n",
       "      <th>ProductId</th>\n",
       "      <th>UserId</th>\n",
       "      <th>ProfileName</th>\n",
       "      <th>HelpfulnessNumerator</th>\n",
       "      <th>HelpfulnessDenominator</th>\n",
       "      <th>Score</th>\n",
       "      <th>Time</th>\n",
       "      <th>Summary</th>\n",
       "      <th>Text</th>\n",
       "    </tr>\n",
       "  </thead>\n",
       "  <tbody>\n",
       "    <tr>\n",
       "      <th>0</th>\n",
       "      <td>1</td>\n",
       "      <td>B001E4KFG0</td>\n",
       "      <td>A3SGXH7AUHU8GW</td>\n",
       "      <td>delmartian</td>\n",
       "      <td>1</td>\n",
       "      <td>1</td>\n",
       "      <td>5</td>\n",
       "      <td>1303862400</td>\n",
       "      <td>Good Quality Dog Food</td>\n",
       "      <td>I have bought several of the Vitality canned d...</td>\n",
       "    </tr>\n",
       "    <tr>\n",
       "      <th>1</th>\n",
       "      <td>2</td>\n",
       "      <td>B00813GRG4</td>\n",
       "      <td>A1D87F6ZCVE5NK</td>\n",
       "      <td>dll pa</td>\n",
       "      <td>0</td>\n",
       "      <td>0</td>\n",
       "      <td>1</td>\n",
       "      <td>1346976000</td>\n",
       "      <td>Not as Advertised</td>\n",
       "      <td>Product arrived labeled as Jumbo Salted Peanut...</td>\n",
       "    </tr>\n",
       "    <tr>\n",
       "      <th>2</th>\n",
       "      <td>3</td>\n",
       "      <td>B000LQOCH0</td>\n",
       "      <td>ABXLMWJIXXAIN</td>\n",
       "      <td>Natalia Corres \"Natalia Corres\"</td>\n",
       "      <td>1</td>\n",
       "      <td>1</td>\n",
       "      <td>4</td>\n",
       "      <td>1219017600</td>\n",
       "      <td>\"Delight\" says it all</td>\n",
       "      <td>This is a confection that has been around a fe...</td>\n",
       "    </tr>\n",
       "    <tr>\n",
       "      <th>3</th>\n",
       "      <td>4</td>\n",
       "      <td>B000UA0QIQ</td>\n",
       "      <td>A395BORC6FGVXV</td>\n",
       "      <td>Karl</td>\n",
       "      <td>3</td>\n",
       "      <td>3</td>\n",
       "      <td>2</td>\n",
       "      <td>1307923200</td>\n",
       "      <td>Cough Medicine</td>\n",
       "      <td>If you are looking for the secret ingredient i...</td>\n",
       "    </tr>\n",
       "    <tr>\n",
       "      <th>4</th>\n",
       "      <td>5</td>\n",
       "      <td>B006K2ZZ7K</td>\n",
       "      <td>A1UQRSCLF8GW1T</td>\n",
       "      <td>Michael D. Bigham \"M. Wassir\"</td>\n",
       "      <td>0</td>\n",
       "      <td>0</td>\n",
       "      <td>5</td>\n",
       "      <td>1350777600</td>\n",
       "      <td>Great taffy</td>\n",
       "      <td>Great taffy at a great price.  There was a wid...</td>\n",
       "    </tr>\n",
       "  </tbody>\n",
       "</table>\n",
       "</div>"
      ],
      "text/plain": [
       "   Id   ProductId          UserId                      ProfileName  \\\n",
       "0   1  B001E4KFG0  A3SGXH7AUHU8GW                       delmartian   \n",
       "1   2  B00813GRG4  A1D87F6ZCVE5NK                           dll pa   \n",
       "2   3  B000LQOCH0   ABXLMWJIXXAIN  Natalia Corres \"Natalia Corres\"   \n",
       "3   4  B000UA0QIQ  A395BORC6FGVXV                             Karl   \n",
       "4   5  B006K2ZZ7K  A1UQRSCLF8GW1T    Michael D. Bigham \"M. Wassir\"   \n",
       "\n",
       "   HelpfulnessNumerator  HelpfulnessDenominator  Score        Time  \\\n",
       "0                     1                       1      5  1303862400   \n",
       "1                     0                       0      1  1346976000   \n",
       "2                     1                       1      4  1219017600   \n",
       "3                     3                       3      2  1307923200   \n",
       "4                     0                       0      5  1350777600   \n",
       "\n",
       "                 Summary                                               Text  \n",
       "0  Good Quality Dog Food  I have bought several of the Vitality canned d...  \n",
       "1      Not as Advertised  Product arrived labeled as Jumbo Salted Peanut...  \n",
       "2  \"Delight\" says it all  This is a confection that has been around a fe...  \n",
       "3         Cough Medicine  If you are looking for the secret ingredient i...  \n",
       "4            Great taffy  Great taffy at a great price.  There was a wid...  "
      ]
     },
     "execution_count": 2,
     "metadata": {},
     "output_type": "execute_result"
    }
   ],
   "source": [
    "df=pd.read_csv(\"Reviews.csv\")\n",
    "df.head()"
   ]
  },
  {
   "cell_type": "code",
   "execution_count": 3,
   "id": "0d6de750",
   "metadata": {},
   "outputs": [
    {
     "data": {
      "text/plain": [
       "498716    Mexico does not have the same standards for<br...\n",
       "400133    Ingredients are listed in order from largest a...\n",
       "Name: Text, dtype: object"
      ]
     },
     "execution_count": 3,
     "metadata": {},
     "output_type": "execute_result"
    }
   ],
   "source": [
    "df['Text'].sample(2)"
   ]
  },
  {
   "cell_type": "code",
   "execution_count": 4,
   "id": "151e66f4",
   "metadata": {},
   "outputs": [
    {
     "data": {
      "text/plain": [
       "array([5, 1, 4, 2, 3])"
      ]
     },
     "execution_count": 4,
     "metadata": {},
     "output_type": "execute_result"
    }
   ],
   "source": [
    "df['Score'].unique()"
   ]
  },
  {
   "cell_type": "code",
   "execution_count": 5,
   "id": "19a028c0",
   "metadata": {},
   "outputs": [
    {
     "data": {
      "text/plain": [
       "Text(0.5, 0, 'Star Rating')"
      ]
     },
     "execution_count": 5,
     "metadata": {},
     "output_type": "execute_result"
    },
    {
     "data": {
      "image/png": "[encoded data removed]",
      "text/plain": [
       "<Figure size 640x480 with 1 Axes>"
      ]
     },
     "metadata": {},
     "output_type": "display_data"
    }
   ],
   "source": [
    "ax1=df['Score'].value_counts().sort_index().plot(kind='bar',title=\"COUNT OF REVIEW BY STARS\")\n",
    "ax1.set_xlabel('Star Rating')"
   ]
  },
  {
   "cell_type": "code",
   "execution_count": 6,
   "id": "4ea307ff-1caf-4e7f-aa88-d994acdda79c",
   "metadata": {},
   "outputs": [],
   "source": [
    "#PERFORMING UNDERSAMPLING\n",
    "from imblearn.under_sampling import RandomUnderSampler\n",
    "rs=RandomUnderSampler(sampling_strategy={1:10000,2:10000,3:10000,4:10000,5:10000})\n",
    "x_res,y_res=rs.fit_resample(df,df['Score'])"
   ]
  },
  {
   "cell_type": "code",
   "execution_count": 7,
   "id": "3ba6424a-4ba0-4709-9d9f-4d6380a325d2",
   "metadata": {},
   "outputs": [
    {
     "data": {
      "text/html": [
       "<div>\n",
       "<style scoped>\n",
       "    .dataframe tbody tr th:only-of-type {\n",
       "        vertical-align: middle;\n",
       "    }\n",
       "\n",
       "    .dataframe tbody tr th {\n",
       "        vertical-align: top;\n",
       "    }\n",
       "\n",
       "    .dataframe thead th {\n",
       "        text-align: right;\n",
       "    }\n",
       "</style>\n",
       "<table border=\"1\" class=\"dataframe\">\n",
       "  <thead>\n",
       "    <tr style=\"text-align: right;\">\n",
       "      <th></th>\n",
       "      <th>Id</th>\n",
       "      <th>ProductId</th>\n",
       "      <th>UserId</th>\n",
       "      <th>ProfileName</th>\n",
       "      <th>HelpfulnessNumerator</th>\n",
       "      <th>HelpfulnessDenominator</th>\n",
       "      <th>Score</th>\n",
       "      <th>Time</th>\n",
       "      <th>Summary</th>\n",
       "      <th>Text</th>\n",
       "    </tr>\n",
       "  </thead>\n",
       "  <tbody>\n",
       "    <tr>\n",
       "      <th>526015</th>\n",
       "      <td>526016</td>\n",
       "      <td>B003HD26NG</td>\n",
       "      <td>A2SYW8B9U2K845</td>\n",
       "      <td>chefjill</td>\n",
       "      <td>0</td>\n",
       "      <td>11</td>\n",
       "      <td>1</td>\n",
       "      <td>1304208000</td>\n",
       "      <td>crushedcookies</td>\n",
       "      <td>I thought this was a cook book? The cookies ar...</td>\n",
       "    </tr>\n",
       "    <tr>\n",
       "      <th>460583</th>\n",
       "      <td>460584</td>\n",
       "      <td>B004JXDCC2</td>\n",
       "      <td>AJ6D41YMLMNRR</td>\n",
       "      <td>R. Johnson</td>\n",
       "      <td>10</td>\n",
       "      <td>12</td>\n",
       "      <td>1</td>\n",
       "      <td>1299801600</td>\n",
       "      <td>Agree with Joe Compute</td>\n",
       "      <td>I agree with Joe....this is ridiculous.  Not l...</td>\n",
       "    </tr>\n",
       "    <tr>\n",
       "      <th>479542</th>\n",
       "      <td>479543</td>\n",
       "      <td>B00514EUT2</td>\n",
       "      <td>A2RLJDBNDC2XHW</td>\n",
       "      <td>YY \"YY\"</td>\n",
       "      <td>0</td>\n",
       "      <td>1</td>\n",
       "      <td>1</td>\n",
       "      <td>1347235200</td>\n",
       "      <td>Over priced!</td>\n",
       "      <td>Found the same product in Target and it only c...</td>\n",
       "    </tr>\n",
       "    <tr>\n",
       "      <th>27670</th>\n",
       "      <td>27671</td>\n",
       "      <td>B000K8ESBE</td>\n",
       "      <td>A3H4RR9A4OSA5W</td>\n",
       "      <td>GARRYS FREETELEVISION</td>\n",
       "      <td>0</td>\n",
       "      <td>0</td>\n",
       "      <td>1</td>\n",
       "      <td>1304726400</td>\n",
       "      <td>AWFUL</td>\n",
       "      <td>Do not waste your money on this. I waited anxi...</td>\n",
       "    </tr>\n",
       "    <tr>\n",
       "      <th>441908</th>\n",
       "      <td>441909</td>\n",
       "      <td>B004E4HUMY</td>\n",
       "      <td>A2503LT8PZIHAD</td>\n",
       "      <td>Scary Gertrude,  the Bad Sheriff for Life \"Li...</td>\n",
       "      <td>2</td>\n",
       "      <td>3</td>\n",
       "      <td>1</td>\n",
       "      <td>1328400000</td>\n",
       "      <td>No tea leaves were harmed in the making of thi...</td>\n",
       "      <td>At first this didn't taste like anything.  By ...</td>\n",
       "    </tr>\n",
       "  </tbody>\n",
       "</table>\n",
       "</div>"
      ],
      "text/plain": [
       "            Id   ProductId          UserId  \\\n",
       "526015  526016  B003HD26NG  A2SYW8B9U2K845   \n",
       "460583  460584  B004JXDCC2   AJ6D41YMLMNRR   \n",
       "479542  479543  B00514EUT2  A2RLJDBNDC2XHW   \n",
       "27670    27671  B000K8ESBE  A3H4RR9A4OSA5W   \n",
       "441908  441909  B004E4HUMY  A2503LT8PZIHAD   \n",
       "\n",
       "                                             ProfileName  \\\n",
       "526015                                          chefjill   \n",
       "460583                                        R. Johnson   \n",
       "479542                                           YY \"YY\"   \n",
       "27670                              GARRYS FREETELEVISION   \n",
       "441908  Scary Gertrude,  the Bad Sheriff for Life \"Li...   \n",
       "\n",
       "        HelpfulnessNumerator  HelpfulnessDenominator  Score        Time  \\\n",
       "526015                     0                      11      1  1304208000   \n",
       "460583                    10                      12      1  1299801600   \n",
       "479542                     0                       1      1  1347235200   \n",
       "27670                      0                       0      1  1304726400   \n",
       "441908                     2                       3      1  1328400000   \n",
       "\n",
       "                                                  Summary  \\\n",
       "526015                                     crushedcookies   \n",
       "460583                             Agree with Joe Compute   \n",
       "479542                                       Over priced!   \n",
       "27670                                               AWFUL   \n",
       "441908  No tea leaves were harmed in the making of thi...   \n",
       "\n",
       "                                                     Text  \n",
       "526015  I thought this was a cook book? The cookies ar...  \n",
       "460583  I agree with Joe....this is ridiculous.  Not l...  \n",
       "479542  Found the same product in Target and it only c...  \n",
       "27670   Do not waste your money on this. I waited anxi...  \n",
       "441908  At first this didn't taste like anything.  By ...  "
      ]
     },
     "execution_count": 7,
     "metadata": {},
     "output_type": "execute_result"
    }
   ],
   "source": [
    "new_df=x_res\n",
    "new_df.head()"
   ]
  },
  {
   "cell_type": "code",
   "execution_count": 8,
   "id": "8e132289",
   "metadata": {},
   "outputs": [],
   "source": [
    "#PERFORMING UNDERSAMPLING\n",
    "from imblearn.under_sampling import RandomUnderSampler\n",
    "rs=RandomUnderSampler(sampling_strategy={1:10000,2:10000,3:10000,4:10000,5:10000})\n",
    "x_res,y_res=rs.fit_resample(df,df['Score'])"
   ]
  },
  {
   "cell_type": "code",
   "execution_count": 9,
   "id": "53b326e5",
   "metadata": {},
   "outputs": [
    {
     "data": {
      "text/plain": [
       "Score\n",
       "1    10000\n",
       "2    10000\n",
       "3    10000\n",
       "4    10000\n",
       "5    10000\n",
       "Name: count, dtype: int64"
      ]
     },
     "execution_count": 9,
     "metadata": {},
     "output_type": "execute_result"
    }
   ],
   "source": [
    "#AFTER UNDERSAMPLING\n",
    "new_df['Score'].value_counts()"
   ]
  },
  {
   "cell_type": "code",
   "execution_count": 10,
   "id": "d9862dfa",
   "metadata": {},
   "outputs": [
    {
     "data": {
      "text/plain": [
       "Text(0.5, 0, 'Star Rating')"
      ]
     },
     "execution_count": 10,
     "metadata": {},
     "output_type": "execute_result"
    },
    {
     "data": {
      "image/png": "[encoded data removed]",
      "text/plain": [
       "<Figure size 640x480 with 1 Axes>"
      ]
     },
     "metadata": {},
     "output_type": "display_data"
    }
   ],
   "source": [
    "ax2=new_df['Score'].value_counts().sort_index().plot(kind='bar',title=\"COUNT OF REVIEW BY STARS\")\n",
    "ax2.set_xlabel('Star Rating')"
   ]
  },
  {
   "cell_type": "markdown",
   "id": "9979a819-6601-47a2-945b-174a7ec3e52b",
   "metadata": {},
   "source": [
    "# Classifying Reviews using VADER Model"
   ]
  },
  {
   "cell_type": "code",
   "execution_count": 11,
   "id": "3cd1a241",
   "metadata": {},
   "outputs": [],
   "source": [
    "sia=SentimentIntensityAnalyzer()"
   ]
  },
  {
   "cell_type": "code",
   "execution_count": 12,
   "id": "cd7c711d",
   "metadata": {},
   "outputs": [
    {
     "data": {
      "text/plain": [
       "{'neg': 0.0, 'neu': 0.58, 'pos': 0.42, 'compound': 0.4404}"
      ]
     },
     "execution_count": 12,
     "metadata": {},
     "output_type": "execute_result"
    }
   ],
   "source": [
    "sia.polarity_scores(\" It's as good as expected \")"
   ]
  },
  {
   "cell_type": "code",
   "execution_count": 13,
   "id": "bfff7c1e",
   "metadata": {},
   "outputs": [
    {
     "data": {
      "text/plain": [
       "{'neg': 0.714, 'neu': 0.286, 'pos': 0.0, 'compound': -0.3612}"
      ]
     },
     "execution_count": 13,
     "metadata": {},
     "output_type": "execute_result"
    }
   ],
   "source": [
    "sia.polarity_scores(\"It's ridiculous\")"
   ]
  },
  {
   "cell_type": "code",
   "execution_count": 14,
   "id": "90babbf1-db5c-4844-b214-d51888d38a63",
   "metadata": {},
   "outputs": [
    {
     "data": {
      "text/plain": [
       "{'neg': 0.0, 'neu': 0.794, 'pos': 0.206, 'compound': 0.3252}"
      ]
     },
     "execution_count": 14,
     "metadata": {},
     "output_type": "execute_result"
    }
   ],
   "source": [
    "sia.polarity_scores(\"Most of the time it is good,but rarely it fails.\")"
   ]
  },
  {
   "cell_type": "code",
   "execution_count": 15,
   "id": "d72a2cf3",
   "metadata": {},
   "outputs": [
    {
     "data": {
      "application/vnd.jupyter.widget-view+json": {
       "model_id": "8323b3588ad3483baf0bd767288c2aac",
       "version_major": 2,
       "version_minor": 0
      },
      "text/plain": [
       "  0%|          | 0/50000 [00:00<?, ?it/s]"
      ]
     },
     "metadata": {},
     "output_type": "display_data"
    }
   ],
   "source": [
    "res={}\n",
    "for i ,row in tqdm(new_df.iterrows(),total=len(new_df)):\n",
    "    text=row['Text']\n",
    "    myid=row['Id']\n",
    "    res[myid]=sia.polarity_scores(text)"
   ]
  },
  {
   "cell_type": "code",
   "execution_count": 16,
   "id": "cd7929de",
   "metadata": {},
   "outputs": [
    {
     "data": {
      "text/html": [
       "<div>\n",
       "<style scoped>\n",
       "    .dataframe tbody tr th:only-of-type {\n",
       "        vertical-align: middle;\n",
       "    }\n",
       "\n",
       "    .dataframe tbody tr th {\n",
       "        vertical-align: top;\n",
       "    }\n",
       "\n",
       "    .dataframe thead th {\n",
       "        text-align: right;\n",
       "    }\n",
       "</style>\n",
       "<table border=\"1\" class=\"dataframe\">\n",
       "  <thead>\n",
       "    <tr style=\"text-align: right;\">\n",
       "      <th></th>\n",
       "      <th>neg</th>\n",
       "      <th>neu</th>\n",
       "      <th>pos</th>\n",
       "      <th>compound</th>\n",
       "    </tr>\n",
       "  </thead>\n",
       "  <tbody>\n",
       "    <tr>\n",
       "      <th>526016</th>\n",
       "      <td>0.256</td>\n",
       "      <td>0.744</td>\n",
       "      <td>0.000</td>\n",
       "      <td>-0.6711</td>\n",
       "    </tr>\n",
       "    <tr>\n",
       "      <th>460584</th>\n",
       "      <td>0.116</td>\n",
       "      <td>0.787</td>\n",
       "      <td>0.097</td>\n",
       "      <td>-0.0026</td>\n",
       "    </tr>\n",
       "    <tr>\n",
       "      <th>479543</th>\n",
       "      <td>0.000</td>\n",
       "      <td>1.000</td>\n",
       "      <td>0.000</td>\n",
       "      <td>0.0000</td>\n",
       "    </tr>\n",
       "    <tr>\n",
       "      <th>27671</th>\n",
       "      <td>0.068</td>\n",
       "      <td>0.882</td>\n",
       "      <td>0.050</td>\n",
       "      <td>-0.3056</td>\n",
       "    </tr>\n",
       "    <tr>\n",
       "      <th>441909</th>\n",
       "      <td>0.103</td>\n",
       "      <td>0.830</td>\n",
       "      <td>0.067</td>\n",
       "      <td>-0.6083</td>\n",
       "    </tr>\n",
       "  </tbody>\n",
       "</table>\n",
       "</div>"
      ],
      "text/plain": [
       "          neg    neu    pos  compound\n",
       "526016  0.256  0.744  0.000   -0.6711\n",
       "460584  0.116  0.787  0.097   -0.0026\n",
       "479543  0.000  1.000  0.000    0.0000\n",
       "27671   0.068  0.882  0.050   -0.3056\n",
       "441909  0.103  0.830  0.067   -0.6083"
      ]
     },
     "execution_count": 16,
     "metadata": {},
     "output_type": "execute_result"
    }
   ],
   "source": [
    "vaders=pd.DataFrame(res).T\n",
    "vaders.head()"
   ]
  },
  {
   "cell_type": "code",
   "execution_count": 17,
   "id": "f04f46b1",
   "metadata": {},
   "outputs": [],
   "source": [
    "vaders=vaders.rename(columns={'neg':\"vaders_negative\",'neu':\"vaders_neutral\",'pos':\"vaders_positive\",'compound':\"vaders_compound\"})"
   ]
  },
  {
   "cell_type": "code",
   "execution_count": 18,
   "id": "ed85c8e1",
   "metadata": {},
   "outputs": [
    {
     "data": {
      "text/html": [
       "<div>\n",
       "<style scoped>\n",
       "    .dataframe tbody tr th:only-of-type {\n",
       "        vertical-align: middle;\n",
       "    }\n",
       "\n",
       "    .dataframe tbody tr th {\n",
       "        vertical-align: top;\n",
       "    }\n",
       "\n",
       "    .dataframe thead th {\n",
       "        text-align: right;\n",
       "    }\n",
       "</style>\n",
       "<table border=\"1\" class=\"dataframe\">\n",
       "  <thead>\n",
       "    <tr style=\"text-align: right;\">\n",
       "      <th></th>\n",
       "      <th>vaders_negative</th>\n",
       "      <th>vaders_neutral</th>\n",
       "      <th>vaders_positive</th>\n",
       "      <th>vaders_compound</th>\n",
       "    </tr>\n",
       "  </thead>\n",
       "  <tbody>\n",
       "    <tr>\n",
       "      <th>526016</th>\n",
       "      <td>0.256</td>\n",
       "      <td>0.744</td>\n",
       "      <td>0.000</td>\n",
       "      <td>-0.6711</td>\n",
       "    </tr>\n",
       "    <tr>\n",
       "      <th>460584</th>\n",
       "      <td>0.116</td>\n",
       "      <td>0.787</td>\n",
       "      <td>0.097</td>\n",
       "      <td>-0.0026</td>\n",
       "    </tr>\n",
       "    <tr>\n",
       "      <th>479543</th>\n",
       "      <td>0.000</td>\n",
       "      <td>1.000</td>\n",
       "      <td>0.000</td>\n",
       "      <td>0.0000</td>\n",
       "    </tr>\n",
       "    <tr>\n",
       "      <th>27671</th>\n",
       "      <td>0.068</td>\n",
       "      <td>0.882</td>\n",
       "      <td>0.050</td>\n",
       "      <td>-0.3056</td>\n",
       "    </tr>\n",
       "    <tr>\n",
       "      <th>441909</th>\n",
       "      <td>0.103</td>\n",
       "      <td>0.830</td>\n",
       "      <td>0.067</td>\n",
       "      <td>-0.6083</td>\n",
       "    </tr>\n",
       "  </tbody>\n",
       "</table>\n",
       "</div>"
      ],
      "text/plain": [
       "        vaders_negative  vaders_neutral  vaders_positive  vaders_compound\n",
       "526016            0.256           0.744            0.000          -0.6711\n",
       "460584            0.116           0.787            0.097          -0.0026\n",
       "479543            0.000           1.000            0.000           0.0000\n",
       "27671             0.068           0.882            0.050          -0.3056\n",
       "441909            0.103           0.830            0.067          -0.6083"
      ]
     },
     "execution_count": 18,
     "metadata": {},
     "output_type": "execute_result"
    }
   ],
   "source": [
    "vaders.head()"
   ]
  },
  {
   "cell_type": "code",
   "execution_count": 19,
   "id": "49e76074",
   "metadata": {},
   "outputs": [
    {
     "data": {
      "text/html": [
       "<div>\n",
       "<style scoped>\n",
       "    .dataframe tbody tr th:only-of-type {\n",
       "        vertical-align: middle;\n",
       "    }\n",
       "\n",
       "    .dataframe tbody tr th {\n",
       "        vertical-align: top;\n",
       "    }\n",
       "\n",
       "    .dataframe thead th {\n",
       "        text-align: right;\n",
       "    }\n",
       "</style>\n",
       "<table border=\"1\" class=\"dataframe\">\n",
       "  <thead>\n",
       "    <tr style=\"text-align: right;\">\n",
       "      <th></th>\n",
       "      <th>index</th>\n",
       "      <th>vaders_negative</th>\n",
       "      <th>vaders_neutral</th>\n",
       "      <th>vaders_positive</th>\n",
       "      <th>vaders_compound</th>\n",
       "    </tr>\n",
       "  </thead>\n",
       "  <tbody>\n",
       "    <tr>\n",
       "      <th>0</th>\n",
       "      <td>526016</td>\n",
       "      <td>0.256</td>\n",
       "      <td>0.744</td>\n",
       "      <td>0.000</td>\n",
       "      <td>-0.6711</td>\n",
       "    </tr>\n",
       "    <tr>\n",
       "      <th>1</th>\n",
       "      <td>460584</td>\n",
       "      <td>0.116</td>\n",
       "      <td>0.787</td>\n",
       "      <td>0.097</td>\n",
       "      <td>-0.0026</td>\n",
       "    </tr>\n",
       "    <tr>\n",
       "      <th>2</th>\n",
       "      <td>479543</td>\n",
       "      <td>0.000</td>\n",
       "      <td>1.000</td>\n",
       "      <td>0.000</td>\n",
       "      <td>0.0000</td>\n",
       "    </tr>\n",
       "    <tr>\n",
       "      <th>3</th>\n",
       "      <td>27671</td>\n",
       "      <td>0.068</td>\n",
       "      <td>0.882</td>\n",
       "      <td>0.050</td>\n",
       "      <td>-0.3056</td>\n",
       "    </tr>\n",
       "    <tr>\n",
       "      <th>4</th>\n",
       "      <td>441909</td>\n",
       "      <td>0.103</td>\n",
       "      <td>0.830</td>\n",
       "      <td>0.067</td>\n",
       "      <td>-0.6083</td>\n",
       "    </tr>\n",
       "  </tbody>\n",
       "</table>\n",
       "</div>"
      ],
      "text/plain": [
       "    index  vaders_negative  vaders_neutral  vaders_positive  vaders_compound\n",
       "0  526016            0.256           0.744            0.000          -0.6711\n",
       "1  460584            0.116           0.787            0.097          -0.0026\n",
       "2  479543            0.000           1.000            0.000           0.0000\n",
       "3   27671            0.068           0.882            0.050          -0.3056\n",
       "4  441909            0.103           0.830            0.067          -0.6083"
      ]
     },
     "execution_count": 19,
     "metadata": {},
     "output_type": "execute_result"
    }
   ],
   "source": [
    "vaders=vaders.reset_index()\n",
    "vaders.head()"
   ]
  },
  {
   "cell_type": "code",
   "execution_count": 20,
   "id": "32d8a5e7",
   "metadata": {},
   "outputs": [],
   "source": [
    "vaders=vaders.rename(columns={'index':'Id'})"
   ]
  },
  {
   "cell_type": "code",
   "execution_count": 21,
   "id": "e08ffbde",
   "metadata": {},
   "outputs": [
    {
     "data": {
      "text/html": [
       "<div>\n",
       "<style scoped>\n",
       "    .dataframe tbody tr th:only-of-type {\n",
       "        vertical-align: middle;\n",
       "    }\n",
       "\n",
       "    .dataframe tbody tr th {\n",
       "        vertical-align: top;\n",
       "    }\n",
       "\n",
       "    .dataframe thead th {\n",
       "        text-align: right;\n",
       "    }\n",
       "</style>\n",
       "<table border=\"1\" class=\"dataframe\">\n",
       "  <thead>\n",
       "    <tr style=\"text-align: right;\">\n",
       "      <th></th>\n",
       "      <th>Id</th>\n",
       "      <th>vaders_negative</th>\n",
       "      <th>vaders_neutral</th>\n",
       "      <th>vaders_positive</th>\n",
       "      <th>vaders_compound</th>\n",
       "      <th>ProductId</th>\n",
       "      <th>UserId</th>\n",
       "      <th>ProfileName</th>\n",
       "      <th>HelpfulnessNumerator</th>\n",
       "      <th>HelpfulnessDenominator</th>\n",
       "      <th>Score</th>\n",
       "      <th>Time</th>\n",
       "      <th>Summary</th>\n",
       "      <th>Text</th>\n",
       "    </tr>\n",
       "  </thead>\n",
       "  <tbody>\n",
       "    <tr>\n",
       "      <th>0</th>\n",
       "      <td>526016</td>\n",
       "      <td>0.256</td>\n",
       "      <td>0.744</td>\n",
       "      <td>0.000</td>\n",
       "      <td>-0.6711</td>\n",
       "      <td>B003HD26NG</td>\n",
       "      <td>A2SYW8B9U2K845</td>\n",
       "      <td>chefjill</td>\n",
       "      <td>0</td>\n",
       "      <td>11</td>\n",
       "      <td>1</td>\n",
       "      <td>1304208000</td>\n",
       "      <td>crushedcookies</td>\n",
       "      <td>I thought this was a cook book? The cookies ar...</td>\n",
       "    </tr>\n",
       "    <tr>\n",
       "      <th>1</th>\n",
       "      <td>460584</td>\n",
       "      <td>0.116</td>\n",
       "      <td>0.787</td>\n",
       "      <td>0.097</td>\n",
       "      <td>-0.0026</td>\n",
       "      <td>B004JXDCC2</td>\n",
       "      <td>AJ6D41YMLMNRR</td>\n",
       "      <td>R. Johnson</td>\n",
       "      <td>10</td>\n",
       "      <td>12</td>\n",
       "      <td>1</td>\n",
       "      <td>1299801600</td>\n",
       "      <td>Agree with Joe Compute</td>\n",
       "      <td>I agree with Joe....this is ridiculous.  Not l...</td>\n",
       "    </tr>\n",
       "    <tr>\n",
       "      <th>2</th>\n",
       "      <td>479543</td>\n",
       "      <td>0.000</td>\n",
       "      <td>1.000</td>\n",
       "      <td>0.000</td>\n",
       "      <td>0.0000</td>\n",
       "      <td>B00514EUT2</td>\n",
       "      <td>A2RLJDBNDC2XHW</td>\n",
       "      <td>YY \"YY\"</td>\n",
       "      <td>0</td>\n",
       "      <td>1</td>\n",
       "      <td>1</td>\n",
       "      <td>1347235200</td>\n",
       "      <td>Over priced!</td>\n",
       "      <td>Found the same product in Target and it only c...</td>\n",
       "    </tr>\n",
       "    <tr>\n",
       "      <th>3</th>\n",
       "      <td>27671</td>\n",
       "      <td>0.068</td>\n",
       "      <td>0.882</td>\n",
       "      <td>0.050</td>\n",
       "      <td>-0.3056</td>\n",
       "      <td>B000K8ESBE</td>\n",
       "      <td>A3H4RR9A4OSA5W</td>\n",
       "      <td>GARRYS FREETELEVISION</td>\n",
       "      <td>0</td>\n",
       "      <td>0</td>\n",
       "      <td>1</td>\n",
       "      <td>1304726400</td>\n",
       "      <td>AWFUL</td>\n",
       "      <td>Do not waste your money on this. I waited anxi...</td>\n",
       "    </tr>\n",
       "    <tr>\n",
       "      <th>4</th>\n",
       "      <td>441909</td>\n",
       "      <td>0.103</td>\n",
       "      <td>0.830</td>\n",
       "      <td>0.067</td>\n",
       "      <td>-0.6083</td>\n",
       "      <td>B004E4HUMY</td>\n",
       "      <td>A2503LT8PZIHAD</td>\n",
       "      <td>Scary Gertrude,  the Bad Sheriff for Life \"Li...</td>\n",
       "      <td>2</td>\n",
       "      <td>3</td>\n",
       "      <td>1</td>\n",
       "      <td>1328400000</td>\n",
       "      <td>No tea leaves were harmed in the making of thi...</td>\n",
       "      <td>At first this didn't taste like anything.  By ...</td>\n",
       "    </tr>\n",
       "  </tbody>\n",
       "</table>\n",
       "</div>"
      ],
      "text/plain": [
       "       Id  vaders_negative  vaders_neutral  vaders_positive  vaders_compound  \\\n",
       "0  526016            0.256           0.744            0.000          -0.6711   \n",
       "1  460584            0.116           0.787            0.097          -0.0026   \n",
       "2  479543            0.000           1.000            0.000           0.0000   \n",
       "3   27671            0.068           0.882            0.050          -0.3056   \n",
       "4  441909            0.103           0.830            0.067          -0.6083   \n",
       "\n",
       "    ProductId          UserId  \\\n",
       "0  B003HD26NG  A2SYW8B9U2K845   \n",
       "1  B004JXDCC2   AJ6D41YMLMNRR   \n",
       "2  B00514EUT2  A2RLJDBNDC2XHW   \n",
       "3  B000K8ESBE  A3H4RR9A4OSA5W   \n",
       "4  B004E4HUMY  A2503LT8PZIHAD   \n",
       "\n",
       "                                        ProfileName  HelpfulnessNumerator  \\\n",
       "0                                          chefjill                     0   \n",
       "1                                        R. Johnson                    10   \n",
       "2                                           YY \"YY\"                     0   \n",
       "3                             GARRYS FREETELEVISION                     0   \n",
       "4  Scary Gertrude,  the Bad Sheriff for Life \"Li...                     2   \n",
       "\n",
       "   HelpfulnessDenominator  Score        Time  \\\n",
       "0                      11      1  1304208000   \n",
       "1                      12      1  1299801600   \n",
       "2                       1      1  1347235200   \n",
       "3                       0      1  1304726400   \n",
       "4                       3      1  1328400000   \n",
       "\n",
       "                                             Summary  \\\n",
       "0                                     crushedcookies   \n",
       "1                             Agree with Joe Compute   \n",
       "2                                       Over priced!   \n",
       "3                                              AWFUL   \n",
       "4  No tea leaves were harmed in the making of thi...   \n",
       "\n",
       "                                                Text  \n",
       "0  I thought this was a cook book? The cookies ar...  \n",
       "1  I agree with Joe....this is ridiculous.  Not l...  \n",
       "2  Found the same product in Target and it only c...  \n",
       "3  Do not waste your money on this. I waited anxi...  \n",
       "4  At first this didn't taste like anything.  By ...  "
      ]
     },
     "execution_count": 21,
     "metadata": {},
     "output_type": "execute_result"
    }
   ],
   "source": [
    "vaders=vaders.merge(new_df,how='left')\n",
    "vaders.head()"
   ]
  },
  {
   "cell_type": "code",
   "execution_count": 22,
   "id": "6dbd8a06",
   "metadata": {},
   "outputs": [
    {
     "data": {
      "image/png": "[encoded data removed]",
      "text/plain": [
       "<Figure size 1200x300 with 3 Axes>"
      ]
     },
     "metadata": {},
     "output_type": "display_data"
    }
   ],
   "source": [
    "#Visualizing The Change In Scores With Respect To Star Ratings\n",
    "fig,ax3=plt.subplots(1,3,figsize=(12,3))\n",
    "sns.barplot(data=vaders,x='Score',y='vaders_positive',ax=ax3[0])\n",
    "sns.barplot(data=vaders,x='Score',y='vaders_neutral',ax=ax3[1])\n",
    "sns.barplot(data=vaders,x='Score',y='vaders_negative',ax=ax3[2])\n",
    "ax3[0].set_title(\"Positive Scores\")\n",
    "ax3[1].set_title(\"Neutral Scores\")\n",
    "ax3[2].set_title(\"Negative Scores\")\n",
    "plt.tight_layout()"
   ]
  },
  {
   "cell_type": "code",
   "execution_count": 23,
   "id": "db22891f",
   "metadata": {},
   "outputs": [
    {
     "data": {
      "application/vnd.jupyter.widget-view+json": {
       "model_id": "cf8e4d56aeab4c5e9312f2d1d3d5d16c",
       "version_major": 2,
       "version_minor": 0
      },
      "text/plain": [
       "  0%|          | 0/50000 [00:00<?, ?it/s]"
      ]
     },
     "metadata": {},
     "output_type": "display_data"
    }
   ],
   "source": [
    "#Setting Threshold values\n",
    "vpred=[]\n",
    "for i,row in tqdm(vaders.iterrows(),total=len(vaders)):\n",
    "    comp_score=row['vaders_compound']\n",
    "    if(comp_score>0.4):\n",
    "        vpred.append(\"Positve\")\n",
    "    elif(comp_score<0):\n",
    "        vpred.append(\"Negative\")\n",
    "    else:\n",
    "        vpred.append(\"Neutral\")"
   ]
  },
  {
   "cell_type": "code",
   "execution_count": 24,
   "id": "2502132a",
   "metadata": {},
   "outputs": [],
   "source": [
    "vpred=pd.DataFrame(vpred)"
   ]
  },
  {
   "cell_type": "code",
   "execution_count": 25,
   "id": "94e0610d",
   "metadata": {},
   "outputs": [],
   "source": [
    "vaders_fin=pd.concat([vaders,vpred],axis=1)"
   ]
  },
  {
   "cell_type": "code",
   "execution_count": 26,
   "id": "213bdf0c",
   "metadata": {
    "scrolled": true
   },
   "outputs": [
    {
     "data": {
      "text/html": [
       "<div>\n",
       "<style scoped>\n",
       "    .dataframe tbody tr th:only-of-type {\n",
       "        vertical-align: middle;\n",
       "    }\n",
       "\n",
       "    .dataframe tbody tr th {\n",
       "        vertical-align: top;\n",
       "    }\n",
       "\n",
       "    .dataframe thead th {\n",
       "        text-align: right;\n",
       "    }\n",
       "</style>\n",
       "<table border=\"1\" class=\"dataframe\">\n",
       "  <thead>\n",
       "    <tr style=\"text-align: right;\">\n",
       "      <th></th>\n",
       "      <th>Id</th>\n",
       "      <th>vaders_negative</th>\n",
       "      <th>vaders_neutral</th>\n",
       "      <th>vaders_positive</th>\n",
       "      <th>vaders_compound</th>\n",
       "      <th>ProductId</th>\n",
       "      <th>UserId</th>\n",
       "      <th>ProfileName</th>\n",
       "      <th>HelpfulnessNumerator</th>\n",
       "      <th>HelpfulnessDenominator</th>\n",
       "      <th>Score</th>\n",
       "      <th>Time</th>\n",
       "      <th>Summary</th>\n",
       "      <th>Text</th>\n",
       "      <th>Vaders Prediction</th>\n",
       "    </tr>\n",
       "  </thead>\n",
       "  <tbody>\n",
       "    <tr>\n",
       "      <th>0</th>\n",
       "      <td>526016</td>\n",
       "      <td>0.256</td>\n",
       "      <td>0.744</td>\n",
       "      <td>0.000</td>\n",
       "      <td>-0.6711</td>\n",
       "      <td>B003HD26NG</td>\n",
       "      <td>A2SYW8B9U2K845</td>\n",
       "      <td>chefjill</td>\n",
       "      <td>0</td>\n",
       "      <td>11</td>\n",
       "      <td>1</td>\n",
       "      <td>1304208000</td>\n",
       "      <td>crushedcookies</td>\n",
       "      <td>I thought this was a cook book? The cookies ar...</td>\n",
       "      <td>Negative</td>\n",
       "    </tr>\n",
       "    <tr>\n",
       "      <th>1</th>\n",
       "      <td>460584</td>\n",
       "      <td>0.116</td>\n",
       "      <td>0.787</td>\n",
       "      <td>0.097</td>\n",
       "      <td>-0.0026</td>\n",
       "      <td>B004JXDCC2</td>\n",
       "      <td>AJ6D41YMLMNRR</td>\n",
       "      <td>R. Johnson</td>\n",
       "      <td>10</td>\n",
       "      <td>12</td>\n",
       "      <td>1</td>\n",
       "      <td>1299801600</td>\n",
       "      <td>Agree with Joe Compute</td>\n",
       "      <td>I agree with Joe....this is ridiculous.  Not l...</td>\n",
       "      <td>Negative</td>\n",
       "    </tr>\n",
       "    <tr>\n",
       "      <th>2</th>\n",
       "      <td>479543</td>\n",
       "      <td>0.000</td>\n",
       "      <td>1.000</td>\n",
       "      <td>0.000</td>\n",
       "      <td>0.0000</td>\n",
       "      <td>B00514EUT2</td>\n",
       "      <td>A2RLJDBNDC2XHW</td>\n",
       "      <td>YY \"YY\"</td>\n",
       "      <td>0</td>\n",
       "      <td>1</td>\n",
       "      <td>1</td>\n",
       "      <td>1347235200</td>\n",
       "      <td>Over priced!</td>\n",
       "      <td>Found the same product in Target and it only c...</td>\n",
       "      <td>Neutral</td>\n",
       "    </tr>\n",
       "    <tr>\n",
       "      <th>3</th>\n",
       "      <td>27671</td>\n",
       "      <td>0.068</td>\n",
       "      <td>0.882</td>\n",
       "      <td>0.050</td>\n",
       "      <td>-0.3056</td>\n",
       "      <td>B000K8ESBE</td>\n",
       "      <td>A3H4RR9A4OSA5W</td>\n",
       "      <td>GARRYS FREETELEVISION</td>\n",
       "      <td>0</td>\n",
       "      <td>0</td>\n",
       "      <td>1</td>\n",
       "      <td>1304726400</td>\n",
       "      <td>AWFUL</td>\n",
       "      <td>Do not waste your money on this. I waited anxi...</td>\n",
       "      <td>Negative</td>\n",
       "    </tr>\n",
       "    <tr>\n",
       "      <th>4</th>\n",
       "      <td>441909</td>\n",
       "      <td>0.103</td>\n",
       "      <td>0.830</td>\n",
       "      <td>0.067</td>\n",
       "      <td>-0.6083</td>\n",
       "      <td>B004E4HUMY</td>\n",
       "      <td>A2503LT8PZIHAD</td>\n",
       "      <td>Scary Gertrude,  the Bad Sheriff for Life \"Li...</td>\n",
       "      <td>2</td>\n",
       "      <td>3</td>\n",
       "      <td>1</td>\n",
       "      <td>1328400000</td>\n",
       "      <td>No tea leaves were harmed in the making of thi...</td>\n",
       "      <td>At first this didn't taste like anything.  By ...</td>\n",
       "      <td>Negative</td>\n",
       "    </tr>\n",
       "  </tbody>\n",
       "</table>\n",
       "</div>"
      ],
      "text/plain": [
       "       Id  vaders_negative  vaders_neutral  vaders_positive  vaders_compound  \\\n",
       "0  526016            0.256           0.744            0.000          -0.6711   \n",
       "1  460584            0.116           0.787            0.097          -0.0026   \n",
       "2  479543            0.000           1.000            0.000           0.0000   \n",
       "3   27671            0.068           0.882            0.050          -0.3056   \n",
       "4  441909            0.103           0.830            0.067          -0.6083   \n",
       "\n",
       "    ProductId          UserId  \\\n",
       "0  B003HD26NG  A2SYW8B9U2K845   \n",
       "1  B004JXDCC2   AJ6D41YMLMNRR   \n",
       "2  B00514EUT2  A2RLJDBNDC2XHW   \n",
       "3  B000K8ESBE  A3H4RR9A4OSA5W   \n",
       "4  B004E4HUMY  A2503LT8PZIHAD   \n",
       "\n",
       "                                        ProfileName  HelpfulnessNumerator  \\\n",
       "0                                          chefjill                     0   \n",
       "1                                        R. Johnson                    10   \n",
       "2                                           YY \"YY\"                     0   \n",
       "3                             GARRYS FREETELEVISION                     0   \n",
       "4  Scary Gertrude,  the Bad Sheriff for Life \"Li...                     2   \n",
       "\n",
       "   HelpfulnessDenominator  Score        Time  \\\n",
       "0                      11      1  1304208000   \n",
       "1                      12      1  1299801600   \n",
       "2                       1      1  1347235200   \n",
       "3                       0      1  1304726400   \n",
       "4                       3      1  1328400000   \n",
       "\n",
       "                                             Summary  \\\n",
       "0                                     crushedcookies   \n",
       "1                             Agree with Joe Compute   \n",
       "2                                       Over priced!   \n",
       "3                                              AWFUL   \n",
       "4  No tea leaves were harmed in the making of thi...   \n",
       "\n",
       "                                                Text Vaders Prediction  \n",
       "0  I thought this was a cook book? The cookies ar...          Negative  \n",
       "1  I agree with Joe....this is ridiculous.  Not l...          Negative  \n",
       "2  Found the same product in Target and it only c...           Neutral  \n",
       "3  Do not waste your money on this. I waited anxi...          Negative  \n",
       "4  At first this didn't taste like anything.  By ...          Negative  "
      ]
     },
     "execution_count": 26,
     "metadata": {},
     "output_type": "execute_result"
    }
   ],
   "source": [
    "vaders_fin=vaders_fin.rename(columns={0:'Vaders Prediction'})\n",
    "vaders_fin.head()"
   ]
  },
  {
   "cell_type": "markdown",
   "id": "a4ae3e8e-3393-4b14-bfc4-48e18b76b6aa",
   "metadata": {},
   "source": [
    "# Classifying Reviews using ROBERTA Pretrained Model"
   ]
  },
  {
   "cell_type": "code",
   "execution_count": 27,
   "id": "5d5b9c8f",
   "metadata": {},
   "outputs": [],
   "source": [
    "MODEL=f\"cardiffnlp/twitter-roberta-base-sentiment\"\n",
    "tokenizer=AutoTokenizer.from_pretrained(MODEL)"
   ]
  },
  {
   "cell_type": "code",
   "execution_count": 28,
   "id": "a2a949eb",
   "metadata": {
    "scrolled": true
   },
   "outputs": [],
   "source": [
    "model=AutoModelForSequenceClassification.from_pretrained(MODEL)"
   ]
  },
  {
   "cell_type": "code",
   "execution_count": 29,
   "id": "ec81f881-97d0-49b8-86fe-69002509e23e",
   "metadata": {},
   "outputs": [],
   "source": [
    "def roberta_polarity_scores(text):\n",
    "  encoded_txt=tokenizer(text,return_tensors='pt')\n",
    "  output=model(**encoded_txt)\n",
    "  scores=output[0][0].detach().numpy()\n",
    "  scores=softmax(scores)\n",
    "  scores_dict={'roberta_negative':scores[0],'roberta_neutral':scores[1],'roberta_positive':scores[2]}\n",
    "  return scores_dict"
   ]
  },
  {
   "cell_type": "code",
   "execution_count": 30,
   "id": "5a91bef3-e595-4059-badb-73b9ed3e642d",
   "metadata": {},
   "outputs": [
    {
     "data": {
      "application/vnd.jupyter.widget-view+json": {
       "model_id": "cc38c6d2c8a94d9b9c0c0f1e3623a414",
       "version_major": 2,
       "version_minor": 0
      },
      "text/plain": [
       "  0%|          | 0/50000 [00:00<?, ?it/s]"
      ]
     },
     "metadata": {},
     "output_type": "display_data"
    }
   ],
   "source": [
    "result={}\n",
    "for i ,row in tqdm(new_df.iterrows(),total=len(new_df)):\n",
    "  try:\n",
    "    text=row['Text']\n",
    "    myid=row['Id']\n",
    "    result[myid]=roberta_polarity_scores(text)\n",
    "  except Exception:\n",
    "        pass"
   ]
  },
  {
   "cell_type": "code",
   "execution_count": 31,
   "id": "2a37cbe2-211b-4be5-ab35-b0723679648e",
   "metadata": {},
   "outputs": [],
   "source": [
    "roberta=pd.DataFrame(result).T\n",
    "roberta=roberta.reset_index().rename(columns={'index':'Id'})"
   ]
  },
  {
   "cell_type": "code",
   "execution_count": 32,
   "id": "fbd45149-c142-467e-bcda-73c9c1cd4eaf",
   "metadata": {},
   "outputs": [
    {
     "data": {
      "text/html": [
       "<div>\n",
       "<style scoped>\n",
       "    .dataframe tbody tr th:only-of-type {\n",
       "        vertical-align: middle;\n",
       "    }\n",
       "\n",
       "    .dataframe tbody tr th {\n",
       "        vertical-align: top;\n",
       "    }\n",
       "\n",
       "    .dataframe thead th {\n",
       "        text-align: right;\n",
       "    }\n",
       "</style>\n",
       "<table border=\"1\" class=\"dataframe\">\n",
       "  <thead>\n",
       "    <tr style=\"text-align: right;\">\n",
       "      <th></th>\n",
       "      <th>Id</th>\n",
       "      <th>roberta_negative</th>\n",
       "      <th>roberta_neutral</th>\n",
       "      <th>roberta_positive</th>\n",
       "    </tr>\n",
       "  </thead>\n",
       "  <tbody>\n",
       "    <tr>\n",
       "      <th>0</th>\n",
       "      <td>526016</td>\n",
       "      <td>0.971950</td>\n",
       "      <td>0.025447</td>\n",
       "      <td>0.002603</td>\n",
       "    </tr>\n",
       "    <tr>\n",
       "      <th>1</th>\n",
       "      <td>460584</td>\n",
       "      <td>0.793972</td>\n",
       "      <td>0.182092</td>\n",
       "      <td>0.023936</td>\n",
       "    </tr>\n",
       "    <tr>\n",
       "      <th>2</th>\n",
       "      <td>479543</td>\n",
       "      <td>0.012973</td>\n",
       "      <td>0.410004</td>\n",
       "      <td>0.577023</td>\n",
       "    </tr>\n",
       "    <tr>\n",
       "      <th>3</th>\n",
       "      <td>27671</td>\n",
       "      <td>0.564036</td>\n",
       "      <td>0.328049</td>\n",
       "      <td>0.107915</td>\n",
       "    </tr>\n",
       "    <tr>\n",
       "      <th>4</th>\n",
       "      <td>441909</td>\n",
       "      <td>0.612264</td>\n",
       "      <td>0.324739</td>\n",
       "      <td>0.062997</td>\n",
       "    </tr>\n",
       "    <tr>\n",
       "      <th>...</th>\n",
       "      <td>...</td>\n",
       "      <td>...</td>\n",
       "      <td>...</td>\n",
       "      <td>...</td>\n",
       "    </tr>\n",
       "    <tr>\n",
       "      <th>49415</th>\n",
       "      <td>487462</td>\n",
       "      <td>0.002331</td>\n",
       "      <td>0.012470</td>\n",
       "      <td>0.985199</td>\n",
       "    </tr>\n",
       "    <tr>\n",
       "      <th>49416</th>\n",
       "      <td>170036</td>\n",
       "      <td>0.008988</td>\n",
       "      <td>0.087353</td>\n",
       "      <td>0.903659</td>\n",
       "    </tr>\n",
       "    <tr>\n",
       "      <th>49417</th>\n",
       "      <td>516989</td>\n",
       "      <td>0.001725</td>\n",
       "      <td>0.029677</td>\n",
       "      <td>0.968598</td>\n",
       "    </tr>\n",
       "    <tr>\n",
       "      <th>49418</th>\n",
       "      <td>556846</td>\n",
       "      <td>0.001329</td>\n",
       "      <td>0.014937</td>\n",
       "      <td>0.983733</td>\n",
       "    </tr>\n",
       "    <tr>\n",
       "      <th>49419</th>\n",
       "      <td>532182</td>\n",
       "      <td>0.007211</td>\n",
       "      <td>0.149853</td>\n",
       "      <td>0.842936</td>\n",
       "    </tr>\n",
       "  </tbody>\n",
       "</table>\n",
       "<p>49420 rows × 4 columns</p>\n",
       "</div>"
      ],
      "text/plain": [
       "           Id  roberta_negative  roberta_neutral  roberta_positive\n",
       "0      526016          0.971950         0.025447          0.002603\n",
       "1      460584          0.793972         0.182092          0.023936\n",
       "2      479543          0.012973         0.410004          0.577023\n",
       "3       27671          0.564036         0.328049          0.107915\n",
       "4      441909          0.612264         0.324739          0.062997\n",
       "...       ...               ...              ...               ...\n",
       "49415  487462          0.002331         0.012470          0.985199\n",
       "49416  170036          0.008988         0.087353          0.903659\n",
       "49417  516989          0.001725         0.029677          0.968598\n",
       "49418  556846          0.001329         0.014937          0.983733\n",
       "49419  532182          0.007211         0.149853          0.842936\n",
       "\n",
       "[49420 rows x 4 columns]"
      ]
     },
     "execution_count": 32,
     "metadata": {},
     "output_type": "execute_result"
    }
   ],
   "source": [
    "roberta"
   ]
  },
  {
   "cell_type": "code",
   "execution_count": 33,
   "id": "7a0f1773-ef23-4a02-9fa7-da66d5e49024",
   "metadata": {},
   "outputs": [],
   "source": [
    "roberta=roberta.merge(vaders_fin,how='left')"
   ]
  },
  {
   "cell_type": "code",
   "execution_count": 34,
   "id": "5a69ce4b-2c67-497e-9f79-1f261782a1dc",
   "metadata": {},
   "outputs": [
    {
     "data": {
      "text/plain": [
       "{'roberta_negative': 0.004768506,\n",
       " 'roberta_neutral': 0.03425236,\n",
       " 'roberta_positive': 0.96097916}"
      ]
     },
     "execution_count": 34,
     "metadata": {},
     "output_type": "execute_result"
    }
   ],
   "source": [
    "roberta_polarity_scores(\"It's good as expected\")"
   ]
  },
  {
   "cell_type": "code",
   "execution_count": 35,
   "id": "f7c2c1ed-4998-490b-8eec-a206e13eed6e",
   "metadata": {},
   "outputs": [
    {
     "data": {
      "text/plain": [
       "{'roberta_negative': 0.84095603,\n",
       " 'roberta_neutral': 0.13255285,\n",
       " 'roberta_positive': 0.026491087}"
      ]
     },
     "execution_count": 35,
     "metadata": {},
     "output_type": "execute_result"
    }
   ],
   "source": [
    "roberta_polarity_scores(\"It's ridiculous\")"
   ]
  },
  {
   "cell_type": "code",
   "execution_count": 36,
   "id": "44ec538d-8bc8-40c5-a4f3-b5b5bb74cf0d",
   "metadata": {},
   "outputs": [
    {
     "data": {
      "text/plain": [
       "{'roberta_negative': 0.08156551,\n",
       " 'roberta_neutral': 0.31656712,\n",
       " 'roberta_positive': 0.6018673}"
      ]
     },
     "execution_count": 36,
     "metadata": {},
     "output_type": "execute_result"
    }
   ],
   "source": [
    "roberta_polarity_scores(\"Most of the time it is good,but rarely it fails.\")"
   ]
  },
  {
   "cell_type": "code",
   "execution_count": 37,
   "id": "1a2e8198-7a49-4bee-971e-596dc395ea92",
   "metadata": {},
   "outputs": [
    {
     "data": {
      "image/png": "[encoded data removed]",
      "text/plain": [
       "<Figure size 1200x300 with 3 Axes>"
      ]
     },
     "metadata": {},
     "output_type": "display_data"
    }
   ],
   "source": [
    "#Visualizing The Change In Scores With Respect To Star Ratings\n",
    "fig,ax4=plt.subplots(1,3,figsize=(12,3))\n",
    "sns.barplot(data=roberta,x='Score',y='roberta_positive',ax=ax4[0],color='cyan')\n",
    "sns.barplot(data=roberta,x='Score',y='roberta_neutral',ax=ax4[1],color='cyan')\n",
    "sns.barplot(data=roberta,x='Score',y='roberta_negative',ax=ax4[2],color='cyan')\n",
    "ax4[0].set_title(\"Positive Scores\")\n",
    "ax4[1].set_title(\"Neutral Scores\")\n",
    "ax4[2].set_title(\"Negative Scores\")\n",
    "plt.tight_layout()"
   ]
  },
  {
   "cell_type": "code",
   "execution_count": 38,
   "id": "fb59cc4b-51c5-4946-b22e-f8f5c7741a84",
   "metadata": {
    "scrolled": true
   },
   "outputs": [
    {
     "data": {
      "application/vnd.jupyter.widget-view+json": {
       "model_id": "d45ea7785ede4b76bd466bbe8c57fc97",
       "version_major": 2,
       "version_minor": 0
      },
      "text/plain": [
       "  0%|          | 0/49420 [00:00<?, ?it/s]"
      ]
     },
     "metadata": {},
     "output_type": "display_data"
    }
   ],
   "source": [
    "#Setting Threshold Values\n",
    "rpred=[]\n",
    "for i,row in tqdm(roberta.iterrows(),total=len(roberta)):\n",
    "    compute_scores=[row['roberta_negative'],row['roberta_neutral'],row['roberta_positive']]\n",
    "    if(max(compute_scores)==compute_scores[0]):\n",
    "        rpred.append(\"Negative\")\n",
    "    elif(max(compute_scores)==compute_scores[1]):\n",
    "        rpred.append(\"Neutral\")\n",
    "    else:\n",
    "        rpred.append(\"Positive\")"
   ]
  },
  {
   "cell_type": "code",
   "execution_count": 39,
   "id": "018e97e4-8d08-408a-b14a-13c145e5875c",
   "metadata": {},
   "outputs": [],
   "source": [
    "rpred=pd.DataFrame(rpred)"
   ]
  },
  {
   "cell_type": "code",
   "execution_count": 40,
   "id": "1b3e1116-add7-4237-9547-3af72040cbad",
   "metadata": {},
   "outputs": [
    {
     "data": {
      "text/html": [
       "<div>\n",
       "<style scoped>\n",
       "    .dataframe tbody tr th:only-of-type {\n",
       "        vertical-align: middle;\n",
       "    }\n",
       "\n",
       "    .dataframe tbody tr th {\n",
       "        vertical-align: top;\n",
       "    }\n",
       "\n",
       "    .dataframe thead th {\n",
       "        text-align: right;\n",
       "    }\n",
       "</style>\n",
       "<table border=\"1\" class=\"dataframe\">\n",
       "  <thead>\n",
       "    <tr style=\"text-align: right;\">\n",
       "      <th></th>\n",
       "      <th>Id</th>\n",
       "      <th>roberta_negative</th>\n",
       "      <th>roberta_neutral</th>\n",
       "      <th>roberta_positive</th>\n",
       "      <th>vaders_negative</th>\n",
       "      <th>vaders_neutral</th>\n",
       "      <th>vaders_positive</th>\n",
       "      <th>vaders_compound</th>\n",
       "      <th>ProductId</th>\n",
       "      <th>UserId</th>\n",
       "      <th>ProfileName</th>\n",
       "      <th>HelpfulnessNumerator</th>\n",
       "      <th>HelpfulnessDenominator</th>\n",
       "      <th>Score</th>\n",
       "      <th>Time</th>\n",
       "      <th>Summary</th>\n",
       "      <th>Text</th>\n",
       "      <th>Vaders Prediction</th>\n",
       "      <th>Roberta Prediction</th>\n",
       "    </tr>\n",
       "  </thead>\n",
       "  <tbody>\n",
       "    <tr>\n",
       "      <th>0</th>\n",
       "      <td>526016</td>\n",
       "      <td>0.971950</td>\n",
       "      <td>0.025447</td>\n",
       "      <td>0.002603</td>\n",
       "      <td>0.256</td>\n",
       "      <td>0.744</td>\n",
       "      <td>0.000</td>\n",
       "      <td>-0.6711</td>\n",
       "      <td>B003HD26NG</td>\n",
       "      <td>A2SYW8B9U2K845</td>\n",
       "      <td>chefjill</td>\n",
       "      <td>0</td>\n",
       "      <td>11</td>\n",
       "      <td>1</td>\n",
       "      <td>1304208000</td>\n",
       "      <td>crushedcookies</td>\n",
       "      <td>I thought this was a cook book? The cookies ar...</td>\n",
       "      <td>Negative</td>\n",
       "      <td>Negative</td>\n",
       "    </tr>\n",
       "    <tr>\n",
       "      <th>1</th>\n",
       "      <td>460584</td>\n",
       "      <td>0.793972</td>\n",
       "      <td>0.182092</td>\n",
       "      <td>0.023936</td>\n",
       "      <td>0.116</td>\n",
       "      <td>0.787</td>\n",
       "      <td>0.097</td>\n",
       "      <td>-0.0026</td>\n",
       "      <td>B004JXDCC2</td>\n",
       "      <td>AJ6D41YMLMNRR</td>\n",
       "      <td>R. Johnson</td>\n",
       "      <td>10</td>\n",
       "      <td>12</td>\n",
       "      <td>1</td>\n",
       "      <td>1299801600</td>\n",
       "      <td>Agree with Joe Compute</td>\n",
       "      <td>I agree with Joe....this is ridiculous.  Not l...</td>\n",
       "      <td>Negative</td>\n",
       "      <td>Negative</td>\n",
       "    </tr>\n",
       "    <tr>\n",
       "      <th>2</th>\n",
       "      <td>479543</td>\n",
       "      <td>0.012973</td>\n",
       "      <td>0.410004</td>\n",
       "      <td>0.577023</td>\n",
       "      <td>0.000</td>\n",
       "      <td>1.000</td>\n",
       "      <td>0.000</td>\n",
       "      <td>0.0000</td>\n",
       "      <td>B00514EUT2</td>\n",
       "      <td>A2RLJDBNDC2XHW</td>\n",
       "      <td>YY \"YY\"</td>\n",
       "      <td>0</td>\n",
       "      <td>1</td>\n",
       "      <td>1</td>\n",
       "      <td>1347235200</td>\n",
       "      <td>Over priced!</td>\n",
       "      <td>Found the same product in Target and it only c...</td>\n",
       "      <td>Neutral</td>\n",
       "      <td>Positive</td>\n",
       "    </tr>\n",
       "    <tr>\n",
       "      <th>3</th>\n",
       "      <td>27671</td>\n",
       "      <td>0.564036</td>\n",
       "      <td>0.328049</td>\n",
       "      <td>0.107915</td>\n",
       "      <td>0.068</td>\n",
       "      <td>0.882</td>\n",
       "      <td>0.050</td>\n",
       "      <td>-0.3056</td>\n",
       "      <td>B000K8ESBE</td>\n",
       "      <td>A3H4RR9A4OSA5W</td>\n",
       "      <td>GARRYS FREETELEVISION</td>\n",
       "      <td>0</td>\n",
       "      <td>0</td>\n",
       "      <td>1</td>\n",
       "      <td>1304726400</td>\n",
       "      <td>AWFUL</td>\n",
       "      <td>Do not waste your money on this. I waited anxi...</td>\n",
       "      <td>Negative</td>\n",
       "      <td>Negative</td>\n",
       "    </tr>\n",
       "    <tr>\n",
       "      <th>4</th>\n",
       "      <td>441909</td>\n",
       "      <td>0.612264</td>\n",
       "      <td>0.324739</td>\n",
       "      <td>0.062997</td>\n",
       "      <td>0.103</td>\n",
       "      <td>0.830</td>\n",
       "      <td>0.067</td>\n",
       "      <td>-0.6083</td>\n",
       "      <td>B004E4HUMY</td>\n",
       "      <td>A2503LT8PZIHAD</td>\n",
       "      <td>Scary Gertrude,  the Bad Sheriff for Life \"Li...</td>\n",
       "      <td>2</td>\n",
       "      <td>3</td>\n",
       "      <td>1</td>\n",
       "      <td>1328400000</td>\n",
       "      <td>No tea leaves were harmed in the making of thi...</td>\n",
       "      <td>At first this didn't taste like anything.  By ...</td>\n",
       "      <td>Negative</td>\n",
       "      <td>Negative</td>\n",
       "    </tr>\n",
       "    <tr>\n",
       "      <th>...</th>\n",
       "      <td>...</td>\n",
       "      <td>...</td>\n",
       "      <td>...</td>\n",
       "      <td>...</td>\n",
       "      <td>...</td>\n",
       "      <td>...</td>\n",
       "      <td>...</td>\n",
       "      <td>...</td>\n",
       "      <td>...</td>\n",
       "      <td>...</td>\n",
       "      <td>...</td>\n",
       "      <td>...</td>\n",
       "      <td>...</td>\n",
       "      <td>...</td>\n",
       "      <td>...</td>\n",
       "      <td>...</td>\n",
       "      <td>...</td>\n",
       "      <td>...</td>\n",
       "      <td>...</td>\n",
       "    </tr>\n",
       "    <tr>\n",
       "      <th>49415</th>\n",
       "      <td>487462</td>\n",
       "      <td>0.002331</td>\n",
       "      <td>0.012470</td>\n",
       "      <td>0.985199</td>\n",
       "      <td>0.000</td>\n",
       "      <td>0.773</td>\n",
       "      <td>0.227</td>\n",
       "      <td>0.9434</td>\n",
       "      <td>B002G0CA6O</td>\n",
       "      <td>AHSQEALV8VY9T</td>\n",
       "      <td>mizpahmunchkin \"mizpah\"</td>\n",
       "      <td>0</td>\n",
       "      <td>0</td>\n",
       "      <td>5</td>\n",
       "      <td>1251158400</td>\n",
       "      <td>Yummy!!!</td>\n",
       "      <td>It took a while for me to find this flavor in ...</td>\n",
       "      <td>Positve</td>\n",
       "      <td>Positive</td>\n",
       "    </tr>\n",
       "    <tr>\n",
       "      <th>49416</th>\n",
       "      <td>170036</td>\n",
       "      <td>0.008988</td>\n",
       "      <td>0.087353</td>\n",
       "      <td>0.903659</td>\n",
       "      <td>0.051</td>\n",
       "      <td>0.876</td>\n",
       "      <td>0.073</td>\n",
       "      <td>0.2177</td>\n",
       "      <td>B006285RPC</td>\n",
       "      <td>A9VVNJINSK96V</td>\n",
       "      <td>Khaizoom</td>\n",
       "      <td>0</td>\n",
       "      <td>0</td>\n",
       "      <td>5</td>\n",
       "      <td>1330387200</td>\n",
       "      <td>Been buying these since 1980z.</td>\n",
       "      <td>Good quality chocolate with tasty biscuit. A l...</td>\n",
       "      <td>Neutral</td>\n",
       "      <td>Positive</td>\n",
       "    </tr>\n",
       "    <tr>\n",
       "      <th>49417</th>\n",
       "      <td>516989</td>\n",
       "      <td>0.001725</td>\n",
       "      <td>0.029677</td>\n",
       "      <td>0.968598</td>\n",
       "      <td>0.000</td>\n",
       "      <td>0.712</td>\n",
       "      <td>0.288</td>\n",
       "      <td>0.8655</td>\n",
       "      <td>B000G1PAC6</td>\n",
       "      <td>A3VDTXIOAB0PM3</td>\n",
       "      <td>mawolflady12</td>\n",
       "      <td>0</td>\n",
       "      <td>0</td>\n",
       "      <td>5</td>\n",
       "      <td>1333497600</td>\n",
       "      <td>Great Tea!</td>\n",
       "      <td>Received this tea very quickly.  A mild tea wi...</td>\n",
       "      <td>Positve</td>\n",
       "      <td>Positive</td>\n",
       "    </tr>\n",
       "    <tr>\n",
       "      <th>49418</th>\n",
       "      <td>556846</td>\n",
       "      <td>0.001329</td>\n",
       "      <td>0.014937</td>\n",
       "      <td>0.983733</td>\n",
       "      <td>0.027</td>\n",
       "      <td>0.816</td>\n",
       "      <td>0.157</td>\n",
       "      <td>0.8062</td>\n",
       "      <td>B000H0ZJHW</td>\n",
       "      <td>A3FV8UWW0KVI82</td>\n",
       "      <td>W. Sprague</td>\n",
       "      <td>0</td>\n",
       "      <td>0</td>\n",
       "      <td>5</td>\n",
       "      <td>1300492800</td>\n",
       "      <td>THE BEST</td>\n",
       "      <td>I always have one or two bags of these treats ...</td>\n",
       "      <td>Positve</td>\n",
       "      <td>Positive</td>\n",
       "    </tr>\n",
       "    <tr>\n",
       "      <th>49419</th>\n",
       "      <td>532182</td>\n",
       "      <td>0.007211</td>\n",
       "      <td>0.149853</td>\n",
       "      <td>0.842936</td>\n",
       "      <td>0.000</td>\n",
       "      <td>0.913</td>\n",
       "      <td>0.087</td>\n",
       "      <td>0.6187</td>\n",
       "      <td>B0002XICM8</td>\n",
       "      <td>A30C4VXGCHMOQ</td>\n",
       "      <td>John F</td>\n",
       "      <td>0</td>\n",
       "      <td>0</td>\n",
       "      <td>5</td>\n",
       "      <td>1343347200</td>\n",
       "      <td>Brings back some great east coast memories</td>\n",
       "      <td>My wife and I fondly remember an openface pepp...</td>\n",
       "      <td>Positve</td>\n",
       "      <td>Positive</td>\n",
       "    </tr>\n",
       "  </tbody>\n",
       "</table>\n",
       "<p>49420 rows × 19 columns</p>\n",
       "</div>"
      ],
      "text/plain": [
       "           Id  roberta_negative  roberta_neutral  roberta_positive  \\\n",
       "0      526016          0.971950         0.025447          0.002603   \n",
       "1      460584          0.793972         0.182092          0.023936   \n",
       "2      479543          0.012973         0.410004          0.577023   \n",
       "3       27671          0.564036         0.328049          0.107915   \n",
       "4      441909          0.612264         0.324739          0.062997   \n",
       "...       ...               ...              ...               ...   \n",
       "49415  487462          0.002331         0.012470          0.985199   \n",
       "49416  170036          0.008988         0.087353          0.903659   \n",
       "49417  516989          0.001725         0.029677          0.968598   \n",
       "49418  556846          0.001329         0.014937          0.983733   \n",
       "49419  532182          0.007211         0.149853          0.842936   \n",
       "\n",
       "       vaders_negative  vaders_neutral  vaders_positive  vaders_compound  \\\n",
       "0                0.256           0.744            0.000          -0.6711   \n",
       "1                0.116           0.787            0.097          -0.0026   \n",
       "2                0.000           1.000            0.000           0.0000   \n",
       "3                0.068           0.882            0.050          -0.3056   \n",
       "4                0.103           0.830            0.067          -0.6083   \n",
       "...                ...             ...              ...              ...   \n",
       "49415            0.000           0.773            0.227           0.9434   \n",
       "49416            0.051           0.876            0.073           0.2177   \n",
       "49417            0.000           0.712            0.288           0.8655   \n",
       "49418            0.027           0.816            0.157           0.8062   \n",
       "49419            0.000           0.913            0.087           0.6187   \n",
       "\n",
       "        ProductId          UserId  \\\n",
       "0      B003HD26NG  A2SYW8B9U2K845   \n",
       "1      B004JXDCC2   AJ6D41YMLMNRR   \n",
       "2      B00514EUT2  A2RLJDBNDC2XHW   \n",
       "3      B000K8ESBE  A3H4RR9A4OSA5W   \n",
       "4      B004E4HUMY  A2503LT8PZIHAD   \n",
       "...           ...             ...   \n",
       "49415  B002G0CA6O   AHSQEALV8VY9T   \n",
       "49416  B006285RPC   A9VVNJINSK96V   \n",
       "49417  B000G1PAC6  A3VDTXIOAB0PM3   \n",
       "49418  B000H0ZJHW  A3FV8UWW0KVI82   \n",
       "49419  B0002XICM8   A30C4VXGCHMOQ   \n",
       "\n",
       "                                            ProfileName  HelpfulnessNumerator  \\\n",
       "0                                              chefjill                     0   \n",
       "1                                            R. Johnson                    10   \n",
       "2                                               YY \"YY\"                     0   \n",
       "3                                 GARRYS FREETELEVISION                     0   \n",
       "4      Scary Gertrude,  the Bad Sheriff for Life \"Li...                     2   \n",
       "...                                                 ...                   ...   \n",
       "49415                           mizpahmunchkin \"mizpah\"                     0   \n",
       "49416                                          Khaizoom                     0   \n",
       "49417                                      mawolflady12                     0   \n",
       "49418                                        W. Sprague                     0   \n",
       "49419                                            John F                     0   \n",
       "\n",
       "       HelpfulnessDenominator  Score        Time  \\\n",
       "0                          11      1  1304208000   \n",
       "1                          12      1  1299801600   \n",
       "2                           1      1  1347235200   \n",
       "3                           0      1  1304726400   \n",
       "4                           3      1  1328400000   \n",
       "...                       ...    ...         ...   \n",
       "49415                       0      5  1251158400   \n",
       "49416                       0      5  1330387200   \n",
       "49417                       0      5  1333497600   \n",
       "49418                       0      5  1300492800   \n",
       "49419                       0      5  1343347200   \n",
       "\n",
       "                                                 Summary  \\\n",
       "0                                         crushedcookies   \n",
       "1                                 Agree with Joe Compute   \n",
       "2                                           Over priced!   \n",
       "3                                                  AWFUL   \n",
       "4      No tea leaves were harmed in the making of thi...   \n",
       "...                                                  ...   \n",
       "49415                                           Yummy!!!   \n",
       "49416                     Been buying these since 1980z.   \n",
       "49417                                         Great Tea!   \n",
       "49418                                           THE BEST   \n",
       "49419         Brings back some great east coast memories   \n",
       "\n",
       "                                                    Text Vaders Prediction  \\\n",
       "0      I thought this was a cook book? The cookies ar...          Negative   \n",
       "1      I agree with Joe....this is ridiculous.  Not l...          Negative   \n",
       "2      Found the same product in Target and it only c...           Neutral   \n",
       "3      Do not waste your money on this. I waited anxi...          Negative   \n",
       "4      At first this didn't taste like anything.  By ...          Negative   \n",
       "...                                                  ...               ...   \n",
       "49415  It took a while for me to find this flavor in ...           Positve   \n",
       "49416  Good quality chocolate with tasty biscuit. A l...           Neutral   \n",
       "49417  Received this tea very quickly.  A mild tea wi...           Positve   \n",
       "49418  I always have one or two bags of these treats ...           Positve   \n",
       "49419  My wife and I fondly remember an openface pepp...           Positve   \n",
       "\n",
       "      Roberta Prediction  \n",
       "0               Negative  \n",
       "1               Negative  \n",
       "2               Positive  \n",
       "3               Negative  \n",
       "4               Negative  \n",
       "...                  ...  \n",
       "49415           Positive  \n",
       "49416           Positive  \n",
       "49417           Positive  \n",
       "49418           Positive  \n",
       "49419           Positive  \n",
       "\n",
       "[49420 rows x 19 columns]"
      ]
     },
     "execution_count": 40,
     "metadata": {},
     "output_type": "execute_result"
    }
   ],
   "source": [
    "roberta_fin=pd.concat([roberta,rpred],axis=1)\n",
    "roberta_fin=roberta_fin.rename(columns={0:\"Roberta Prediction\"})\n",
    "roberta_fin"
   ]
  },
  {
   "cell_type": "markdown",
   "id": "aa843ef0-3ffd-4747-973b-7e362844d807",
   "metadata": {},
   "source": [
    "# Analayzing the Classifications of VADER and ROBERTA Pretrained Models"
   ]
  },
  {
   "cell_type": "code",
   "execution_count": 41,
   "id": "af51ec61-4e9b-408e-aed4-b7cc53bdb705",
   "metadata": {},
   "outputs": [],
   "source": [
    "pd.set_option('display.max_colwidth', None)"
   ]
  },
  {
   "cell_type": "code",
   "execution_count": 42,
   "id": "c382d3ad-d333-4633-8fd8-aa227a370d6d",
   "metadata": {},
   "outputs": [
    {
     "data": {
      "text/html": [
       "<div>\n",
       "<style scoped>\n",
       "    .dataframe tbody tr th:only-of-type {\n",
       "        vertical-align: middle;\n",
       "    }\n",
       "\n",
       "    .dataframe tbody tr th {\n",
       "        vertical-align: top;\n",
       "    }\n",
       "\n",
       "    .dataframe thead th {\n",
       "        text-align: right;\n",
       "    }\n",
       "</style>\n",
       "<table border=\"1\" class=\"dataframe\">\n",
       "  <thead>\n",
       "    <tr style=\"text-align: right;\">\n",
       "      <th></th>\n",
       "      <th>Id</th>\n",
       "      <th>Summary</th>\n",
       "      <th>Score</th>\n",
       "      <th>Text</th>\n",
       "      <th>Vaders Prediction</th>\n",
       "      <th>Roberta Prediction</th>\n",
       "    </tr>\n",
       "  </thead>\n",
       "  <tbody>\n",
       "    <tr>\n",
       "      <th>0</th>\n",
       "      <td>526016</td>\n",
       "      <td>crushedcookies</td>\n",
       "      <td>1</td>\n",
       "      <td>I thought this was a cook book? The cookies arrived all smashed and broken, uneatable. Not a good purchase at all.</td>\n",
       "      <td>Negative</td>\n",
       "      <td>Negative</td>\n",
       "    </tr>\n",
       "    <tr>\n",
       "      <th>1</th>\n",
       "      <td>460584</td>\n",
       "      <td>Agree with Joe Compute</td>\n",
       "      <td>1</td>\n",
       "      <td>I agree with Joe....this is ridiculous.  Not like the other good buys on Amazon.  You can buy it like he said for around $6.00 or less on sale so why would anyone pay this much on here. I don't drink it but felt a comment was needed here about the price.</td>\n",
       "      <td>Negative</td>\n",
       "      <td>Negative</td>\n",
       "    </tr>\n",
       "    <tr>\n",
       "      <th>2</th>\n",
       "      <td>479543</td>\n",
       "      <td>Over priced!</td>\n",
       "      <td>1</td>\n",
       "      <td>Found the same product in Target and it only cost a bit more than a quarter of the price listing here.</td>\n",
       "      <td>Neutral</td>\n",
       "      <td>Positive</td>\n",
       "    </tr>\n",
       "    <tr>\n",
       "      <th>3</th>\n",
       "      <td>27671</td>\n",
       "      <td>AWFUL</td>\n",
       "      <td>1</td>\n",
       "      <td>Do not waste your money on this. I waited anxiously for the mail to deliver. Made a fresh 12 oz cup of coffee, dropped in two tablets. Nothing. I dropped in two more. Changed the flavor of the black coffee, but not for the better. I had wanted this so I didn't have to use cream for flavor with all the calories. Not even a hint of CHOCOLATE flavor.</td>\n",
       "      <td>Negative</td>\n",
       "      <td>Negative</td>\n",
       "    </tr>\n",
       "    <tr>\n",
       "      <th>4</th>\n",
       "      <td>441909</td>\n",
       "      <td>No tea leaves were harmed in the making of this product</td>\n",
       "      <td>1</td>\n",
       "      <td>At first this didn't taste like anything.  By time I added enough Mio to taste something, I was then disgusted by the flavor.  I like tea, truly I do.  This is not tea.  But I've found a few ways to describe this flavor:&lt;br /&gt;&lt;br /&gt;Sucking on brown saccharine?&lt;br /&gt;&lt;br /&gt;Chewing on stale aspirin?&lt;br /&gt;&lt;br /&gt;Someone dropped a cigarette butt in my water?&lt;br /&gt;&lt;br /&gt;Sweaty gym socks were wrung out in my glass?&lt;br /&gt;&lt;br /&gt;Someone left used motor oil on the bottom of my glass?&lt;br /&gt;&lt;br /&gt;This  drink is a great idea but a terrible rendering of such.  My teenager wanted to try it and I'm tempted to do a science experiment on him.  We call him Big Foot and I'm wondering if it would stop the growth of said feet.  I don't want him to stop growing taller (6'2\" now) so I wonder if I sprinkle it directly on his feet, if that would work?  I'll get back to you.&lt;br /&gt;&lt;br /&gt;I keep trying to figure out how people like this.  I've finally figured it out and I have a message for them:  WATER is not spelled V.O.D.K.A</td>\n",
       "      <td>Negative</td>\n",
       "      <td>Negative</td>\n",
       "    </tr>\n",
       "    <tr>\n",
       "      <th>...</th>\n",
       "      <td>...</td>\n",
       "      <td>...</td>\n",
       "      <td>...</td>\n",
       "      <td>...</td>\n",
       "      <td>...</td>\n",
       "      <td>...</td>\n",
       "    </tr>\n",
       "    <tr>\n",
       "      <th>49415</th>\n",
       "      <td>487462</td>\n",
       "      <td>Yummy!!!</td>\n",
       "      <td>5</td>\n",
       "      <td>It took a while for me to find this flavor in my local stores.  I had heard Zevia had come out with this new flavor and I certainly wasn't disappointed, it is delicious!  I like them all but regularly drink the cola flavor but Black Cherry is right up there with 'favorite'.  I always liked black cherries so this was wonderful addition to the rest of the Zevia flavors.</td>\n",
       "      <td>Positve</td>\n",
       "      <td>Positive</td>\n",
       "    </tr>\n",
       "    <tr>\n",
       "      <th>49416</th>\n",
       "      <td>170036</td>\n",
       "      <td>Been buying these since 1980z.</td>\n",
       "      <td>5</td>\n",
       "      <td>Good quality chocolate with tasty biscuit. A lot of chocolate products are filled with sugar and what not. You can easily eat a cpl of these without the sugary flavor in your mouth. Been buying these since I was a kid.</td>\n",
       "      <td>Neutral</td>\n",
       "      <td>Positive</td>\n",
       "    </tr>\n",
       "    <tr>\n",
       "      <th>49417</th>\n",
       "      <td>516989</td>\n",
       "      <td>Great Tea!</td>\n",
       "      <td>5</td>\n",
       "      <td>Received this tea very quickly.  A mild tea with a great taste.  Will re-order this product from this supplier.  Wish I had known about Wu Long tea's health benefits sooner!</td>\n",
       "      <td>Positve</td>\n",
       "      <td>Positive</td>\n",
       "    </tr>\n",
       "    <tr>\n",
       "      <th>49418</th>\n",
       "      <td>556846</td>\n",
       "      <td>THE BEST</td>\n",
       "      <td>5</td>\n",
       "      <td>I always have one or two bags of these treats in my cupboard, they are perfect for training. If you have a small dog you can cut them into smaller pieces so you can \"jackpot\" the dog.  My dog especially loves the peanut butter flavor but I buy all three.  I highly recommend these!</td>\n",
       "      <td>Positve</td>\n",
       "      <td>Positive</td>\n",
       "    </tr>\n",
       "    <tr>\n",
       "      <th>49419</th>\n",
       "      <td>532182</td>\n",
       "      <td>Brings back some great east coast memories</td>\n",
       "      <td>5</td>\n",
       "      <td>My wife and I fondly remember an openface pepper relish, hummus and cheese sandwich we used to get on visits to Cambridge.  This relish gets us as close to a home-made replica as anything we've found.  It says hot, but think of it as a bit spicy -- it certainly won't burn any but the most sensitive tongues.</td>\n",
       "      <td>Positve</td>\n",
       "      <td>Positive</td>\n",
       "    </tr>\n",
       "  </tbody>\n",
       "</table>\n",
       "<p>49420 rows × 6 columns</p>\n",
       "</div>"
      ],
      "text/plain": [
       "           Id                                                  Summary  Score  \\\n",
       "0      526016                                           crushedcookies      1   \n",
       "1      460584                                   Agree with Joe Compute      1   \n",
       "2      479543                                             Over priced!      1   \n",
       "3       27671                                                    AWFUL      1   \n",
       "4      441909  No tea leaves were harmed in the making of this product      1   \n",
       "...       ...                                                      ...    ...   \n",
       "49415  487462                                                 Yummy!!!      5   \n",
       "49416  170036                           Been buying these since 1980z.      5   \n",
       "49417  516989                                               Great Tea!      5   \n",
       "49418  556846                                                 THE BEST      5   \n",
       "49419  532182               Brings back some great east coast memories      5   \n",
       "\n",
       "                                                                                                                                                                                                                                                                                                                                                                                                                                                                                                                                                                                                                                                                                                                                                                                                                                                                                                                                                                                                                                                      Text  \\\n",
       "0                                                                                                                                                                                                                                                                                                                                                                                                                                                                                                                                                                                                                                                                                                                                                                                                                                                                                                                                       I thought this was a cook book? The cookies arrived all smashed and broken, uneatable. Not a good purchase at all.   \n",
       "1                                                                                                                                                                                                                                                                                                                                                                                                                                                                                                                                                                                                                                                                                                                                                                                           I agree with Joe....this is ridiculous.  Not like the other good buys on Amazon.  You can buy it like he said for around $6.00 or less on sale so why would anyone pay this much on here. I don't drink it but felt a comment was needed here about the price.   \n",
       "2                                                                                                                                                                                                                                                                                                                                                                                                                                                                                                                                                                                                                                                                                                                                                                                                                                                                                                                                                   Found the same product in Target and it only cost a bit more than a quarter of the price listing here.   \n",
       "3                                                                                                                                                                                                                                                                                                                                                                                                                                                                                                                                                                                                                                                                                            Do not waste your money on this. I waited anxiously for the mail to deliver. Made a fresh 12 oz cup of coffee, dropped in two tablets. Nothing. I dropped in two more. Changed the flavor of the black coffee, but not for the better. I had wanted this so I didn't have to use cream for flavor with all the calories. Not even a hint of CHOCOLATE flavor.   \n",
       "4      At first this didn't taste like anything.  By time I added enough Mio to taste something, I was then disgusted by the flavor.  I like tea, truly I do.  This is not tea.  But I've found a few ways to describe this flavor:<br /><br />Sucking on brown saccharine?<br /><br />Chewing on stale aspirin?<br /><br />Someone dropped a cigarette butt in my water?<br /><br />Sweaty gym socks were wrung out in my glass?<br /><br />Someone left used motor oil on the bottom of my glass?<br /><br />This  drink is a great idea but a terrible rendering of such.  My teenager wanted to try it and I'm tempted to do a science experiment on him.  We call him Big Foot and I'm wondering if it would stop the growth of said feet.  I don't want him to stop growing taller (6'2\" now) so I wonder if I sprinkle it directly on his feet, if that would work?  I'll get back to you.<br /><br />I keep trying to figure out how people like this.  I've finally figured it out and I have a message for them:  WATER is not spelled V.O.D.K.A   \n",
       "...                                                                                                                                                                                                                                                                                                                                                                                                                                                                                                                                                                                                                                                                                                                                                                                                                                                                                                                                                                                                                                                    ...   \n",
       "49415                                                                                                                                                                                                                                                                                                                                                                                                                                                                                                                                                                                                                                                                   It took a while for me to find this flavor in my local stores.  I had heard Zevia had come out with this new flavor and I certainly wasn't disappointed, it is delicious!  I like them all but regularly drink the cola flavor but Black Cherry is right up there with 'favorite'.  I always liked black cherries so this was wonderful addition to the rest of the Zevia flavors.   \n",
       "49416                                                                                                                                                                                                                                                                                                                                                                                                                                                                                                                                                                                                                                                                                                                                                                                                                           Good quality chocolate with tasty biscuit. A lot of chocolate products are filled with sugar and what not. You can easily eat a cpl of these without the sugary flavor in your mouth. Been buying these since I was a kid.   \n",
       "49417                                                                                                                                                                                                                                                                                                                                                                                                                                                                                                                                                                                                                                                                                                                                                                                                                                                                        Received this tea very quickly.  A mild tea with a great taste.  Will re-order this product from this supplier.  Wish I had known about Wu Long tea's health benefits sooner!   \n",
       "49418                                                                                                                                                                                                                                                                                                                                                                                                                                                                                                                                                                                                                                                                                                                                                            I always have one or two bags of these treats in my cupboard, they are perfect for training. If you have a small dog you can cut them into smaller pieces so you can \"jackpot\" the dog.  My dog especially loves the peanut butter flavor but I buy all three.  I highly recommend these!   \n",
       "49419                                                                                                                                                                                                                                                                                                                                                                                                                                                                                                                                                                                                                                                                                                                                 My wife and I fondly remember an openface pepper relish, hummus and cheese sandwich we used to get on visits to Cambridge.  This relish gets us as close to a home-made replica as anything we've found.  It says hot, but think of it as a bit spicy -- it certainly won't burn any but the most sensitive tongues.   \n",
       "\n",
       "      Vaders Prediction Roberta Prediction  \n",
       "0              Negative           Negative  \n",
       "1              Negative           Negative  \n",
       "2               Neutral           Positive  \n",
       "3              Negative           Negative  \n",
       "4              Negative           Negative  \n",
       "...                 ...                ...  \n",
       "49415           Positve           Positive  \n",
       "49416           Neutral           Positive  \n",
       "49417           Positve           Positive  \n",
       "49418           Positve           Positive  \n",
       "49419           Positve           Positive  \n",
       "\n",
       "[49420 rows x 6 columns]"
      ]
     },
     "execution_count": 42,
     "metadata": {},
     "output_type": "execute_result"
    }
   ],
   "source": [
    "comp_df=roberta_fin[['Id','Summary','Score','Text','Vaders Prediction','Roberta Prediction']]\n",
    "comp_df"
   ]
  },
  {
   "cell_type": "code",
   "execution_count": 43,
   "id": "3b32c162-0829-4d99-8d0a-3699913ebe42",
   "metadata": {},
   "outputs": [
    {
     "data": {
      "text/plain": [
       "Vaders Prediction\n",
       "Positve     32705\n",
       "Negative    10677\n",
       "Neutral      6038\n",
       "Name: count, dtype: int64"
      ]
     },
     "execution_count": 43,
     "metadata": {},
     "output_type": "execute_result"
    }
   ],
   "source": [
    "comp_df['Vaders Prediction'].value_counts()"
   ]
  },
  {
   "cell_type": "code",
   "execution_count": 44,
   "id": "3b799b68-2d10-4b24-b7db-fc6884e4bade",
   "metadata": {},
   "outputs": [
    {
     "data": {
      "text/plain": [
       "Roberta Prediction\n",
       "Positive    24910\n",
       "Negative    18371\n",
       "Neutral      6139\n",
       "Name: count, dtype: int64"
      ]
     },
     "execution_count": 44,
     "metadata": {},
     "output_type": "execute_result"
    }
   ],
   "source": [
    "comp_df['Roberta Prediction'].value_counts()"
   ]
  },
  {
   "cell_type": "code",
   "execution_count": 45,
   "id": "21c3074f-1573-4ad6-8e6a-b8cc0c7b5a1c",
   "metadata": {},
   "outputs": [
    {
     "data": {
      "application/vnd.jupyter.widget-view+json": {
       "model_id": "4678b9c8134c4384b93295f444531940",
       "version_major": 2,
       "version_minor": 0
      },
      "text/plain": [
       "  0%|          | 0/49420 [00:00<?, ?it/s]"
      ]
     },
     "metadata": {},
     "output_type": "display_data"
    }
   ],
   "source": [
    "inacc=[]\n",
    "for i ,rows in tqdm(comp_df.iterrows(),total=len(comp_df)):\n",
    "    vad=rows['Vaders Prediction']\n",
    "    rob=rows['Roberta Prediction']\n",
    "    star=rows['Score']\n",
    "    if(vad!=rob):\n",
    "        inacc.append([rows['Id'],star,vad,rob])"
   ]
  },
  {
   "cell_type": "code",
   "execution_count": 46,
   "id": "3e0e7733-4803-4d69-bdc3-804f87fbc646",
   "metadata": {},
   "outputs": [
    {
     "data": {
      "text/plain": [
       "[312490, 1, 'Positve', 'Neutral']"
      ]
     },
     "execution_count": 46,
     "metadata": {},
     "output_type": "execute_result"
    }
   ],
   "source": [
    "inacc[16]"
   ]
  },
  {
   "cell_type": "code",
   "execution_count": 47,
   "id": "dbe63dc1-1d98-47f8-9b50-d54526218325",
   "metadata": {},
   "outputs": [
    {
     "data": {
      "text/plain": [
       "Series([], Name: Text, dtype: object)"
      ]
     },
     "execution_count": 47,
     "metadata": {},
     "output_type": "execute_result"
    }
   ],
   "source": [
    "comp_df[comp_df['Id']==381722]['Text']  #THIS IS CLEARLY A NEGATIVE COMMENT AS STATED BY ROBERTA MODEL"
   ]
  },
  {
   "cell_type": "code",
   "execution_count": 48,
   "id": "e0f6cde0-52b6-47a9-847c-e08b1047913c",
   "metadata": {},
   "outputs": [
    {
     "data": {
      "text/plain": [
       "[4007, 1, 'Positve', 'Negative']"
      ]
     },
     "execution_count": 48,
     "metadata": {},
     "output_type": "execute_result"
    }
   ],
   "source": [
    "inacc[26]"
   ]
  },
  {
   "cell_type": "code",
   "execution_count": 49,
   "id": "760999f1-6e69-4497-9120-4bc48a2e99c2",
   "metadata": {},
   "outputs": [
    {
     "data": {
      "text/plain": [
       "89    I wanted the company to fix my problem, but they decided to instead cancel my order. It's cute, but I wouldn't order anything from them again.\n",
       "Name: Text, dtype: object"
      ]
     },
     "execution_count": 49,
     "metadata": {},
     "output_type": "execute_result"
    }
   ],
   "source": [
    "comp_df[comp_df['Id']==146672]['Text']  #THIS IS CLEARLY A NEGATIVE STATEMENT [WITH SOME SARCASM!!] AS PREDICTED BY ROBERTA MODEL"
   ]
  },
  {
   "cell_type": "code",
   "execution_count": 50,
   "id": "c8db0002-4275-4927-a33a-776524b1c77a",
   "metadata": {},
   "outputs": [
    {
     "data": {
      "text/plain": [
       "[417984, 1, 'Positve', 'Negative']"
      ]
     },
     "execution_count": 50,
     "metadata": {},
     "output_type": "execute_result"
    }
   ],
   "source": [
    "inacc[39]"
   ]
  },
  {
   "cell_type": "code",
   "execution_count": 51,
   "id": "6192f0c8-9c20-4ed7-88fd-e22186b8597f",
   "metadata": {},
   "outputs": [
    {
     "data": {
      "text/plain": [
       "6136    The regular version of this Chunky New England Clam Chowder has been a big favorite of mine for over 30 years. But now that I am on a low sodium diet, I have to look for substitutes.<br /><br />When I tried the Healthy Request version of Chunky Chicken Noodle, it tasted identical to the regular version. So I assumed that this Healthy Request version of New Englan Clam Chowder would also be as good as its regular version, but it isn't. It tastes awful. It's so bad that I can't possibly eat it. So I wasted my money by ordering a case.<br /><br />Now that I have learned my lesson, the hard way. Before I will order a case of any food product from Amazon. I first try it out by buying a single can from a local grocery store. If it isn't available to try locally. Then I simply won't order a case from Amazon.\n",
       "Name: Text, dtype: object"
      ]
     },
     "execution_count": 51,
     "metadata": {},
     "output_type": "execute_result"
    }
   ],
   "source": [
    "comp_df[comp_df['Id']==534414]['Text']  #THIS IS CLEARLY A NEGATIVE STATEMENT AS PREDICTED BY ROBERTA MODEL"
   ]
  },
  {
   "cell_type": "code",
   "execution_count": 52,
   "id": "9f528d79-8027-4138-946a-34337af3d62f",
   "metadata": {},
   "outputs": [],
   "source": [
    "# SO IT IS EVIDENT THAT ROBERTA PRETRAINED MODEL PERFORMS BETTER THAN VADER MODEL IN CASES OF COMPLEX RELATIONSHIPS BETWEEN WORDS"
   ]
  },
  {
   "cell_type": "markdown",
   "id": "3845f2eb-e5d1-46f5-ac9d-692f07ead251",
   "metadata": {},
   "source": [
    "# Sentiment Analysis using ROBERTA PRETRAINED Model"
   ]
  },
  {
   "cell_type": "code",
   "execution_count": 53,
   "id": "e353dcf5-bb95-423d-b1fb-09b8681f051f",
   "metadata": {},
   "outputs": [],
   "source": [
    "def trying(example):\n",
    "    cal=roberta_polarity_scores(example)\n",
    "    s1,s2,s3=cal.get(\"roberta_negative\"),cal.get(\"roberta_neutral\"),cal.get(\"roberta_positive\")\n",
    "    if(max(s1,s2,s3)==s1):\n",
    "       print(\"THE STATEMENT IS NEGATIVE\")\n",
    "    elif(max(s1,s2,s3)==s2):\n",
    "       print(\"THE STATEMENT IS NEUTRAL\")\n",
    "    else:\n",
    "        print(\"THE STATEMENT IS POSITIVE\")"
   ]
  },
  {
   "cell_type": "code",
   "execution_count": 54,
   "id": "b427bf6d-2a90-445e-8c15-2e12fe455af0",
   "metadata": {},
   "outputs": [
    {
     "name": "stdout",
     "output_type": "stream",
     "text": [
      "THE STATEMENT IS NEGATIVE\n"
     ]
    }
   ],
   "source": [
    "#TRY ANY STATEMENT HERE\n",
    "trying(\"HE GOT SUCH LOW MARKS HOW CAN I BE HAPPY ABOUT IT\")"
   ]
  }
 ],
 "metadata": {
  "kernelspec": {
   "display_name": "Python 3 (ipykernel)",
   "language": "python",
   "name": "python3"
  },
  "language_info": {
   "codemirror_mode": {
    "name": "ipython",
    "version": 3
   },
   "file_extension": ".py",
   "mimetype": "text/x-python",
   "name": "python",
   "nbconvert_exporter": "python",
   "pygments_lexer": "ipython3",
   "version": "3.12.1"
  }
 },
 "nbformat": 4,
 "nbformat_minor": 5
}
