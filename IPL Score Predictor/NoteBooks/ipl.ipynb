{
 "cells": [
  {
   "cell_type": "code",
   "execution_count": 11,
   "id": "10111fde-aae5-480e-afdb-b4201083851c",
   "metadata": {},
   "outputs": [],
   "source": [
    "import numpy as np\n",
    "import pandas as pd\n",
    "import matplotlib.pyplot as plt"
   ]
  },
  {
   "cell_type": "code",
   "execution_count": 12,
   "id": "9ec5932c-a416-47f5-9512-f3caf77c96db",
   "metadata": {},
   "outputs": [
    {
     "name": "stderr",
     "output_type": "stream",
     "text": [
      "C:\\Users\\Naveen\\AppData\\Local\\Temp\\ipykernel_1980\\975178041.py:1: DtypeWarning: Columns (1) have mixed types. Specify dtype option on import or set low_memory=False.\n",
      "  data=pd.read_csv(\"match_data.csv\")\n"
     ]
    }
   ],
   "source": [
    "data=pd.read_csv(\"match_data.csv\")"
   ]
  },
  {
   "cell_type": "code",
   "execution_count": 13,
   "id": "e179a20f-af18-4038-b06d-d6f609d2f074",
   "metadata": {},
   "outputs": [
    {
     "data": {
      "text/html": [
       "<div>\n",
       "<style scoped>\n",
       "    .dataframe tbody tr th:only-of-type {\n",
       "        vertical-align: middle;\n",
       "    }\n",
       "\n",
       "    .dataframe tbody tr th {\n",
       "        vertical-align: top;\n",
       "    }\n",
       "\n",
       "    .dataframe thead th {\n",
       "        text-align: right;\n",
       "    }\n",
       "</style>\n",
       "<table border=\"1\" class=\"dataframe\">\n",
       "  <thead>\n",
       "    <tr style=\"text-align: right;\">\n",
       "      <th></th>\n",
       "      <th>match_id</th>\n",
       "      <th>season</th>\n",
       "      <th>start_date</th>\n",
       "      <th>venue</th>\n",
       "      <th>innings</th>\n",
       "      <th>ball</th>\n",
       "      <th>batting_team</th>\n",
       "      <th>bowling_team</th>\n",
       "      <th>striker</th>\n",
       "      <th>non_striker</th>\n",
       "      <th>...</th>\n",
       "      <th>wides</th>\n",
       "      <th>noballs</th>\n",
       "      <th>byes</th>\n",
       "      <th>legbyes</th>\n",
       "      <th>penalty</th>\n",
       "      <th>wicket_type</th>\n",
       "      <th>player_dismissed</th>\n",
       "      <th>other_wicket_type</th>\n",
       "      <th>other_player_dismissed</th>\n",
       "      <th>cricsheet_id</th>\n",
       "    </tr>\n",
       "  </thead>\n",
       "  <tbody>\n",
       "    <tr>\n",
       "      <th>0</th>\n",
       "      <td>1370353</td>\n",
       "      <td>2023</td>\n",
       "      <td>2023-05-29</td>\n",
       "      <td>Narendra Modi Stadium, Ahmedabad</td>\n",
       "      <td>1</td>\n",
       "      <td>0.1</td>\n",
       "      <td>Gujarat Titans</td>\n",
       "      <td>Chennai Super Kings</td>\n",
       "      <td>WP Saha</td>\n",
       "      <td>Shubman Gill</td>\n",
       "      <td>...</td>\n",
       "      <td>NaN</td>\n",
       "      <td>NaN</td>\n",
       "      <td>NaN</td>\n",
       "      <td>NaN</td>\n",
       "      <td>NaN</td>\n",
       "      <td>NaN</td>\n",
       "      <td>NaN</td>\n",
       "      <td>NaN</td>\n",
       "      <td>NaN</td>\n",
       "      <td>1370353</td>\n",
       "    </tr>\n",
       "    <tr>\n",
       "      <th>1</th>\n",
       "      <td>1370353</td>\n",
       "      <td>2023</td>\n",
       "      <td>2023-05-29</td>\n",
       "      <td>Narendra Modi Stadium, Ahmedabad</td>\n",
       "      <td>1</td>\n",
       "      <td>0.2</td>\n",
       "      <td>Gujarat Titans</td>\n",
       "      <td>Chennai Super Kings</td>\n",
       "      <td>WP Saha</td>\n",
       "      <td>Shubman Gill</td>\n",
       "      <td>...</td>\n",
       "      <td>NaN</td>\n",
       "      <td>NaN</td>\n",
       "      <td>NaN</td>\n",
       "      <td>NaN</td>\n",
       "      <td>NaN</td>\n",
       "      <td>NaN</td>\n",
       "      <td>NaN</td>\n",
       "      <td>NaN</td>\n",
       "      <td>NaN</td>\n",
       "      <td>1370353</td>\n",
       "    </tr>\n",
       "    <tr>\n",
       "      <th>2</th>\n",
       "      <td>1370353</td>\n",
       "      <td>2023</td>\n",
       "      <td>2023-05-29</td>\n",
       "      <td>Narendra Modi Stadium, Ahmedabad</td>\n",
       "      <td>1</td>\n",
       "      <td>0.3</td>\n",
       "      <td>Gujarat Titans</td>\n",
       "      <td>Chennai Super Kings</td>\n",
       "      <td>WP Saha</td>\n",
       "      <td>Shubman Gill</td>\n",
       "      <td>...</td>\n",
       "      <td>NaN</td>\n",
       "      <td>NaN</td>\n",
       "      <td>NaN</td>\n",
       "      <td>NaN</td>\n",
       "      <td>NaN</td>\n",
       "      <td>NaN</td>\n",
       "      <td>NaN</td>\n",
       "      <td>NaN</td>\n",
       "      <td>NaN</td>\n",
       "      <td>1370353</td>\n",
       "    </tr>\n",
       "    <tr>\n",
       "      <th>3</th>\n",
       "      <td>1370353</td>\n",
       "      <td>2023</td>\n",
       "      <td>2023-05-29</td>\n",
       "      <td>Narendra Modi Stadium, Ahmedabad</td>\n",
       "      <td>1</td>\n",
       "      <td>0.4</td>\n",
       "      <td>Gujarat Titans</td>\n",
       "      <td>Chennai Super Kings</td>\n",
       "      <td>Shubman Gill</td>\n",
       "      <td>WP Saha</td>\n",
       "      <td>...</td>\n",
       "      <td>NaN</td>\n",
       "      <td>NaN</td>\n",
       "      <td>NaN</td>\n",
       "      <td>NaN</td>\n",
       "      <td>NaN</td>\n",
       "      <td>NaN</td>\n",
       "      <td>NaN</td>\n",
       "      <td>NaN</td>\n",
       "      <td>NaN</td>\n",
       "      <td>1370353</td>\n",
       "    </tr>\n",
       "    <tr>\n",
       "      <th>4</th>\n",
       "      <td>1370353</td>\n",
       "      <td>2023</td>\n",
       "      <td>2023-05-29</td>\n",
       "      <td>Narendra Modi Stadium, Ahmedabad</td>\n",
       "      <td>1</td>\n",
       "      <td>0.5</td>\n",
       "      <td>Gujarat Titans</td>\n",
       "      <td>Chennai Super Kings</td>\n",
       "      <td>WP Saha</td>\n",
       "      <td>Shubman Gill</td>\n",
       "      <td>...</td>\n",
       "      <td>NaN</td>\n",
       "      <td>NaN</td>\n",
       "      <td>NaN</td>\n",
       "      <td>NaN</td>\n",
       "      <td>NaN</td>\n",
       "      <td>NaN</td>\n",
       "      <td>NaN</td>\n",
       "      <td>NaN</td>\n",
       "      <td>NaN</td>\n",
       "      <td>1370353</td>\n",
       "    </tr>\n",
       "  </tbody>\n",
       "</table>\n",
       "<p>5 rows × 23 columns</p>\n",
       "</div>"
      ],
      "text/plain": [
       "   match_id season  start_date                             venue  innings  \\\n",
       "0   1370353   2023  2023-05-29  Narendra Modi Stadium, Ahmedabad        1   \n",
       "1   1370353   2023  2023-05-29  Narendra Modi Stadium, Ahmedabad        1   \n",
       "2   1370353   2023  2023-05-29  Narendra Modi Stadium, Ahmedabad        1   \n",
       "3   1370353   2023  2023-05-29  Narendra Modi Stadium, Ahmedabad        1   \n",
       "4   1370353   2023  2023-05-29  Narendra Modi Stadium, Ahmedabad        1   \n",
       "\n",
       "   ball    batting_team         bowling_team       striker   non_striker  ...  \\\n",
       "0   0.1  Gujarat Titans  Chennai Super Kings       WP Saha  Shubman Gill  ...   \n",
       "1   0.2  Gujarat Titans  Chennai Super Kings       WP Saha  Shubman Gill  ...   \n",
       "2   0.3  Gujarat Titans  Chennai Super Kings       WP Saha  Shubman Gill  ...   \n",
       "3   0.4  Gujarat Titans  Chennai Super Kings  Shubman Gill       WP Saha  ...   \n",
       "4   0.5  Gujarat Titans  Chennai Super Kings       WP Saha  Shubman Gill  ...   \n",
       "\n",
       "  wides  noballs  byes  legbyes  penalty  wicket_type  player_dismissed  \\\n",
       "0   NaN      NaN   NaN      NaN      NaN          NaN               NaN   \n",
       "1   NaN      NaN   NaN      NaN      NaN          NaN               NaN   \n",
       "2   NaN      NaN   NaN      NaN      NaN          NaN               NaN   \n",
       "3   NaN      NaN   NaN      NaN      NaN          NaN               NaN   \n",
       "4   NaN      NaN   NaN      NaN      NaN          NaN               NaN   \n",
       "\n",
       "   other_wicket_type other_player_dismissed cricsheet_id  \n",
       "0                NaN                    NaN      1370353  \n",
       "1                NaN                    NaN      1370353  \n",
       "2                NaN                    NaN      1370353  \n",
       "3                NaN                    NaN      1370353  \n",
       "4                NaN                    NaN      1370353  \n",
       "\n",
       "[5 rows x 23 columns]"
      ]
     },
     "execution_count": 13,
     "metadata": {},
     "output_type": "execute_result"
    }
   ],
   "source": [
    "data.head()"
   ]
  },
  {
   "cell_type": "code",
   "execution_count": 14,
   "id": "907b00a8-292f-49fa-a9d8-39c54b9245b6",
   "metadata": {
    "scrolled": true
   },
   "outputs": [
    {
     "data": {
      "text/plain": [
       "match_id                    int64\n",
       "season                     object\n",
       "start_date                 object\n",
       "venue                      object\n",
       "innings                     int64\n",
       "ball                      float64\n",
       "batting_team               object\n",
       "bowling_team               object\n",
       "striker                    object\n",
       "non_striker                object\n",
       "bowler                     object\n",
       "runs_off_bat                int64\n",
       "extras                      int64\n",
       "wides                     float64\n",
       "noballs                   float64\n",
       "byes                      float64\n",
       "legbyes                   float64\n",
       "penalty                   float64\n",
       "wicket_type                object\n",
       "player_dismissed           object\n",
       "other_wicket_type         float64\n",
       "other_player_dismissed    float64\n",
       "cricsheet_id                int64\n",
       "dtype: object"
      ]
     },
     "execution_count": 14,
     "metadata": {},
     "output_type": "execute_result"
    }
   ],
   "source": [
    "data.dtypes"
   ]
  },
  {
   "cell_type": "code",
   "execution_count": 15,
   "id": "ae01b976-b1d0-4013-a78b-da57ff84f051",
   "metadata": {},
   "outputs": [],
   "source": [
    "df=data.copy()"
   ]
  },
  {
   "cell_type": "code",
   "execution_count": 16,
   "id": "0af6ff17-10a2-418d-ae93-b87262806c30",
   "metadata": {},
   "outputs": [
    {
     "data": {
      "text/plain": [
       "(243817, 23)"
      ]
     },
     "execution_count": 16,
     "metadata": {},
     "output_type": "execute_result"
    }
   ],
   "source": [
    "df.shape"
   ]
  },
  {
   "cell_type": "code",
   "execution_count": 17,
   "id": "8225b46e-01b9-4b7a-9c81-35e075036115",
   "metadata": {},
   "outputs": [
    {
     "data": {
      "text/plain": [
       "match_id                       0\n",
       "season                         0\n",
       "start_date                     0\n",
       "venue                          0\n",
       "innings                        0\n",
       "ball                           0\n",
       "batting_team                   0\n",
       "bowling_team                   0\n",
       "striker                        0\n",
       "non_striker                    0\n",
       "bowler                         0\n",
       "runs_off_bat                   0\n",
       "extras                         0\n",
       "wides                     236165\n",
       "noballs                   242799\n",
       "byes                      243189\n",
       "legbyes                   240039\n",
       "penalty                   243815\n",
       "wicket_type               231750\n",
       "player_dismissed          231750\n",
       "other_wicket_type         243817\n",
       "other_player_dismissed    243817\n",
       "cricsheet_id                   0\n",
       "dtype: int64"
      ]
     },
     "execution_count": 17,
     "metadata": {},
     "output_type": "execute_result"
    }
   ],
   "source": [
    "df.isnull().sum()"
   ]
  },
  {
   "cell_type": "code",
   "execution_count": 18,
   "id": "afeffb47-532a-4314-b88d-35368b0fb190",
   "metadata": {},
   "outputs": [
    {
     "data": {
      "text/plain": [
       "array([nan,  1.,  2.,  5.,  3.,  4.])"
      ]
     },
     "execution_count": 18,
     "metadata": {},
     "output_type": "execute_result"
    }
   ],
   "source": [
    "df[\"wides\"].unique()"
   ]
  },
  {
   "cell_type": "code",
   "execution_count": 19,
   "id": "83479740-a11c-48b7-9cee-ccd2da855832",
   "metadata": {},
   "outputs": [],
   "source": [
    "df1=pd.DataFrame()"
   ]
  },
  {
   "cell_type": "code",
   "execution_count": 20,
   "id": "7dd6940c-fc4b-4b43-817b-7013a64d804a",
   "metadata": {},
   "outputs": [
    {
     "name": "stdout",
     "output_type": "stream",
     "text": [
      "0           0.0\n",
      "1           0.0\n",
      "2           1.0\n",
      "3           2.0\n",
      "4           3.0\n",
      "          ...  \n",
      "243812     98.0\n",
      "243813     99.0\n",
      "243814     99.0\n",
      "243815    101.0\n",
      "243816    101.0\n",
      "Name: score, Length: 243817, dtype: float64\n"
     ]
    }
   ],
   "source": [
    "curr_score = 0\n",
    "for i in range(df.shape[0]):\n",
    "    if df['ball'].iloc[i] == 0.1:\n",
    "        curr_score = 0\n",
    "    curr_score += df.iloc[i, 11:17].sum()\n",
    "    df.at[i, 'score'] = curr_score\n",
    "print(df['score'])"
   ]
  },
  {
   "cell_type": "code",
   "execution_count": 21,
   "id": "e4e055b1-7a9d-434c-ad53-59eeb9e76a19",
   "metadata": {},
   "outputs": [],
   "source": [
    "df1=df[[\"venue\",\"ball\",\"batting_team\",\"bowling_team\",\"striker\",\"non_striker\",\"score\"]]"
   ]
  },
  {
   "cell_type": "code",
   "execution_count": 22,
   "id": "33be69fa-e702-42bd-8bc7-d99698f27b7f",
   "metadata": {},
   "outputs": [
    {
     "data": {
      "text/html": [
       "<div>\n",
       "<style scoped>\n",
       "    .dataframe tbody tr th:only-of-type {\n",
       "        vertical-align: middle;\n",
       "    }\n",
       "\n",
       "    .dataframe tbody tr th {\n",
       "        vertical-align: top;\n",
       "    }\n",
       "\n",
       "    .dataframe thead th {\n",
       "        text-align: right;\n",
       "    }\n",
       "</style>\n",
       "<table border=\"1\" class=\"dataframe\">\n",
       "  <thead>\n",
       "    <tr style=\"text-align: right;\">\n",
       "      <th></th>\n",
       "      <th>venue</th>\n",
       "      <th>ball</th>\n",
       "      <th>batting_team</th>\n",
       "      <th>bowling_team</th>\n",
       "      <th>striker</th>\n",
       "      <th>non_striker</th>\n",
       "      <th>score</th>\n",
       "    </tr>\n",
       "  </thead>\n",
       "  <tbody>\n",
       "    <tr>\n",
       "      <th>0</th>\n",
       "      <td>Narendra Modi Stadium, Ahmedabad</td>\n",
       "      <td>0.1</td>\n",
       "      <td>Gujarat Titans</td>\n",
       "      <td>Chennai Super Kings</td>\n",
       "      <td>WP Saha</td>\n",
       "      <td>Shubman Gill</td>\n",
       "      <td>0.0</td>\n",
       "    </tr>\n",
       "    <tr>\n",
       "      <th>1</th>\n",
       "      <td>Narendra Modi Stadium, Ahmedabad</td>\n",
       "      <td>0.2</td>\n",
       "      <td>Gujarat Titans</td>\n",
       "      <td>Chennai Super Kings</td>\n",
       "      <td>WP Saha</td>\n",
       "      <td>Shubman Gill</td>\n",
       "      <td>0.0</td>\n",
       "    </tr>\n",
       "    <tr>\n",
       "      <th>2</th>\n",
       "      <td>Narendra Modi Stadium, Ahmedabad</td>\n",
       "      <td>0.3</td>\n",
       "      <td>Gujarat Titans</td>\n",
       "      <td>Chennai Super Kings</td>\n",
       "      <td>WP Saha</td>\n",
       "      <td>Shubman Gill</td>\n",
       "      <td>1.0</td>\n",
       "    </tr>\n",
       "    <tr>\n",
       "      <th>3</th>\n",
       "      <td>Narendra Modi Stadium, Ahmedabad</td>\n",
       "      <td>0.4</td>\n",
       "      <td>Gujarat Titans</td>\n",
       "      <td>Chennai Super Kings</td>\n",
       "      <td>Shubman Gill</td>\n",
       "      <td>WP Saha</td>\n",
       "      <td>2.0</td>\n",
       "    </tr>\n",
       "    <tr>\n",
       "      <th>4</th>\n",
       "      <td>Narendra Modi Stadium, Ahmedabad</td>\n",
       "      <td>0.5</td>\n",
       "      <td>Gujarat Titans</td>\n",
       "      <td>Chennai Super Kings</td>\n",
       "      <td>WP Saha</td>\n",
       "      <td>Shubman Gill</td>\n",
       "      <td>3.0</td>\n",
       "    </tr>\n",
       "    <tr>\n",
       "      <th>...</th>\n",
       "      <td>...</td>\n",
       "      <td>...</td>\n",
       "      <td>...</td>\n",
       "      <td>...</td>\n",
       "      <td>...</td>\n",
       "      <td>...</td>\n",
       "      <td>...</td>\n",
       "    </tr>\n",
       "    <tr>\n",
       "      <th>243812</th>\n",
       "      <td>M Chinnaswamy Stadium</td>\n",
       "      <td>14.5</td>\n",
       "      <td>Royal Challengers Bangalore</td>\n",
       "      <td>Kolkata Knight Riders</td>\n",
       "      <td>P Kumar</td>\n",
       "      <td>SB Joshi</td>\n",
       "      <td>98.0</td>\n",
       "    </tr>\n",
       "    <tr>\n",
       "      <th>243813</th>\n",
       "      <td>M Chinnaswamy Stadium</td>\n",
       "      <td>14.6</td>\n",
       "      <td>Royal Challengers Bangalore</td>\n",
       "      <td>Kolkata Knight Riders</td>\n",
       "      <td>SB Joshi</td>\n",
       "      <td>P Kumar</td>\n",
       "      <td>99.0</td>\n",
       "    </tr>\n",
       "    <tr>\n",
       "      <th>243814</th>\n",
       "      <td>M Chinnaswamy Stadium</td>\n",
       "      <td>14.7</td>\n",
       "      <td>Royal Challengers Bangalore</td>\n",
       "      <td>Kolkata Knight Riders</td>\n",
       "      <td>P Kumar</td>\n",
       "      <td>SB Joshi</td>\n",
       "      <td>99.0</td>\n",
       "    </tr>\n",
       "    <tr>\n",
       "      <th>243815</th>\n",
       "      <td>M Chinnaswamy Stadium</td>\n",
       "      <td>15.1</td>\n",
       "      <td>Royal Challengers Bangalore</td>\n",
       "      <td>Kolkata Knight Riders</td>\n",
       "      <td>SB Joshi</td>\n",
       "      <td>P Kumar</td>\n",
       "      <td>101.0</td>\n",
       "    </tr>\n",
       "    <tr>\n",
       "      <th>243816</th>\n",
       "      <td>M Chinnaswamy Stadium</td>\n",
       "      <td>15.2</td>\n",
       "      <td>Royal Challengers Bangalore</td>\n",
       "      <td>Kolkata Knight Riders</td>\n",
       "      <td>SB Joshi</td>\n",
       "      <td>P Kumar</td>\n",
       "      <td>101.0</td>\n",
       "    </tr>\n",
       "  </tbody>\n",
       "</table>\n",
       "<p>243817 rows × 7 columns</p>\n",
       "</div>"
      ],
      "text/plain": [
       "                                   venue  ball                 batting_team  \\\n",
       "0       Narendra Modi Stadium, Ahmedabad   0.1               Gujarat Titans   \n",
       "1       Narendra Modi Stadium, Ahmedabad   0.2               Gujarat Titans   \n",
       "2       Narendra Modi Stadium, Ahmedabad   0.3               Gujarat Titans   \n",
       "3       Narendra Modi Stadium, Ahmedabad   0.4               Gujarat Titans   \n",
       "4       Narendra Modi Stadium, Ahmedabad   0.5               Gujarat Titans   \n",
       "...                                  ...   ...                          ...   \n",
       "243812             M Chinnaswamy Stadium  14.5  Royal Challengers Bangalore   \n",
       "243813             M Chinnaswamy Stadium  14.6  Royal Challengers Bangalore   \n",
       "243814             M Chinnaswamy Stadium  14.7  Royal Challengers Bangalore   \n",
       "243815             M Chinnaswamy Stadium  15.1  Royal Challengers Bangalore   \n",
       "243816             M Chinnaswamy Stadium  15.2  Royal Challengers Bangalore   \n",
       "\n",
       "                 bowling_team       striker   non_striker  score  \n",
       "0         Chennai Super Kings       WP Saha  Shubman Gill    0.0  \n",
       "1         Chennai Super Kings       WP Saha  Shubman Gill    0.0  \n",
       "2         Chennai Super Kings       WP Saha  Shubman Gill    1.0  \n",
       "3         Chennai Super Kings  Shubman Gill       WP Saha    2.0  \n",
       "4         Chennai Super Kings       WP Saha  Shubman Gill    3.0  \n",
       "...                       ...           ...           ...    ...  \n",
       "243812  Kolkata Knight Riders       P Kumar      SB Joshi   98.0  \n",
       "243813  Kolkata Knight Riders      SB Joshi       P Kumar   99.0  \n",
       "243814  Kolkata Knight Riders       P Kumar      SB Joshi   99.0  \n",
       "243815  Kolkata Knight Riders      SB Joshi       P Kumar  101.0  \n",
       "243816  Kolkata Knight Riders      SB Joshi       P Kumar  101.0  \n",
       "\n",
       "[243817 rows x 7 columns]"
      ]
     },
     "execution_count": 22,
     "metadata": {},
     "output_type": "execute_result"
    }
   ],
   "source": [
    "df1"
   ]
  },
  {
   "cell_type": "code",
   "execution_count": 23,
   "id": "6d234f2e-9216-464b-b0a1-e82e0d0cce42",
   "metadata": {},
   "outputs": [],
   "source": [
    "from sklearn.model_selection import train_test_split\n",
    "from sklearn.preprocessing import OneHotEncoder"
   ]
  },
  {
   "cell_type": "code",
   "execution_count": 24,
   "id": "784c9055-4bf1-46d9-b121-42ff2c90359b",
   "metadata": {},
   "outputs": [],
   "source": [
    "df_encoded = pd.get_dummies(df1, columns=['batting_team',\"bowling_team\"], prefix=['bat','bowl'])"
   ]
  },
  {
   "cell_type": "code",
   "execution_count": 25,
   "id": "5c366fee-060c-48a0-b4e5-e7d54a99377d",
   "metadata": {},
   "outputs": [
    {
     "data": {
      "text/html": [
       "<div>\n",
       "<style scoped>\n",
       "    .dataframe tbody tr th:only-of-type {\n",
       "        vertical-align: middle;\n",
       "    }\n",
       "\n",
       "    .dataframe tbody tr th {\n",
       "        vertical-align: top;\n",
       "    }\n",
       "\n",
       "    .dataframe thead th {\n",
       "        text-align: right;\n",
       "    }\n",
       "</style>\n",
       "<table border=\"1\" class=\"dataframe\">\n",
       "  <thead>\n",
       "    <tr style=\"text-align: right;\">\n",
       "      <th></th>\n",
       "      <th>venue</th>\n",
       "      <th>ball</th>\n",
       "      <th>striker</th>\n",
       "      <th>non_striker</th>\n",
       "      <th>score</th>\n",
       "      <th>bat_Chennai Super Kings</th>\n",
       "      <th>bat_Deccan Chargers</th>\n",
       "      <th>bat_Delhi Capitals</th>\n",
       "      <th>bat_Delhi Daredevils</th>\n",
       "      <th>bat_Gujarat Lions</th>\n",
       "      <th>...</th>\n",
       "      <th>bowl_Kolkata Knight Riders</th>\n",
       "      <th>bowl_Lucknow Super Giants</th>\n",
       "      <th>bowl_Mumbai Indians</th>\n",
       "      <th>bowl_Pune Warriors</th>\n",
       "      <th>bowl_Punjab Kings</th>\n",
       "      <th>bowl_Rajasthan Royals</th>\n",
       "      <th>bowl_Rising Pune Supergiant</th>\n",
       "      <th>bowl_Rising Pune Supergiants</th>\n",
       "      <th>bowl_Royal Challengers Bangalore</th>\n",
       "      <th>bowl_Sunrisers Hyderabad</th>\n",
       "    </tr>\n",
       "  </thead>\n",
       "  <tbody>\n",
       "    <tr>\n",
       "      <th>0</th>\n",
       "      <td>Narendra Modi Stadium, Ahmedabad</td>\n",
       "      <td>0.1</td>\n",
       "      <td>WP Saha</td>\n",
       "      <td>Shubman Gill</td>\n",
       "      <td>0.0</td>\n",
       "      <td>False</td>\n",
       "      <td>False</td>\n",
       "      <td>False</td>\n",
       "      <td>False</td>\n",
       "      <td>False</td>\n",
       "      <td>...</td>\n",
       "      <td>False</td>\n",
       "      <td>False</td>\n",
       "      <td>False</td>\n",
       "      <td>False</td>\n",
       "      <td>False</td>\n",
       "      <td>False</td>\n",
       "      <td>False</td>\n",
       "      <td>False</td>\n",
       "      <td>False</td>\n",
       "      <td>False</td>\n",
       "    </tr>\n",
       "    <tr>\n",
       "      <th>1</th>\n",
       "      <td>Narendra Modi Stadium, Ahmedabad</td>\n",
       "      <td>0.2</td>\n",
       "      <td>WP Saha</td>\n",
       "      <td>Shubman Gill</td>\n",
       "      <td>0.0</td>\n",
       "      <td>False</td>\n",
       "      <td>False</td>\n",
       "      <td>False</td>\n",
       "      <td>False</td>\n",
       "      <td>False</td>\n",
       "      <td>...</td>\n",
       "      <td>False</td>\n",
       "      <td>False</td>\n",
       "      <td>False</td>\n",
       "      <td>False</td>\n",
       "      <td>False</td>\n",
       "      <td>False</td>\n",
       "      <td>False</td>\n",
       "      <td>False</td>\n",
       "      <td>False</td>\n",
       "      <td>False</td>\n",
       "    </tr>\n",
       "    <tr>\n",
       "      <th>2</th>\n",
       "      <td>Narendra Modi Stadium, Ahmedabad</td>\n",
       "      <td>0.3</td>\n",
       "      <td>WP Saha</td>\n",
       "      <td>Shubman Gill</td>\n",
       "      <td>1.0</td>\n",
       "      <td>False</td>\n",
       "      <td>False</td>\n",
       "      <td>False</td>\n",
       "      <td>False</td>\n",
       "      <td>False</td>\n",
       "      <td>...</td>\n",
       "      <td>False</td>\n",
       "      <td>False</td>\n",
       "      <td>False</td>\n",
       "      <td>False</td>\n",
       "      <td>False</td>\n",
       "      <td>False</td>\n",
       "      <td>False</td>\n",
       "      <td>False</td>\n",
       "      <td>False</td>\n",
       "      <td>False</td>\n",
       "    </tr>\n",
       "    <tr>\n",
       "      <th>3</th>\n",
       "      <td>Narendra Modi Stadium, Ahmedabad</td>\n",
       "      <td>0.4</td>\n",
       "      <td>Shubman Gill</td>\n",
       "      <td>WP Saha</td>\n",
       "      <td>2.0</td>\n",
       "      <td>False</td>\n",
       "      <td>False</td>\n",
       "      <td>False</td>\n",
       "      <td>False</td>\n",
       "      <td>False</td>\n",
       "      <td>...</td>\n",
       "      <td>False</td>\n",
       "      <td>False</td>\n",
       "      <td>False</td>\n",
       "      <td>False</td>\n",
       "      <td>False</td>\n",
       "      <td>False</td>\n",
       "      <td>False</td>\n",
       "      <td>False</td>\n",
       "      <td>False</td>\n",
       "      <td>False</td>\n",
       "    </tr>\n",
       "    <tr>\n",
       "      <th>4</th>\n",
       "      <td>Narendra Modi Stadium, Ahmedabad</td>\n",
       "      <td>0.5</td>\n",
       "      <td>WP Saha</td>\n",
       "      <td>Shubman Gill</td>\n",
       "      <td>3.0</td>\n",
       "      <td>False</td>\n",
       "      <td>False</td>\n",
       "      <td>False</td>\n",
       "      <td>False</td>\n",
       "      <td>False</td>\n",
       "      <td>...</td>\n",
       "      <td>False</td>\n",
       "      <td>False</td>\n",
       "      <td>False</td>\n",
       "      <td>False</td>\n",
       "      <td>False</td>\n",
       "      <td>False</td>\n",
       "      <td>False</td>\n",
       "      <td>False</td>\n",
       "      <td>False</td>\n",
       "      <td>False</td>\n",
       "    </tr>\n",
       "    <tr>\n",
       "      <th>...</th>\n",
       "      <td>...</td>\n",
       "      <td>...</td>\n",
       "      <td>...</td>\n",
       "      <td>...</td>\n",
       "      <td>...</td>\n",
       "      <td>...</td>\n",
       "      <td>...</td>\n",
       "      <td>...</td>\n",
       "      <td>...</td>\n",
       "      <td>...</td>\n",
       "      <td>...</td>\n",
       "      <td>...</td>\n",
       "      <td>...</td>\n",
       "      <td>...</td>\n",
       "      <td>...</td>\n",
       "      <td>...</td>\n",
       "      <td>...</td>\n",
       "      <td>...</td>\n",
       "      <td>...</td>\n",
       "      <td>...</td>\n",
       "      <td>...</td>\n",
       "    </tr>\n",
       "    <tr>\n",
       "      <th>243812</th>\n",
       "      <td>M Chinnaswamy Stadium</td>\n",
       "      <td>14.5</td>\n",
       "      <td>P Kumar</td>\n",
       "      <td>SB Joshi</td>\n",
       "      <td>98.0</td>\n",
       "      <td>False</td>\n",
       "      <td>False</td>\n",
       "      <td>False</td>\n",
       "      <td>False</td>\n",
       "      <td>False</td>\n",
       "      <td>...</td>\n",
       "      <td>True</td>\n",
       "      <td>False</td>\n",
       "      <td>False</td>\n",
       "      <td>False</td>\n",
       "      <td>False</td>\n",
       "      <td>False</td>\n",
       "      <td>False</td>\n",
       "      <td>False</td>\n",
       "      <td>False</td>\n",
       "      <td>False</td>\n",
       "    </tr>\n",
       "    <tr>\n",
       "      <th>243813</th>\n",
       "      <td>M Chinnaswamy Stadium</td>\n",
       "      <td>14.6</td>\n",
       "      <td>SB Joshi</td>\n",
       "      <td>P Kumar</td>\n",
       "      <td>99.0</td>\n",
       "      <td>False</td>\n",
       "      <td>False</td>\n",
       "      <td>False</td>\n",
       "      <td>False</td>\n",
       "      <td>False</td>\n",
       "      <td>...</td>\n",
       "      <td>True</td>\n",
       "      <td>False</td>\n",
       "      <td>False</td>\n",
       "      <td>False</td>\n",
       "      <td>False</td>\n",
       "      <td>False</td>\n",
       "      <td>False</td>\n",
       "      <td>False</td>\n",
       "      <td>False</td>\n",
       "      <td>False</td>\n",
       "    </tr>\n",
       "    <tr>\n",
       "      <th>243814</th>\n",
       "      <td>M Chinnaswamy Stadium</td>\n",
       "      <td>14.7</td>\n",
       "      <td>P Kumar</td>\n",
       "      <td>SB Joshi</td>\n",
       "      <td>99.0</td>\n",
       "      <td>False</td>\n",
       "      <td>False</td>\n",
       "      <td>False</td>\n",
       "      <td>False</td>\n",
       "      <td>False</td>\n",
       "      <td>...</td>\n",
       "      <td>True</td>\n",
       "      <td>False</td>\n",
       "      <td>False</td>\n",
       "      <td>False</td>\n",
       "      <td>False</td>\n",
       "      <td>False</td>\n",
       "      <td>False</td>\n",
       "      <td>False</td>\n",
       "      <td>False</td>\n",
       "      <td>False</td>\n",
       "    </tr>\n",
       "    <tr>\n",
       "      <th>243815</th>\n",
       "      <td>M Chinnaswamy Stadium</td>\n",
       "      <td>15.1</td>\n",
       "      <td>SB Joshi</td>\n",
       "      <td>P Kumar</td>\n",
       "      <td>101.0</td>\n",
       "      <td>False</td>\n",
       "      <td>False</td>\n",
       "      <td>False</td>\n",
       "      <td>False</td>\n",
       "      <td>False</td>\n",
       "      <td>...</td>\n",
       "      <td>True</td>\n",
       "      <td>False</td>\n",
       "      <td>False</td>\n",
       "      <td>False</td>\n",
       "      <td>False</td>\n",
       "      <td>False</td>\n",
       "      <td>False</td>\n",
       "      <td>False</td>\n",
       "      <td>False</td>\n",
       "      <td>False</td>\n",
       "    </tr>\n",
       "    <tr>\n",
       "      <th>243816</th>\n",
       "      <td>M Chinnaswamy Stadium</td>\n",
       "      <td>15.2</td>\n",
       "      <td>SB Joshi</td>\n",
       "      <td>P Kumar</td>\n",
       "      <td>101.0</td>\n",
       "      <td>False</td>\n",
       "      <td>False</td>\n",
       "      <td>False</td>\n",
       "      <td>False</td>\n",
       "      <td>False</td>\n",
       "      <td>...</td>\n",
       "      <td>True</td>\n",
       "      <td>False</td>\n",
       "      <td>False</td>\n",
       "      <td>False</td>\n",
       "      <td>False</td>\n",
       "      <td>False</td>\n",
       "      <td>False</td>\n",
       "      <td>False</td>\n",
       "      <td>False</td>\n",
       "      <td>False</td>\n",
       "    </tr>\n",
       "  </tbody>\n",
       "</table>\n",
       "<p>243817 rows × 41 columns</p>\n",
       "</div>"
      ],
      "text/plain": [
       "                                   venue  ball       striker   non_striker  \\\n",
       "0       Narendra Modi Stadium, Ahmedabad   0.1       WP Saha  Shubman Gill   \n",
       "1       Narendra Modi Stadium, Ahmedabad   0.2       WP Saha  Shubman Gill   \n",
       "2       Narendra Modi Stadium, Ahmedabad   0.3       WP Saha  Shubman Gill   \n",
       "3       Narendra Modi Stadium, Ahmedabad   0.4  Shubman Gill       WP Saha   \n",
       "4       Narendra Modi Stadium, Ahmedabad   0.5       WP Saha  Shubman Gill   \n",
       "...                                  ...   ...           ...           ...   \n",
       "243812             M Chinnaswamy Stadium  14.5       P Kumar      SB Joshi   \n",
       "243813             M Chinnaswamy Stadium  14.6      SB Joshi       P Kumar   \n",
       "243814             M Chinnaswamy Stadium  14.7       P Kumar      SB Joshi   \n",
       "243815             M Chinnaswamy Stadium  15.1      SB Joshi       P Kumar   \n",
       "243816             M Chinnaswamy Stadium  15.2      SB Joshi       P Kumar   \n",
       "\n",
       "        score  bat_Chennai Super Kings  bat_Deccan Chargers  \\\n",
       "0         0.0                    False                False   \n",
       "1         0.0                    False                False   \n",
       "2         1.0                    False                False   \n",
       "3         2.0                    False                False   \n",
       "4         3.0                    False                False   \n",
       "...       ...                      ...                  ...   \n",
       "243812   98.0                    False                False   \n",
       "243813   99.0                    False                False   \n",
       "243814   99.0                    False                False   \n",
       "243815  101.0                    False                False   \n",
       "243816  101.0                    False                False   \n",
       "\n",
       "        bat_Delhi Capitals  bat_Delhi Daredevils  bat_Gujarat Lions  ...  \\\n",
       "0                    False                 False              False  ...   \n",
       "1                    False                 False              False  ...   \n",
       "2                    False                 False              False  ...   \n",
       "3                    False                 False              False  ...   \n",
       "4                    False                 False              False  ...   \n",
       "...                    ...                   ...                ...  ...   \n",
       "243812               False                 False              False  ...   \n",
       "243813               False                 False              False  ...   \n",
       "243814               False                 False              False  ...   \n",
       "243815               False                 False              False  ...   \n",
       "243816               False                 False              False  ...   \n",
       "\n",
       "        bowl_Kolkata Knight Riders  bowl_Lucknow Super Giants  \\\n",
       "0                            False                      False   \n",
       "1                            False                      False   \n",
       "2                            False                      False   \n",
       "3                            False                      False   \n",
       "4                            False                      False   \n",
       "...                            ...                        ...   \n",
       "243812                        True                      False   \n",
       "243813                        True                      False   \n",
       "243814                        True                      False   \n",
       "243815                        True                      False   \n",
       "243816                        True                      False   \n",
       "\n",
       "        bowl_Mumbai Indians  bowl_Pune Warriors  bowl_Punjab Kings  \\\n",
       "0                     False               False              False   \n",
       "1                     False               False              False   \n",
       "2                     False               False              False   \n",
       "3                     False               False              False   \n",
       "4                     False               False              False   \n",
       "...                     ...                 ...                ...   \n",
       "243812                False               False              False   \n",
       "243813                False               False              False   \n",
       "243814                False               False              False   \n",
       "243815                False               False              False   \n",
       "243816                False               False              False   \n",
       "\n",
       "        bowl_Rajasthan Royals  bowl_Rising Pune Supergiant  \\\n",
       "0                       False                        False   \n",
       "1                       False                        False   \n",
       "2                       False                        False   \n",
       "3                       False                        False   \n",
       "4                       False                        False   \n",
       "...                       ...                          ...   \n",
       "243812                  False                        False   \n",
       "243813                  False                        False   \n",
       "243814                  False                        False   \n",
       "243815                  False                        False   \n",
       "243816                  False                        False   \n",
       "\n",
       "        bowl_Rising Pune Supergiants  bowl_Royal Challengers Bangalore  \\\n",
       "0                              False                             False   \n",
       "1                              False                             False   \n",
       "2                              False                             False   \n",
       "3                              False                             False   \n",
       "4                              False                             False   \n",
       "...                              ...                               ...   \n",
       "243812                         False                             False   \n",
       "243813                         False                             False   \n",
       "243814                         False                             False   \n",
       "243815                         False                             False   \n",
       "243816                         False                             False   \n",
       "\n",
       "        bowl_Sunrisers Hyderabad  \n",
       "0                          False  \n",
       "1                          False  \n",
       "2                          False  \n",
       "3                          False  \n",
       "4                          False  \n",
       "...                          ...  \n",
       "243812                     False  \n",
       "243813                     False  \n",
       "243814                     False  \n",
       "243815                     False  \n",
       "243816                     False  \n",
       "\n",
       "[243817 rows x 41 columns]"
      ]
     },
     "execution_count": 25,
     "metadata": {},
     "output_type": "execute_result"
    }
   ],
   "source": [
    "df_encoded"
   ]
  },
  {
   "cell_type": "code",
   "execution_count": 26,
   "id": "45df0e61-2ac5-4579-b991-d1074cef69c8",
   "metadata": {},
   "outputs": [],
   "source": [
    "from sklearn.preprocessing import LabelEncoder"
   ]
  },
  {
   "cell_type": "code",
   "execution_count": 27,
   "id": "ea9fbcd8-bdfd-4687-a45b-71d8e22300ce",
   "metadata": {},
   "outputs": [],
   "source": [
    "le=LabelEncoder()\n",
    "df_encoded[\"striker\"]=le.fit_transform(df[\"striker\"])\n",
    "df_encoded[\"non_striker\"]=le.fit_transform(df[\"non_striker\"])"
   ]
  },
  {
   "cell_type": "code",
   "execution_count": 28,
   "id": "6786bc2f-a19d-4379-85c4-282aa0c3b6f0",
   "metadata": {},
   "outputs": [],
   "source": [
    "df_encoded[\"venue\"]=le.fit_transform(df[\"non_striker\"])"
   ]
  },
  {
   "cell_type": "code",
   "execution_count": 29,
   "id": "3561cd80-8c0b-46fc-b37c-e28cf5073606",
   "metadata": {},
   "outputs": [],
   "source": [
    "x=df_encoded.drop(\"score\",axis=1)\n",
    "y=df_encoded[\"score\"]"
   ]
  },
  {
   "cell_type": "code",
   "execution_count": 30,
   "id": "ef0df6ba-8b89-4841-9776-4758234aac2f",
   "metadata": {},
   "outputs": [],
   "source": [
    "x_train,x_test,y_train,y_test=train_test_split(x,y,test_size=0.2)"
   ]
  },
  {
   "cell_type": "code",
   "execution_count": 31,
   "id": "d51b14e7-06d4-442e-bb54-51516142b069",
   "metadata": {},
   "outputs": [],
   "source": [
    "from sklearn.linear_model import LinearRegression\n",
    "lr=LinearRegression()\n"
   ]
  },
  {
   "cell_type": "code",
   "execution_count": 32,
   "id": "b920e4e1-7a11-4def-bab2-07565ebffa9b",
   "metadata": {},
   "outputs": [
    {
     "data": {
      "text/html": [
       "<style>#sk-container-id-1 {color: black;}#sk-container-id-1 pre{padding: 0;}#sk-container-id-1 div.sk-toggleable {background-color: white;}#sk-container-id-1 label.sk-toggleable__label {cursor: pointer;display: block;width: 100%;margin-bottom: 0;padding: 0.3em;box-sizing: border-box;text-align: center;}#sk-container-id-1 label.sk-toggleable__label-arrow:before {content: \"▸\";float: left;margin-right: 0.25em;color: #696969;}#sk-container-id-1 label.sk-toggleable__label-arrow:hover:before {color: black;}#sk-container-id-1 div.sk-estimator:hover label.sk-toggleable__label-arrow:before {color: black;}#sk-container-id-1 div.sk-toggleable__content {max-height: 0;max-width: 0;overflow: hidden;text-align: left;background-color: #f0f8ff;}#sk-container-id-1 div.sk-toggleable__content pre {margin: 0.2em;color: black;border-radius: 0.25em;background-color: #f0f8ff;}#sk-container-id-1 input.sk-toggleable__control:checked~div.sk-toggleable__content {max-height: 200px;max-width: 100%;overflow: auto;}#sk-container-id-1 input.sk-toggleable__control:checked~label.sk-toggleable__label-arrow:before {content: \"▾\";}#sk-container-id-1 div.sk-estimator input.sk-toggleable__control:checked~label.sk-toggleable__label {background-color: #d4ebff;}#sk-container-id-1 div.sk-label input.sk-toggleable__control:checked~label.sk-toggleable__label {background-color: #d4ebff;}#sk-container-id-1 input.sk-hidden--visually {border: 0;clip: rect(1px 1px 1px 1px);clip: rect(1px, 1px, 1px, 1px);height: 1px;margin: -1px;overflow: hidden;padding: 0;position: absolute;width: 1px;}#sk-container-id-1 div.sk-estimator {font-family: monospace;background-color: #f0f8ff;border: 1px dotted black;border-radius: 0.25em;box-sizing: border-box;margin-bottom: 0.5em;}#sk-container-id-1 div.sk-estimator:hover {background-color: #d4ebff;}#sk-container-id-1 div.sk-parallel-item::after {content: \"\";width: 100%;border-bottom: 1px solid gray;flex-grow: 1;}#sk-container-id-1 div.sk-label:hover label.sk-toggleable__label {background-color: #d4ebff;}#sk-container-id-1 div.sk-serial::before {content: \"\";position: absolute;border-left: 1px solid gray;box-sizing: border-box;top: 0;bottom: 0;left: 50%;z-index: 0;}#sk-container-id-1 div.sk-serial {display: flex;flex-direction: column;align-items: center;background-color: white;padding-right: 0.2em;padding-left: 0.2em;position: relative;}#sk-container-id-1 div.sk-item {position: relative;z-index: 1;}#sk-container-id-1 div.sk-parallel {display: flex;align-items: stretch;justify-content: center;background-color: white;position: relative;}#sk-container-id-1 div.sk-item::before, #sk-container-id-1 div.sk-parallel-item::before {content: \"\";position: absolute;border-left: 1px solid gray;box-sizing: border-box;top: 0;bottom: 0;left: 50%;z-index: -1;}#sk-container-id-1 div.sk-parallel-item {display: flex;flex-direction: column;z-index: 1;position: relative;background-color: white;}#sk-container-id-1 div.sk-parallel-item:first-child::after {align-self: flex-end;width: 50%;}#sk-container-id-1 div.sk-parallel-item:last-child::after {align-self: flex-start;width: 50%;}#sk-container-id-1 div.sk-parallel-item:only-child::after {width: 0;}#sk-container-id-1 div.sk-dashed-wrapped {border: 1px dashed gray;margin: 0 0.4em 0.5em 0.4em;box-sizing: border-box;padding-bottom: 0.4em;background-color: white;}#sk-container-id-1 div.sk-label label {font-family: monospace;font-weight: bold;display: inline-block;line-height: 1.2em;}#sk-container-id-1 div.sk-label-container {text-align: center;}#sk-container-id-1 div.sk-container {/* jupyter's `normalize.less` sets `[hidden] { display: none; }` but bootstrap.min.css set `[hidden] { display: none !important; }` so we also need the `!important` here to be able to override the default hidden behavior on the sphinx rendered scikit-learn.org. See: https://github.com/scikit-learn/scikit-learn/issues/21755 */display: inline-block !important;position: relative;}#sk-container-id-1 div.sk-text-repr-fallback {display: none;}</style><div id=\"sk-container-id-1\" class=\"sk-top-container\"><div class=\"sk-text-repr-fallback\"><pre>LinearRegression()</pre><b>In a Jupyter environment, please rerun this cell to show the HTML representation or trust the notebook. <br />On GitHub, the HTML representation is unable to render, please try loading this page with nbviewer.org.</b></div><div class=\"sk-container\" hidden><div class=\"sk-item\"><div class=\"sk-estimator sk-toggleable\"><input class=\"sk-toggleable__control sk-hidden--visually\" id=\"sk-estimator-id-1\" type=\"checkbox\" checked><label for=\"sk-estimator-id-1\" class=\"sk-toggleable__label sk-toggleable__label-arrow\">LinearRegression</label><div class=\"sk-toggleable__content\"><pre>LinearRegression()</pre></div></div></div></div></div>"
      ],
      "text/plain": [
       "LinearRegression()"
      ]
     },
     "execution_count": 32,
     "metadata": {},
     "output_type": "execute_result"
    }
   ],
   "source": [
    "lr.fit(x_train,y_train)"
   ]
  },
  {
   "cell_type": "code",
   "execution_count": 33,
   "id": "69abd775-b63a-49b5-a01b-fcc144102f92",
   "metadata": {},
   "outputs": [
    {
     "data": {
      "text/plain": [
       "0.8833085595080878"
      ]
     },
     "execution_count": 33,
     "metadata": {},
     "output_type": "execute_result"
    }
   ],
   "source": [
    "lr.score(x_test,y_test)"
   ]
  },
  {
   "cell_type": "code",
   "execution_count": 34,
   "id": "faf9f559-33ec-4bd2-a814-edc0b5d4f712",
   "metadata": {},
   "outputs": [],
   "source": [
    "from sklearn.svm import SVR\n",
    "svm=SVR()"
   ]
  },
  {
   "cell_type": "code",
   "execution_count": 35,
   "id": "0ffda84f-5777-4182-9305-12b075fe09ac",
   "metadata": {},
   "outputs": [
    {
     "data": {
      "text/html": [
       "<style>#sk-container-id-2 {color: black;}#sk-container-id-2 pre{padding: 0;}#sk-container-id-2 div.sk-toggleable {background-color: white;}#sk-container-id-2 label.sk-toggleable__label {cursor: pointer;display: block;width: 100%;margin-bottom: 0;padding: 0.3em;box-sizing: border-box;text-align: center;}#sk-container-id-2 label.sk-toggleable__label-arrow:before {content: \"▸\";float: left;margin-right: 0.25em;color: #696969;}#sk-container-id-2 label.sk-toggleable__label-arrow:hover:before {color: black;}#sk-container-id-2 div.sk-estimator:hover label.sk-toggleable__label-arrow:before {color: black;}#sk-container-id-2 div.sk-toggleable__content {max-height: 0;max-width: 0;overflow: hidden;text-align: left;background-color: #f0f8ff;}#sk-container-id-2 div.sk-toggleable__content pre {margin: 0.2em;color: black;border-radius: 0.25em;background-color: #f0f8ff;}#sk-container-id-2 input.sk-toggleable__control:checked~div.sk-toggleable__content {max-height: 200px;max-width: 100%;overflow: auto;}#sk-container-id-2 input.sk-toggleable__control:checked~label.sk-toggleable__label-arrow:before {content: \"▾\";}#sk-container-id-2 div.sk-estimator input.sk-toggleable__control:checked~label.sk-toggleable__label {background-color: #d4ebff;}#sk-container-id-2 div.sk-label input.sk-toggleable__control:checked~label.sk-toggleable__label {background-color: #d4ebff;}#sk-container-id-2 input.sk-hidden--visually {border: 0;clip: rect(1px 1px 1px 1px);clip: rect(1px, 1px, 1px, 1px);height: 1px;margin: -1px;overflow: hidden;padding: 0;position: absolute;width: 1px;}#sk-container-id-2 div.sk-estimator {font-family: monospace;background-color: #f0f8ff;border: 1px dotted black;border-radius: 0.25em;box-sizing: border-box;margin-bottom: 0.5em;}#sk-container-id-2 div.sk-estimator:hover {background-color: #d4ebff;}#sk-container-id-2 div.sk-parallel-item::after {content: \"\";width: 100%;border-bottom: 1px solid gray;flex-grow: 1;}#sk-container-id-2 div.sk-label:hover label.sk-toggleable__label {background-color: #d4ebff;}#sk-container-id-2 div.sk-serial::before {content: \"\";position: absolute;border-left: 1px solid gray;box-sizing: border-box;top: 0;bottom: 0;left: 50%;z-index: 0;}#sk-container-id-2 div.sk-serial {display: flex;flex-direction: column;align-items: center;background-color: white;padding-right: 0.2em;padding-left: 0.2em;position: relative;}#sk-container-id-2 div.sk-item {position: relative;z-index: 1;}#sk-container-id-2 div.sk-parallel {display: flex;align-items: stretch;justify-content: center;background-color: white;position: relative;}#sk-container-id-2 div.sk-item::before, #sk-container-id-2 div.sk-parallel-item::before {content: \"\";position: absolute;border-left: 1px solid gray;box-sizing: border-box;top: 0;bottom: 0;left: 50%;z-index: -1;}#sk-container-id-2 div.sk-parallel-item {display: flex;flex-direction: column;z-index: 1;position: relative;background-color: white;}#sk-container-id-2 div.sk-parallel-item:first-child::after {align-self: flex-end;width: 50%;}#sk-container-id-2 div.sk-parallel-item:last-child::after {align-self: flex-start;width: 50%;}#sk-container-id-2 div.sk-parallel-item:only-child::after {width: 0;}#sk-container-id-2 div.sk-dashed-wrapped {border: 1px dashed gray;margin: 0 0.4em 0.5em 0.4em;box-sizing: border-box;padding-bottom: 0.4em;background-color: white;}#sk-container-id-2 div.sk-label label {font-family: monospace;font-weight: bold;display: inline-block;line-height: 1.2em;}#sk-container-id-2 div.sk-label-container {text-align: center;}#sk-container-id-2 div.sk-container {/* jupyter's `normalize.less` sets `[hidden] { display: none; }` but bootstrap.min.css set `[hidden] { display: none !important; }` so we also need the `!important` here to be able to override the default hidden behavior on the sphinx rendered scikit-learn.org. See: https://github.com/scikit-learn/scikit-learn/issues/21755 */display: inline-block !important;position: relative;}#sk-container-id-2 div.sk-text-repr-fallback {display: none;}</style><div id=\"sk-container-id-2\" class=\"sk-top-container\"><div class=\"sk-text-repr-fallback\"><pre>SVR()</pre><b>In a Jupyter environment, please rerun this cell to show the HTML representation or trust the notebook. <br />On GitHub, the HTML representation is unable to render, please try loading this page with nbviewer.org.</b></div><div class=\"sk-container\" hidden><div class=\"sk-item\"><div class=\"sk-estimator sk-toggleable\"><input class=\"sk-toggleable__control sk-hidden--visually\" id=\"sk-estimator-id-2\" type=\"checkbox\" checked><label for=\"sk-estimator-id-2\" class=\"sk-toggleable__label sk-toggleable__label-arrow\">SVR</label><div class=\"sk-toggleable__content\"><pre>SVR()</pre></div></div></div></div></div>"
      ],
      "text/plain": [
       "SVR()"
      ]
     },
     "execution_count": 35,
     "metadata": {},
     "output_type": "execute_result"
    }
   ],
   "source": [
    "svm.fit(x_train,y_train)"
   ]
  },
  {
   "cell_type": "code",
   "execution_count": 36,
   "id": "376ff29e-a543-4d00-8b49-b69485eac866",
   "metadata": {},
   "outputs": [
    {
     "data": {
      "text/plain": [
       "0.4930351602362587"
      ]
     },
     "execution_count": 36,
     "metadata": {},
     "output_type": "execute_result"
    }
   ],
   "source": [
    "svm.score(x_test,y_test)"
   ]
  },
  {
   "cell_type": "code",
   "execution_count": 41,
   "id": "c37954d8-ed33-4e05-855e-b8c2e6b99da0",
   "metadata": {},
   "outputs": [
    {
     "name": "stdout",
     "output_type": "stream",
     "text": [
      "WARNING:tensorflow:From C:\\Users\\Naveen\\AppData\\Local\\Programs\\Python\\Python311\\Lib\\site-packages\\keras\\src\\losses.py:2976: The name tf.losses.sparse_softmax_cross_entropy is deprecated. Please use tf.compat.v1.losses.sparse_softmax_cross_entropy instead.\n",
      "\n"
     ]
    }
   ],
   "source": [
    "import tensorflow as tf\n",
    "from tensorflow.keras.models import Sequential\n",
    "from tensorflow.keras.layers import LSTM, Dense"
   ]
  },
  {
   "cell_type": "code",
   "execution_count": 70,
   "id": "ee4fe20d-53ae-40c7-9563-f6c7486ad8da",
   "metadata": {},
   "outputs": [
    {
     "name": "stdout",
     "output_type": "stream",
     "text": [
      "Series([], dtype: object)\n"
     ]
    }
   ],
   "source": [
    "print(df_encoded[bool_columns].dtypes)"
   ]
  },
  {
   "cell_type": "code",
   "execution_count": 71,
   "id": "d0781b08-18f3-42b1-a9f3-0ac63c163736",
   "metadata": {},
   "outputs": [],
   "source": [
    "# Select boolean columns\n",
    "bool_columns = df_encoded.select_dtypes(include='bool').columns\n",
    "\n",
    "# If there are boolean columns present\n",
    "if not bool_columns.empty:\n",
    "    # Convert boolean columns to integers\n",
    "    df_encoded[bool_columns] = df_encoded[bool_columns].astype(int)\n",
    "else:\n",
    "    print(\"No boolean columns found in the DataFrame.\")\n"
   ]
  },
  {
   "cell_type": "code",
   "execution_count": 72,
   "id": "8034d888-3a8d-4104-8dac-3add632fe940",
   "metadata": {},
   "outputs": [
    {
     "data": {
      "text/plain": [
       "venue                                 int32\n",
       "ball                                float64\n",
       "striker                               int32\n",
       "non_striker                           int32\n",
       "score                               float64\n",
       "bat_Chennai Super Kings               int32\n",
       "bat_Deccan Chargers                   int32\n",
       "bat_Delhi Capitals                    int32\n",
       "bat_Delhi Daredevils                  int32\n",
       "bat_Gujarat Lions                     int32\n",
       "bat_Gujarat Titans                    int32\n",
       "bat_Kings XI Punjab                   int32\n",
       "bat_Kochi Tuskers Kerala              int32\n",
       "bat_Kolkata Knight Riders             int32\n",
       "bat_Lucknow Super Giants              int32\n",
       "bat_Mumbai Indians                    int32\n",
       "bat_Pune Warriors                     int32\n",
       "bat_Punjab Kings                      int32\n",
       "bat_Rajasthan Royals                  int32\n",
       "bat_Rising Pune Supergiant            int32\n",
       "bat_Rising Pune Supergiants           int32\n",
       "bat_Royal Challengers Bangalore       int32\n",
       "bat_Sunrisers Hyderabad               int32\n",
       "bowl_Chennai Super Kings              int32\n",
       "bowl_Deccan Chargers                  int32\n",
       "bowl_Delhi Capitals                   int32\n",
       "bowl_Delhi Daredevils                 int32\n",
       "bowl_Gujarat Lions                    int32\n",
       "bowl_Gujarat Titans                   int32\n",
       "bowl_Kings XI Punjab                  int32\n",
       "bowl_Kochi Tuskers Kerala             int32\n",
       "bowl_Kolkata Knight Riders            int32\n",
       "bowl_Lucknow Super Giants             int32\n",
       "bowl_Mumbai Indians                   int32\n",
       "bowl_Pune Warriors                    int32\n",
       "bowl_Punjab Kings                     int32\n",
       "bowl_Rajasthan Royals                 int32\n",
       "bowl_Rising Pune Supergiant           int32\n",
       "bowl_Rising Pune Supergiants          int32\n",
       "bowl_Royal Challengers Bangalore      int32\n",
       "bowl_Sunrisers Hyderabad              int32\n",
       "dtype: object"
      ]
     },
     "execution_count": 72,
     "metadata": {},
     "output_type": "execute_result"
    }
   ],
   "source": [
    "df_encoded.dtypes"
   ]
  },
  {
   "cell_type": "code",
   "execution_count": 73,
   "id": "d81ccee9-0c3b-474c-b81c-83408b082ec3",
   "metadata": {},
   "outputs": [],
   "source": [
    "from sklearn.preprocessing import StandardScaler"
   ]
  },
  {
   "cell_type": "code",
   "execution_count": 74,
   "id": "9b4a53d3-38dd-455a-86fc-e0254edbec4b",
   "metadata": {},
   "outputs": [],
   "source": [
    "ss=StandardScaler()\n",
    "x_train_scaled=ss.fit_transform(x_train)\n",
    "x_test_scaled=ss.fit_transform(x_test)"
   ]
  },
  {
   "cell_type": "code",
   "execution_count": 75,
   "id": "88eb9120-70da-450f-bcde-8941d9da39d9",
   "metadata": {},
   "outputs": [],
   "source": [
    "x_train_reshaped=x_train_scaled.reshape(x_train_scaled.shape[0], 1, x_train_scaled.shape[1])\n",
    "x_test_reshaped=x_test_scaled.reshape(x_test_scaled.shape[0], 1, x_test_scaled.shape[1])"
   ]
  },
  {
   "cell_type": "code",
   "execution_count": 76,
   "id": "d890b7ec-48b5-4ec1-bf0d-50f49dab9251",
   "metadata": {},
   "outputs": [],
   "source": [
    "model = Sequential([\n",
    "    LSTM(50, input_shape=(x_train_reshaped.shape[1], x_train_reshaped.shape[2])),  # LSTM layer with 50 units\n",
    "    Dense(1)  # Output layer with 1 neuron (for regression)\n",
    "])\n"
   ]
  },
  {
   "cell_type": "code",
   "execution_count": 77,
   "id": "7247285e-0455-4637-a7bd-24d55315d7cb",
   "metadata": {},
   "outputs": [],
   "source": [
    "model.compile(optimizer='adam', loss='mean_squared_error')"
   ]
  },
  {
   "cell_type": "code",
   "execution_count": 78,
   "id": "d67fcf63-c446-4940-89ff-08bc6d85eb1b",
   "metadata": {},
   "outputs": [
    {
     "name": "stdout",
     "output_type": "stream",
     "text": [
      "Epoch 1/10\n",
      "4877/4877 [==============================] - 21s 3ms/step - loss: 2322.6138 - val_loss: 503.9281\n",
      "Epoch 2/10\n",
      "4877/4877 [==============================] - 15s 3ms/step - loss: 363.1448 - val_loss: 306.9242\n",
      "Epoch 3/10\n",
      "4877/4877 [==============================] - 14s 3ms/step - loss: 290.4637 - val_loss: 282.7135\n",
      "Epoch 4/10\n",
      "4877/4877 [==============================] - 13s 3ms/step - loss: 275.5549 - val_loss: 272.8210\n",
      "Epoch 5/10\n",
      "4877/4877 [==============================] - 13s 3ms/step - loss: 268.2047 - val_loss: 267.1344\n",
      "Epoch 6/10\n",
      "4877/4877 [==============================] - 13s 3ms/step - loss: 263.3991 - val_loss: 264.7016\n",
      "Epoch 7/10\n",
      "4877/4877 [==============================] - 13s 3ms/step - loss: 259.8143 - val_loss: 261.1883\n",
      "Epoch 8/10\n",
      "4877/4877 [==============================] - 13s 3ms/step - loss: 256.7545 - val_loss: 257.6418\n",
      "Epoch 9/10\n",
      "4877/4877 [==============================] - 14s 3ms/step - loss: 253.9824 - val_loss: 256.1289\n",
      "Epoch 10/10\n",
      "4877/4877 [==============================] - 13s 3ms/step - loss: 251.8754 - val_loss: 253.7248\n"
     ]
    },
    {
     "data": {
      "text/plain": [
       "<keras.src.callbacks.History at 0x1a7904dfb10>"
      ]
     },
     "execution_count": 78,
     "metadata": {},
     "output_type": "execute_result"
    }
   ],
   "source": [
    "model.fit(x_train_reshaped, y_train, epochs=10, batch_size=32, validation_split=0.2)"
   ]
  },
  {
   "cell_type": "code",
   "execution_count": 79,
   "id": "ddabbd40-6c55-4071-afd7-1ec9c2e2c89d",
   "metadata": {},
   "outputs": [
    {
     "name": "stdout",
     "output_type": "stream",
     "text": [
      "1524/1524 [==============================] - 4s 3ms/step - loss: 252.1916\n"
     ]
    }
   ],
   "source": [
    "loss = model.evaluate(x_test_reshaped, y_test)"
   ]
  },
  {
   "cell_type": "code",
   "execution_count": 55,
   "id": "ddc1bd61-d7b2-4026-85d6-a354be10cbfe",
   "metadata": {},
   "outputs": [],
   "source": [
    "y_mean=y.sum()//len(y)"
   ]
  },
  {
   "cell_type": "code",
   "execution_count": 80,
   "id": "08e61059-32f3-4a1e-ba2f-8afc1e76480b",
   "metadata": {},
   "outputs": [
    {
     "ename": "ValueError",
     "evalue": "Failed to convert a NumPy array to a Tensor (Unsupported object type int).",
     "output_type": "error",
     "traceback": [
      "\u001b[1;31m---------------------------------------------------------------------------\u001b[0m",
      "\u001b[1;31mValueError\u001b[0m                                Traceback (most recent call last)",
      "Cell \u001b[1;32mIn[80], line 3\u001b[0m\n\u001b[0;32m      1\u001b[0m \u001b[38;5;28;01mfrom\u001b[39;00m \u001b[38;5;21;01msklearn\u001b[39;00m\u001b[38;5;21;01m.\u001b[39;00m\u001b[38;5;21;01mmetrics\u001b[39;00m \u001b[38;5;28;01mimport\u001b[39;00m mean_absolute_error, mean_squared_error\n\u001b[1;32m----> 3\u001b[0m y_pred \u001b[38;5;241m=\u001b[39m \u001b[43mmodel\u001b[49m\u001b[38;5;241;43m.\u001b[39;49m\u001b[43mpredict\u001b[49m\u001b[43m(\u001b[49m\u001b[43mx_test\u001b[49m\u001b[43m)\u001b[49m\n\u001b[0;32m      5\u001b[0m \u001b[38;5;66;03m# Calculate Mean Absolute Error (MAE)\u001b[39;00m\n\u001b[0;32m      6\u001b[0m mae \u001b[38;5;241m=\u001b[39m mean_absolute_error(y_test, y_pred)\n",
      "File \u001b[1;32m~\\AppData\\Local\\Programs\\Python\\Python311\\Lib\\site-packages\\keras\\src\\utils\\traceback_utils.py:70\u001b[0m, in \u001b[0;36mfilter_traceback.<locals>.error_handler\u001b[1;34m(*args, **kwargs)\u001b[0m\n\u001b[0;32m     67\u001b[0m     filtered_tb \u001b[38;5;241m=\u001b[39m _process_traceback_frames(e\u001b[38;5;241m.\u001b[39m__traceback__)\n\u001b[0;32m     68\u001b[0m     \u001b[38;5;66;03m# To get the full stack trace, call:\u001b[39;00m\n\u001b[0;32m     69\u001b[0m     \u001b[38;5;66;03m# `tf.debugging.disable_traceback_filtering()`\u001b[39;00m\n\u001b[1;32m---> 70\u001b[0m     \u001b[38;5;28;01mraise\u001b[39;00m e\u001b[38;5;241m.\u001b[39mwith_traceback(filtered_tb) \u001b[38;5;28;01mfrom\u001b[39;00m \u001b[38;5;28;01mNone\u001b[39;00m\n\u001b[0;32m     71\u001b[0m \u001b[38;5;28;01mfinally\u001b[39;00m:\n\u001b[0;32m     72\u001b[0m     \u001b[38;5;28;01mdel\u001b[39;00m filtered_tb\n",
      "File \u001b[1;32m~\\AppData\\Local\\Programs\\Python\\Python311\\Lib\\site-packages\\tensorflow\\python\\framework\\constant_op.py:103\u001b[0m, in \u001b[0;36mconvert_to_eager_tensor\u001b[1;34m(value, ctx, dtype)\u001b[0m\n\u001b[0;32m    101\u001b[0m     dtype \u001b[38;5;241m=\u001b[39m dtypes\u001b[38;5;241m.\u001b[39mas_dtype(dtype)\u001b[38;5;241m.\u001b[39mas_datatype_enum\n\u001b[0;32m    102\u001b[0m ctx\u001b[38;5;241m.\u001b[39mensure_initialized()\n\u001b[1;32m--> 103\u001b[0m \u001b[38;5;28;01mreturn\u001b[39;00m \u001b[43mops\u001b[49m\u001b[38;5;241;43m.\u001b[39;49m\u001b[43mEagerTensor\u001b[49m\u001b[43m(\u001b[49m\u001b[43mvalue\u001b[49m\u001b[43m,\u001b[49m\u001b[43m \u001b[49m\u001b[43mctx\u001b[49m\u001b[38;5;241;43m.\u001b[39;49m\u001b[43mdevice_name\u001b[49m\u001b[43m,\u001b[49m\u001b[43m \u001b[49m\u001b[43mdtype\u001b[49m\u001b[43m)\u001b[49m\n",
      "\u001b[1;31mValueError\u001b[0m: Failed to convert a NumPy array to a Tensor (Unsupported object type int)."
     ]
    }
   ],
   "source": [
    "from sklearn.metrics import mean_absolute_error, mean_squared_error\n",
    "\n",
    "y_pred = model.predict(x_test)\n",
    "\n",
    "# Calculate Mean Absolute Error (MAE)\n",
    "mae = mean_absolute_error(y_test, y_pred)\n",
    "\n",
    "# Calculate Mean Squared Error (MSE)\n",
    "mse = mean_squared_error(y_test, y_pred)\n",
    "\n",
    "# Calculate Root Mean Squared Error (RMSE)\n",
    "rmse = mean_squared_error(y_test, y_pred, squared=False)  # RMSE is the square root of MSE\n",
    "\n",
    "print(f'Mean Absolute Error: {mae}')\n",
    "print(f'Mean Squared Error: {mse}')\n",
    "print(f'Root Mean Squared Error: {rmse}')"
   ]
  },
  {
   "cell_type": "code",
   "execution_count": 88,
   "id": "323992d6-2f4a-47d5-a142-8f5549217167",
   "metadata": {},
   "outputs": [],
   "source": [
    "df6=pd.read_csv(\"ppd.csv\")"
   ]
  },
  {
   "cell_type": "code",
   "execution_count": 91,
   "id": "7c31c11f-db4f-4bff-8b59-8c2b491dfdd8",
   "metadata": {},
   "outputs": [],
   "source": [
    "df6=df6.iloc[:,1:]"
   ]
  },
  {
   "cell_type": "code",
   "execution_count": 97,
   "id": "daf6472d-8e38-42c0-a565-ec769f36cbdc",
   "metadata": {},
   "outputs": [
    {
     "data": {
      "text/html": [
       "<div>\n",
       "<style scoped>\n",
       "    .dataframe tbody tr th:only-of-type {\n",
       "        vertical-align: middle;\n",
       "    }\n",
       "\n",
       "    .dataframe tbody tr th {\n",
       "        vertical-align: top;\n",
       "    }\n",
       "\n",
       "    .dataframe thead th {\n",
       "        text-align: right;\n",
       "    }\n",
       "</style>\n",
       "<table border=\"1\" class=\"dataframe\">\n",
       "  <thead>\n",
       "    <tr style=\"text-align: right;\">\n",
       "      <th></th>\n",
       "      <th>striker</th>\n",
       "      <th>match_id</th>\n",
       "      <th>runs_off_bat</th>\n",
       "      <th>balls</th>\n",
       "      <th>season</th>\n",
       "      <th>start_date</th>\n",
       "      <th>venue</th>\n",
       "    </tr>\n",
       "  </thead>\n",
       "  <tbody>\n",
       "    <tr>\n",
       "      <th>0</th>\n",
       "      <td>A Ashish Reddy</td>\n",
       "      <td>548346</td>\n",
       "      <td>10</td>\n",
       "      <td>10</td>\n",
       "      <td>2012</td>\n",
       "      <td>2012-04-29</td>\n",
       "      <td>Wankhede Stadium</td>\n",
       "    </tr>\n",
       "    <tr>\n",
       "      <th>1</th>\n",
       "      <td>A Mishra</td>\n",
       "      <td>548346</td>\n",
       "      <td>1</td>\n",
       "      <td>6</td>\n",
       "      <td>2012</td>\n",
       "      <td>2012-04-29</td>\n",
       "      <td>Wankhede Stadium</td>\n",
       "    </tr>\n",
       "    <tr>\n",
       "      <th>2</th>\n",
       "      <td>AT Rayudu</td>\n",
       "      <td>548346</td>\n",
       "      <td>19</td>\n",
       "      <td>15</td>\n",
       "      <td>2012</td>\n",
       "      <td>2012-04-29</td>\n",
       "      <td>Wankhede Stadium</td>\n",
       "    </tr>\n",
       "    <tr>\n",
       "      <th>3</th>\n",
       "      <td>B Chipli</td>\n",
       "      <td>548346</td>\n",
       "      <td>1</td>\n",
       "      <td>3</td>\n",
       "      <td>2012</td>\n",
       "      <td>2012-04-29</td>\n",
       "      <td>Wankhede Stadium</td>\n",
       "    </tr>\n",
       "    <tr>\n",
       "      <th>4</th>\n",
       "      <td>CL White</td>\n",
       "      <td>548346</td>\n",
       "      <td>0</td>\n",
       "      <td>1</td>\n",
       "      <td>2012</td>\n",
       "      <td>2012-04-29</td>\n",
       "      <td>Wankhede Stadium</td>\n",
       "    </tr>\n",
       "  </tbody>\n",
       "</table>\n",
       "</div>"
      ],
      "text/plain": [
       "          striker  match_id  runs_off_bat  balls season  start_date  \\\n",
       "0  A Ashish Reddy    548346            10     10   2012  2012-04-29   \n",
       "1        A Mishra    548346             1      6   2012  2012-04-29   \n",
       "2       AT Rayudu    548346            19     15   2012  2012-04-29   \n",
       "3        B Chipli    548346             1      3   2012  2012-04-29   \n",
       "4        CL White    548346             0      1   2012  2012-04-29   \n",
       "\n",
       "              venue  \n",
       "0  Wankhede Stadium  \n",
       "1  Wankhede Stadium  \n",
       "2  Wankhede Stadium  \n",
       "3  Wankhede Stadium  \n",
       "4  Wankhede Stadium  "
      ]
     },
     "execution_count": 97,
     "metadata": {},
     "output_type": "execute_result"
    }
   ],
   "source": [
    "df6.head()"
   ]
  },
  {
   "cell_type": "code",
   "execution_count": 100,
   "id": "ae22d09c-4278-49ab-809f-0b4e0aaac02c",
   "metadata": {},
   "outputs": [
    {
     "data": {
      "text/plain": [
       "8.86"
      ]
     },
     "execution_count": 100,
     "metadata": {},
     "output_type": "execute_result"
    }
   ],
   "source": [
    "df6[df6[\"striker\"]==\"Rashid Khan\"][\"runs_off_bat\"].sum()"
   ]
  },
  {
   "cell_type": "code",
   "execution_count": null,
   "id": "5a5add3b-dad8-4dbe-8a20-a7453d97b0e4",
   "metadata": {},
   "outputs": [],
   "source": []
  }
 ],
 "metadata": {
  "kernelspec": {
   "display_name": "Python 3 (ipykernel)",
   "language": "python",
   "name": "python3"
  },
  "language_info": {
   "codemirror_mode": {
    "name": "ipython",
    "version": 3
   },
   "file_extension": ".py",
   "mimetype": "text/x-python",
   "name": "python",
   "nbconvert_exporter": "python",
   "pygments_lexer": "ipython3",
   "version": "3.11.1"
  },
  "widgets": {
   "application/vnd.jupyter.widget-state+json": {
    "state": {},
    "version_major": 2,
    "version_minor": 0
   }
  }
 },
 "nbformat": 4,
 "nbformat_minor": 5
}
