{
 "cells": [
  {
   "cell_type": "code",
   "execution_count": 1,
   "id": "cd2d4782-1a20-4616-99da-18cf8ed494f1",
   "metadata": {},
   "outputs": [],
   "source": [
    "import numpy as np\n",
    "import pandas as pd\n",
    "import matplotlib.pyplot as plt"
   ]
  },
  {
   "cell_type": "code",
   "execution_count": 2,
   "id": "76caebfd-635b-4541-9f53-e473192585fc",
   "metadata": {},
   "outputs": [],
   "source": [
    "df=pd.read_csv(\"BallsTraining.csv\")"
   ]
  },
  {
   "cell_type": "code",
   "execution_count": 4,
   "id": "a2d78689-75aa-4e20-9cd9-ebf81422587c",
   "metadata": {},
   "outputs": [],
   "source": [
    "df=df.iloc[:,1:]"
   ]
  },
  {
   "cell_type": "code",
   "execution_count": 12,
   "id": "f3cf358b-abdf-49a2-a759-ca1688b7ca74",
   "metadata": {},
   "outputs": [],
   "source": [
    "x=df.drop(\"y\",axis=1).values\n",
    "y=df[\"y\"].values"
   ]
  },
  {
   "cell_type": "code",
   "execution_count": 13,
   "id": "f36481d3-8324-4850-8d3f-fb7d5eaa46a5",
   "metadata": {},
   "outputs": [],
   "source": [
    "from sklearn.model_selection import train_test_split"
   ]
  },
  {
   "cell_type": "code",
   "execution_count": 14,
   "id": "3083ab79-c7e8-4f76-abd6-c4c93e5da133",
   "metadata": {},
   "outputs": [],
   "source": [
    "x_train,x_test,y_train,y_test=train_test_split(x,y)"
   ]
  },
  {
   "cell_type": "code",
   "execution_count": 15,
   "id": "c2135039-9eaa-4e76-8906-954ae5d08298",
   "metadata": {},
   "outputs": [],
   "source": [
    "import tensorflow as tf\n",
    "from tensorflow.keras.models import Sequential\n",
    "from tensorflow.keras.layers import LSTM, Dense"
   ]
  },
  {
   "cell_type": "code",
   "execution_count": 16,
   "id": "2f3a87a1-e1a6-4a39-91ab-843dc5dd445f",
   "metadata": {},
   "outputs": [],
   "source": [
    "x_train_reshaped = x_train.reshape(x_train.shape[0], 1, x_train.shape[1])\n",
    "x_test_reshaped = x_test.reshape(x_test.shape[0], 1, x_test.shape[1])"
   ]
  },
  {
   "cell_type": "code",
   "execution_count": 62,
   "id": "3b30facd-5e2e-445f-a5c8-47fc663d1454",
   "metadata": {},
   "outputs": [],
   "source": [
    "def create_model():\n",
    "    model = tf.keras.Sequential([\n",
    "        tf.keras.layers.LSTM(4, input_shape=(1, 10)),\n",
    "        tf.keras.layers.Dense(1)\n",
    "    ])\n",
    "    return model"
   ]
  },
  {
   "cell_type": "code",
   "execution_count": 63,
   "id": "43007d4a-ca9b-4428-972c-c04c0e03797c",
   "metadata": {},
   "outputs": [],
   "source": [
    "model=create_model()"
   ]
  },
  {
   "cell_type": "code",
   "execution_count": 65,
   "id": "cd1d2133-54f1-4a48-953f-f5fa32c3070e",
   "metadata": {},
   "outputs": [],
   "source": [
    "model.compile(loss='mean_squared_error', optimizer='adam')"
   ]
  },
  {
   "cell_type": "code",
   "execution_count": 66,
   "id": "374c1882-b23a-4e57-b38c-05b105b5977f",
   "metadata": {},
   "outputs": [
    {
     "name": "stdout",
     "output_type": "stream",
     "text": [
      "Epoch 1/20\n",
      "8364/8364 - 18s - loss: 200.0915 - 18s/epoch - 2ms/step\n",
      "Epoch 2/20\n",
      "8364/8364 - 17s - loss: 188.5309 - 17s/epoch - 2ms/step\n",
      "Epoch 3/20\n",
      "8364/8364 - 14s - loss: 183.1879 - 14s/epoch - 2ms/step\n",
      "Epoch 4/20\n",
      "8364/8364 - 13s - loss: 178.3526 - 13s/epoch - 2ms/step\n",
      "Epoch 5/20\n",
      "8364/8364 - 13s - loss: 175.5967 - 13s/epoch - 2ms/step\n",
      "Epoch 6/20\n",
      "8364/8364 - 13s - loss: 175.4408 - 13s/epoch - 2ms/step\n",
      "Epoch 7/20\n",
      "8364/8364 - 13s - loss: 174.8988 - 13s/epoch - 2ms/step\n",
      "Epoch 8/20\n",
      "8364/8364 - 15s - loss: 174.8224 - 15s/epoch - 2ms/step\n",
      "Epoch 9/20\n",
      "8364/8364 - 15s - loss: 174.8275 - 15s/epoch - 2ms/step\n",
      "Epoch 10/20\n",
      "8364/8364 - 14s - loss: 174.6786 - 14s/epoch - 2ms/step\n",
      "Epoch 11/20\n",
      "8364/8364 - 14s - loss: 174.1499 - 14s/epoch - 2ms/step\n",
      "Epoch 12/20\n",
      "8364/8364 - 17s - loss: 174.1475 - 17s/epoch - 2ms/step\n",
      "Epoch 13/20\n",
      "8364/8364 - 16s - loss: 174.0796 - 16s/epoch - 2ms/step\n",
      "Epoch 14/20\n",
      "8364/8364 - 17s - loss: 177.4890 - 17s/epoch - 2ms/step\n",
      "Epoch 15/20\n",
      "8364/8364 - 17s - loss: 175.0985 - 17s/epoch - 2ms/step\n",
      "Epoch 16/20\n",
      "8364/8364 - 17s - loss: 174.5162 - 17s/epoch - 2ms/step\n",
      "Epoch 17/20\n",
      "8364/8364 - 17s - loss: 174.8210 - 17s/epoch - 2ms/step\n",
      "Epoch 18/20\n",
      "8364/8364 - 17s - loss: 173.8870 - 17s/epoch - 2ms/step\n",
      "Epoch 19/20\n",
      "8364/8364 - 17s - loss: 174.4289 - 17s/epoch - 2ms/step\n",
      "Epoch 20/20\n",
      "8364/8364 - 16s - loss: 173.7941 - 16s/epoch - 2ms/step\n"
     ]
    },
    {
     "data": {
      "text/plain": [
       "<keras.src.callbacks.History at 0x21926c30f50>"
      ]
     },
     "execution_count": 66,
     "metadata": {},
     "output_type": "execute_result"
    }
   ],
   "source": [
    "model.fit(x_train_reshaped, y_train, epochs=20, batch_size=1, verbose=2)"
   ]
  },
  {
   "cell_type": "code",
   "execution_count": 67,
   "id": "6e749758-8930-4a04-ae45-b7c7e35fbac2",
   "metadata": {},
   "outputs": [
    {
     "name": "stdout",
     "output_type": "stream",
     "text": [
      "88/88 [==============================] - 1s 2ms/step - loss: 184.6568\n"
     ]
    }
   ],
   "source": [
    "loss = model.evaluate(x_test_reshaped, y_test)"
   ]
  },
  {
   "cell_type": "code",
   "execution_count": 68,
   "id": "7e6e78d1-e2f5-4b30-99fb-f7b9c7d11f35",
   "metadata": {},
   "outputs": [],
   "source": [
    "ann=Sequential()"
   ]
  },
  {
   "cell_type": "code",
   "execution_count": 69,
   "id": "7b4e6760-a63d-4a7d-aef9-d48f134cdf8a",
   "metadata": {},
   "outputs": [],
   "source": [
    "ann.add(Dense(units=6,activation=\"relu\"))\n",
    "ann.add(Dense(units=6,activation=\"relu\"))\n",
    "ann.add(Dense(units=1))"
   ]
  },
  {
   "cell_type": "code",
   "execution_count": 71,
   "id": "a6f66b33-3328-42c4-87e2-40e66c451f3d",
   "metadata": {},
   "outputs": [],
   "source": [
    "ann.compile(optimizer=\"adam\",loss=\"mean_squared_error\")"
   ]
  },
  {
   "cell_type": "code",
   "execution_count": 74,
   "id": "79ad73bd-c3c1-4e07-8080-26b07312a204",
   "metadata": {},
   "outputs": [
    {
     "name": "stdout",
     "output_type": "stream",
     "text": [
      "Epoch 1/100\n",
      "262/262 [==============================] - 0s 2ms/step - loss: 172.6263\n",
      "Epoch 2/100\n",
      "262/262 [==============================] - 0s 2ms/step - loss: 172.4259\n",
      "Epoch 3/100\n",
      "262/262 [==============================] - 0s 2ms/step - loss: 172.4917\n",
      "Epoch 4/100\n",
      "262/262 [==============================] - 0s 2ms/step - loss: 172.3776\n",
      "Epoch 5/100\n",
      "262/262 [==============================] - 0s 2ms/step - loss: 172.4616\n",
      "Epoch 6/100\n",
      "262/262 [==============================] - 0s 2ms/step - loss: 172.2221\n",
      "Epoch 7/100\n",
      "262/262 [==============================] - 0s 2ms/step - loss: 172.3040\n",
      "Epoch 8/100\n",
      "262/262 [==============================] - 0s 2ms/step - loss: 172.2725\n",
      "Epoch 9/100\n",
      "262/262 [==============================] - 0s 2ms/step - loss: 172.1098\n",
      "Epoch 10/100\n",
      "262/262 [==============================] - 0s 2ms/step - loss: 171.9809\n",
      "Epoch 11/100\n",
      "262/262 [==============================] - 0s 2ms/step - loss: 172.3321\n",
      "Epoch 12/100\n",
      "262/262 [==============================] - 0s 2ms/step - loss: 172.0256\n",
      "Epoch 13/100\n",
      "262/262 [==============================] - 0s 2ms/step - loss: 171.9319\n",
      "Epoch 14/100\n",
      "262/262 [==============================] - 0s 2ms/step - loss: 171.7866\n",
      "Epoch 15/100\n",
      "262/262 [==============================] - 0s 2ms/step - loss: 172.1573\n",
      "Epoch 16/100\n",
      "262/262 [==============================] - 0s 2ms/step - loss: 172.0121\n",
      "Epoch 17/100\n",
      "262/262 [==============================] - 0s 2ms/step - loss: 171.9682\n",
      "Epoch 18/100\n",
      "262/262 [==============================] - 0s 2ms/step - loss: 171.9338\n",
      "Epoch 19/100\n",
      "262/262 [==============================] - 0s 2ms/step - loss: 171.8810\n",
      "Epoch 20/100\n",
      "262/262 [==============================] - 0s 2ms/step - loss: 172.2947\n",
      "Epoch 21/100\n",
      "262/262 [==============================] - 0s 2ms/step - loss: 171.6063\n",
      "Epoch 22/100\n",
      "262/262 [==============================] - 0s 2ms/step - loss: 171.8780\n",
      "Epoch 23/100\n",
      "262/262 [==============================] - 0s 2ms/step - loss: 171.8070\n",
      "Epoch 24/100\n",
      "262/262 [==============================] - 0s 2ms/step - loss: 172.0027\n",
      "Epoch 25/100\n",
      "262/262 [==============================] - 0s 2ms/step - loss: 171.7227\n",
      "Epoch 26/100\n",
      "262/262 [==============================] - 0s 2ms/step - loss: 171.7605\n",
      "Epoch 27/100\n",
      "262/262 [==============================] - 0s 2ms/step - loss: 171.5885\n",
      "Epoch 28/100\n",
      "262/262 [==============================] - 0s 2ms/step - loss: 171.6331\n",
      "Epoch 29/100\n",
      "262/262 [==============================] - 0s 2ms/step - loss: 171.4563\n",
      "Epoch 30/100\n",
      "262/262 [==============================] - 0s 2ms/step - loss: 171.3729\n",
      "Epoch 31/100\n",
      "262/262 [==============================] - 0s 2ms/step - loss: 171.6104\n",
      "Epoch 32/100\n",
      "262/262 [==============================] - 0s 2ms/step - loss: 171.4210\n",
      "Epoch 33/100\n",
      "262/262 [==============================] - 0s 2ms/step - loss: 171.4199\n",
      "Epoch 34/100\n",
      "262/262 [==============================] - 0s 2ms/step - loss: 171.7047\n",
      "Epoch 35/100\n",
      "262/262 [==============================] - 0s 2ms/step - loss: 171.1205\n",
      "Epoch 36/100\n",
      "262/262 [==============================] - 0s 2ms/step - loss: 171.4469\n",
      "Epoch 37/100\n",
      "262/262 [==============================] - 0s 2ms/step - loss: 171.3108\n",
      "Epoch 38/100\n",
      "262/262 [==============================] - 0s 2ms/step - loss: 171.3915\n",
      "Epoch 39/100\n",
      "262/262 [==============================] - 0s 2ms/step - loss: 171.4660\n",
      "Epoch 40/100\n",
      "262/262 [==============================] - 0s 2ms/step - loss: 171.3324\n",
      "Epoch 41/100\n",
      "262/262 [==============================] - 0s 2ms/step - loss: 171.2901\n",
      "Epoch 42/100\n",
      "262/262 [==============================] - 0s 2ms/step - loss: 171.1591\n",
      "Epoch 43/100\n",
      "262/262 [==============================] - 0s 2ms/step - loss: 171.4671\n",
      "Epoch 44/100\n",
      "262/262 [==============================] - 0s 2ms/step - loss: 171.3142\n",
      "Epoch 45/100\n",
      "262/262 [==============================] - 0s 2ms/step - loss: 170.9632\n",
      "Epoch 46/100\n",
      "262/262 [==============================] - 0s 2ms/step - loss: 171.6600\n",
      "Epoch 47/100\n",
      "262/262 [==============================] - 0s 2ms/step - loss: 171.0535\n",
      "Epoch 48/100\n",
      "262/262 [==============================] - 0s 2ms/step - loss: 171.2293\n",
      "Epoch 49/100\n",
      "262/262 [==============================] - 0s 2ms/step - loss: 171.2706\n",
      "Epoch 50/100\n",
      "262/262 [==============================] - 0s 2ms/step - loss: 171.2045\n",
      "Epoch 51/100\n",
      "262/262 [==============================] - 0s 2ms/step - loss: 171.1921\n",
      "Epoch 52/100\n",
      "262/262 [==============================] - 0s 2ms/step - loss: 171.3655\n",
      "Epoch 53/100\n",
      "262/262 [==============================] - 0s 2ms/step - loss: 171.0867\n",
      "Epoch 54/100\n",
      "262/262 [==============================] - 0s 2ms/step - loss: 171.1759\n",
      "Epoch 55/100\n",
      "262/262 [==============================] - 0s 2ms/step - loss: 171.1235\n",
      "Epoch 56/100\n",
      "262/262 [==============================] - 0s 2ms/step - loss: 171.0273\n",
      "Epoch 57/100\n",
      "262/262 [==============================] - 0s 2ms/step - loss: 171.1009\n",
      "Epoch 58/100\n",
      "262/262 [==============================] - 0s 2ms/step - loss: 171.0319\n",
      "Epoch 59/100\n",
      "262/262 [==============================] - 0s 2ms/step - loss: 171.0491\n",
      "Epoch 60/100\n",
      "262/262 [==============================] - 0s 2ms/step - loss: 171.2995\n",
      "Epoch 61/100\n",
      "262/262 [==============================] - 0s 2ms/step - loss: 171.5515\n",
      "Epoch 62/100\n",
      "262/262 [==============================] - 0s 2ms/step - loss: 171.2969\n",
      "Epoch 63/100\n",
      "262/262 [==============================] - 0s 2ms/step - loss: 171.1920\n",
      "Epoch 64/100\n",
      "262/262 [==============================] - 0s 2ms/step - loss: 171.0937\n",
      "Epoch 65/100\n",
      "262/262 [==============================] - 0s 2ms/step - loss: 171.1611\n",
      "Epoch 66/100\n",
      "262/262 [==============================] - 0s 2ms/step - loss: 170.9667\n",
      "Epoch 67/100\n",
      "262/262 [==============================] - 0s 2ms/step - loss: 171.2808\n",
      "Epoch 68/100\n",
      "262/262 [==============================] - 0s 2ms/step - loss: 171.1801\n",
      "Epoch 69/100\n",
      "262/262 [==============================] - 0s 2ms/step - loss: 171.2457\n",
      "Epoch 70/100\n",
      "262/262 [==============================] - 0s 2ms/step - loss: 171.2852\n",
      "Epoch 71/100\n",
      "262/262 [==============================] - 0s 2ms/step - loss: 171.0896\n",
      "Epoch 72/100\n",
      "262/262 [==============================] - 0s 2ms/step - loss: 171.0203\n",
      "Epoch 73/100\n",
      "262/262 [==============================] - 0s 1ms/step - loss: 171.1092\n",
      "Epoch 74/100\n",
      "262/262 [==============================] - 0s 2ms/step - loss: 171.0296\n",
      "Epoch 75/100\n",
      "262/262 [==============================] - 0s 2ms/step - loss: 171.0493\n",
      "Epoch 76/100\n",
      "262/262 [==============================] - 0s 2ms/step - loss: 171.0425\n",
      "Epoch 77/100\n",
      "262/262 [==============================] - 0s 2ms/step - loss: 171.2654\n",
      "Epoch 78/100\n",
      "262/262 [==============================] - 0s 2ms/step - loss: 171.0535\n",
      "Epoch 79/100\n",
      "262/262 [==============================] - 0s 2ms/step - loss: 170.9243\n",
      "Epoch 80/100\n",
      "262/262 [==============================] - 0s 2ms/step - loss: 171.1517\n",
      "Epoch 81/100\n",
      "262/262 [==============================] - 0s 2ms/step - loss: 171.3367\n",
      "Epoch 82/100\n",
      "262/262 [==============================] - 0s 2ms/step - loss: 170.9048\n",
      "Epoch 83/100\n",
      "262/262 [==============================] - 0s 2ms/step - loss: 171.0280\n",
      "Epoch 84/100\n",
      "262/262 [==============================] - 0s 2ms/step - loss: 171.0382\n",
      "Epoch 85/100\n",
      "262/262 [==============================] - 0s 2ms/step - loss: 171.0941\n",
      "Epoch 86/100\n",
      "262/262 [==============================] - 0s 2ms/step - loss: 170.9160\n",
      "Epoch 87/100\n",
      "262/262 [==============================] - 0s 2ms/step - loss: 171.0443\n",
      "Epoch 88/100\n",
      "262/262 [==============================] - 0s 2ms/step - loss: 171.1571\n",
      "Epoch 89/100\n",
      "262/262 [==============================] - 0s 2ms/step - loss: 171.1879\n",
      "Epoch 90/100\n",
      "262/262 [==============================] - 0s 2ms/step - loss: 170.9009\n",
      "Epoch 91/100\n",
      "262/262 [==============================] - 0s 2ms/step - loss: 170.9072\n",
      "Epoch 92/100\n",
      "262/262 [==============================] - 0s 2ms/step - loss: 171.4978\n",
      "Epoch 93/100\n",
      "262/262 [==============================] - 0s 2ms/step - loss: 170.9466\n",
      "Epoch 94/100\n",
      "262/262 [==============================] - 0s 2ms/step - loss: 171.1161\n",
      "Epoch 95/100\n",
      "262/262 [==============================] - 0s 2ms/step - loss: 170.9256\n",
      "Epoch 96/100\n",
      "262/262 [==============================] - 0s 2ms/step - loss: 171.0123\n",
      "Epoch 97/100\n",
      "262/262 [==============================] - 0s 2ms/step - loss: 171.0868\n",
      "Epoch 98/100\n",
      "262/262 [==============================] - 0s 2ms/step - loss: 170.8665\n",
      "Epoch 99/100\n",
      "262/262 [==============================] - 0s 2ms/step - loss: 170.9623\n",
      "Epoch 100/100\n",
      "262/262 [==============================] - 0s 2ms/step - loss: 170.7420\n"
     ]
    },
    {
     "data": {
      "text/plain": [
       "<keras.src.callbacks.History at 0x218e33b42d0>"
      ]
     },
     "execution_count": 74,
     "metadata": {},
     "output_type": "execute_result"
    }
   ],
   "source": [
    "ann.fit(x_train,y_train,epochs=100,batch_size=32)"
   ]
  },
  {
   "cell_type": "code",
   "execution_count": 75,
   "id": "afd2b0b7-61c6-4169-877c-256ac43eb4c1",
   "metadata": {},
   "outputs": [
    {
     "name": "stdout",
     "output_type": "stream",
     "text": [
      "88/88 [==============================] - 0s 1ms/step - loss: 183.6750\n"
     ]
    }
   ],
   "source": [
    "loss_ann=ann.evaluate(x_test,y_test)"
   ]
  },
  {
   "cell_type": "code",
   "execution_count": 80,
   "id": "6b35879d-67cc-4e05-bdc8-dc5cf2ecb531",
   "metadata": {},
   "outputs": [
    {
     "name": "stdout",
     "output_type": "stream",
     "text": [
      "88/88 [==============================] - 0s 1ms/step\n"
     ]
    }
   ],
   "source": [
    "y_preds=ann.predict(x_test)"
   ]
  },
  {
   "cell_type": "code",
   "execution_count": 81,
   "id": "b83a6f3e-ac6c-4487-a310-f98092db8861",
   "metadata": {},
   "outputs": [],
   "source": [
    "from keras.models import load_model\n",
    "from sklearn.metrics import mean_squared_error, mean_absolute_error, r2_score\n",
    "import numpy as np\n"
   ]
  },
  {
   "cell_type": "code",
   "execution_count": 87,
   "id": "64ac3fb0-87b2-4a98-a755-17a9655a0b46",
   "metadata": {},
   "outputs": [
    {
     "name": "stdout",
     "output_type": "stream",
     "text": [
      "MSE: 183.67499977200194\n",
      "MAE: 10.753404292636295\n",
      "RMSE: 13.552675004293505\n",
      "R2: 0.09684004651277289\n"
     ]
    }
   ],
   "source": [
    "mse = mean_squared_error(y_test, y_preds)\n",
    "mae = mean_absolute_error(y_test, y_preds)\n",
    "rmse = np.sqrt(mse)\n",
    "r2 = r2_score(y_test, y_preds)\n",
    "print(\"MSE:\",mse)\n",
    "print(\"MAE:\",mae)\n",
    "print(\"RMSE:\",rmse)\n",
    "print(\"R2:\",r2)"
   ]
  },
  {
   "cell_type": "code",
   "execution_count": 88,
   "id": "ac527c3b-1646-44c1-b289-bf56cb2cc65b",
   "metadata": {},
   "outputs": [
    {
     "name": "stderr",
     "output_type": "stream",
     "text": [
      "C:\\Users\\Naveen\\AppData\\Local\\Programs\\Python\\Python311\\Lib\\site-packages\\keras\\src\\engine\\training.py:3103: UserWarning: You are saving your model as an HDF5 file via `model.save()`. This file format is considered legacy. We recommend using instead the native Keras format, e.g. `model.save('my_model.keras')`.\n",
      "  saving_api.save_model(\n"
     ]
    }
   ],
   "source": [
    "ann.save(\"ball_model.h5\")"
   ]
  },
  {
   "cell_type": "code",
   "execution_count": null,
   "id": "6d6a8536-e228-4257-9785-29fa90e066ae",
   "metadata": {},
   "outputs": [],
   "source": []
  }
 ],
 "metadata": {
  "kernelspec": {
   "display_name": "Python 3 (ipykernel)",
   "language": "python",
   "name": "python3"
  },
  "language_info": {
   "codemirror_mode": {
    "name": "ipython",
    "version": 3
   },
   "file_extension": ".py",
   "mimetype": "text/x-python",
   "name": "python",
   "nbconvert_exporter": "python",
   "pygments_lexer": "ipython3",
   "version": "3.11.1"
  },
  "widgets": {
   "application/vnd.jupyter.widget-state+json": {
    "state": {},
    "version_major": 2,
    "version_minor": 0
   }
  }
 },
 "nbformat": 4,
 "nbformat_minor": 5
}
